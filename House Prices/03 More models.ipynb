{
 "cells": [
  {
   "cell_type": "code",
   "execution_count": 1,
   "id": "4eeacdaa",
   "metadata": {},
   "outputs": [],
   "source": [
    "import re\n",
    "from sklearn.model_selection import KFold, cross_val_score, GridSearchCV\n",
    "from sklearn import pipeline\n",
    "from sklearn import preprocessing\n",
    "from sklearn.linear_model import LinearRegression, ElasticNet, Lasso, BayesianRidge, Ridge, LassoCV, RidgeCV, ElasticNetCV\n",
    "from sklearn.metrics import mean_squared_error"
   ]
  },
  {
   "cell_type": "raw",
   "id": "993b8f34",
   "metadata": {},
   "source": [
    "train=pd.read_csv('house-prices-advanced-regression-techniques/train_clean.csv')\n",
    "test=pd.read_csv('house-prices-advanced-regression-techniques/test_clean.csv')\n",
    "y_train=pd.read_csv('house-prices-advanced-regression-techniques/y_train_clean.csv')\n",
    "y_train=np.ravel(y_train['SalePrice'])"
   ]
  },
  {
   "cell_type": "code",
   "execution_count": 2,
   "id": "43dbf6b6",
   "metadata": {},
   "outputs": [],
   "source": [
    "train=pd.read_csv('house-prices-advanced-regression-techniques/train_nobc.csv')\n",
    "test=pd.read_csv('house-prices-advanced-regression-techniques/test_nobc.csv')\n",
    "y_train=pd.read_csv('house-prices-advanced-regression-techniques/y_train_clean.csv')\n",
    "y_train=np.ravel(y_train['SalePrice'])"
   ]
  },
  {
   "cell_type": "code",
   "execution_count": 3,
   "id": "dc7b7918",
   "metadata": {
    "scrolled": true
   },
   "outputs": [
    {
     "data": {
      "text/plain": [
       "(1417, 209)"
      ]
     },
     "execution_count": 3,
     "metadata": {},
     "output_type": "execute_result"
    },
    {
     "data": {
      "text/plain": [
       "(1459, 209)"
      ]
     },
     "execution_count": 3,
     "metadata": {},
     "output_type": "execute_result"
    },
    {
     "data": {
      "text/plain": [
       "(1417,)"
      ]
     },
     "execution_count": 3,
     "metadata": {},
     "output_type": "execute_result"
    }
   ],
   "source": [
    "train.shape\n",
    "test.shape\n",
    "y_train.shape"
   ]
  },
  {
   "cell_type": "code",
   "execution_count": 4,
   "id": "8696249b",
   "metadata": {},
   "outputs": [],
   "source": [
    "test_1 = pd.read_csv('house-prices-advanced-regression-techniques/result-with-best.csv')\n",
    "\n",
    "def kaggle(y_pred):\n",
    "    score = mean_squared_error(y_true=np.log1p(test_1['SalePrice']), y_pred=np.log1p(y_pred), squared=False)\n",
    "    return print('kaggle score is:', score)"
   ]
  },
  {
   "cell_type": "markdown",
   "id": "7cc89968",
   "metadata": {},
   "source": [
    "#### Scaling"
   ]
  },
  {
   "cell_type": "code",
   "execution_count": 5,
   "id": "b401bb19",
   "metadata": {},
   "outputs": [
    {
     "data": {
      "text/plain": [
       "RobustScaler()"
      ]
     },
     "execution_count": 5,
     "metadata": {},
     "output_type": "execute_result"
    }
   ],
   "source": [
    "scaler=preprocessing.RobustScaler()\n",
    "scaler.fit(train, test)\n",
    "train = scaler.transform(train)\n",
    "test = scaler.transform(test)"
   ]
  },
  {
   "cell_type": "markdown",
   "id": "36900ce0",
   "metadata": {},
   "source": [
    "#### Model scoring w/ 5-fold CV, random_state = 20"
   ]
  },
  {
   "cell_type": "code",
   "execution_count": 6,
   "id": "4442d7ca",
   "metadata": {},
   "outputs": [],
   "source": [
    "random_state = 30\n",
    "kf = KFold(n_splits= 5, shuffle=True, random_state = random_state)"
   ]
  },
  {
   "cell_type": "code",
   "execution_count": 7,
   "id": "9ef33eb8",
   "metadata": {},
   "outputs": [],
   "source": [
    "def rmse_score(model, x=train, y=y_train):\n",
    "    rmse = np.sqrt(-cross_val_score(model, x, y, scoring=\"neg_mean_squared_error\", cv=kf))\n",
    "    return print('mean=', rmse.mean(), \"std=\", rmse.std())"
   ]
  },
  {
   "cell_type": "markdown",
   "id": "46d0460e",
   "metadata": {},
   "source": [
    "#### Model fitting and outputting"
   ]
  },
  {
   "cell_type": "code",
   "execution_count": 8,
   "id": "8d177fb8",
   "metadata": {},
   "outputs": [],
   "source": [
    "def output(model, test=test, filename=''):\n",
    "    y_test = model.predict(test)\n",
    "    y_pred = np.expm1(y_test)\n",
    "    score = kaggle(y_pred)\n",
    "   \n",
    "    if filename != '':\n",
    "        submission = pd.read_csv(\"house-prices-advanced-regression-techniques/sample_submission.csv\")\n",
    "        submission['SalePrice'] = y_pred\n",
    "        submission.to_csv('house-prices-advanced-regression-techniques/'+filename+'.csv', index=False)\n",
    "        print('output to file:', filename+'.csv')\n",
    "    \n",
    "    return sns.boxplot(x=y_test), score"
   ]
  },
  {
   "cell_type": "markdown",
   "id": "ec8ce98c",
   "metadata": {},
   "source": [
    "#### OLS"
   ]
  },
  {
   "cell_type": "code",
   "execution_count": 9,
   "id": "ea02c29d",
   "metadata": {},
   "outputs": [
    {
     "name": "stdout",
     "output_type": "stream",
     "text": [
      "mean= 0.11761866997031714 std= 0.01115680093908271\n",
      "kaggle score is: 0.15060852833140415\n"
     ]
    },
    {
     "data": {
      "image/png": "[encoded data removed]",
      "text/plain": [
       "<Figure size 432x288 with 1 Axes>"
      ]
     },
     "metadata": {
      "needs_background": "light"
     },
     "output_type": "display_data"
    }
   ],
   "source": [
    "linear_reg = pipeline.Pipeline([(\"linear\", LinearRegression())])\n",
    "\n",
    "rmse_score(linear_reg)\n",
    "linear_reg.fit(train, y_train)\n",
    "output(model=linear_reg);"
   ]
  },
  {
   "cell_type": "markdown",
   "id": "ea0701bc",
   "metadata": {},
   "source": [
    "#### Lasso "
   ]
  },
  {
   "cell_type": "raw",
   "id": "b3fc7b43",
   "metadata": {},
   "source": [
    "alphas = np.linspace(0.0001, 0.01, num=500).tolist()\n",
    "\n",
    "grid = LassoCV(alphas = alphas,\n",
    "                    max_iter =1e7,\n",
    "                    tol = 0.2,\n",
    "                    cv = kf,\n",
    "                    n_jobs=-1,\n",
    "              random_state=random_state)"
   ]
  },
  {
   "cell_type": "raw",
   "id": "421f4a7a",
   "metadata": {
    "scrolled": false
   },
   "source": [
    "grid.fit(train, y_train)\n",
    "print('lasso alpha is', grid.alpha_)\n",
    "rmse_score(grid)\n",
    "output(grid);"
   ]
  },
  {
   "cell_type": "code",
   "execution_count": 10,
   "id": "e239d2dc",
   "metadata": {},
   "outputs": [],
   "source": [
    "lasso = Lasso(alpha=0.00019919839679358718, max_iter=1e7, tol=0.001)"
   ]
  },
  {
   "cell_type": "code",
   "execution_count": 11,
   "id": "0e109092",
   "metadata": {},
   "outputs": [
    {
     "data": {
      "text/plain": [
       "Lasso(alpha=0.00019919839679358718, max_iter=10000000.0, tol=0.001)"
      ]
     },
     "execution_count": 11,
     "metadata": {},
     "output_type": "execute_result"
    },
    {
     "name": "stdout",
     "output_type": "stream",
     "text": [
      "mean= 0.10797147162081962 std= 0.013293102014718176\n",
      "kaggle score is: 0.1393742113144911\n"
     ]
    },
    {
     "data": {
      "text/plain": [
       "(<AxesSubplot:>, None)"
      ]
     },
     "execution_count": 11,
     "metadata": {},
     "output_type": "execute_result"
    },
    {
     "data": {
      "image/png": "[encoded data removed]",
      "text/plain": [
       "<Figure size 432x288 with 1 Axes>"
      ]
     },
     "metadata": {
      "needs_background": "light"
     },
     "output_type": "display_data"
    }
   ],
   "source": [
    "lasso.fit(train,y_train)\n",
    "rmse_score(lasso)\n",
    "output(lasso)"
   ]
  },
  {
   "cell_type": "markdown",
   "id": "15ddf372",
   "metadata": {},
   "source": [
    "#### Ridge"
   ]
  },
  {
   "cell_type": "raw",
   "id": "9ad7d717",
   "metadata": {
    "scrolled": true
   },
   "source": [
    "alphas = np.linspace(1, 20, num=500).tolist()\n",
    "\n",
    "ridge = RidgeCV(alphas = alphas,\n",
    "                cv = kf,\n",
    "                scoring = 'neg_mean_squared_error')"
   ]
  },
  {
   "cell_type": "raw",
   "id": "ed644cdc",
   "metadata": {},
   "source": [
    "ridge.fit(train, y_train)"
   ]
  },
  {
   "cell_type": "raw",
   "id": "c6b099c5",
   "metadata": {},
   "source": [
    "print('ridge alpha is', ridge.alpha_)\n",
    "rmse_score(ridge)\n",
    "output(ridge);"
   ]
  },
  {
   "cell_type": "code",
   "execution_count": 12,
   "id": "f2b544e7",
   "metadata": {},
   "outputs": [],
   "source": [
    "ridge = Ridge(alpha=11.631631631631633, max_iter=1e7, tol=0.001)"
   ]
  },
  {
   "cell_type": "code",
   "execution_count": 13,
   "id": "3664540a",
   "metadata": {},
   "outputs": [
    {
     "name": "stdout",
     "output_type": "stream",
     "text": [
      "mean= 0.10843958619699837 std= 0.015286515135555007\n",
      "kaggle score is: 0.1411652268456976\n"
     ]
    },
    {
     "data": {
      "image/png": "[encoded data removed]",
      "text/plain": [
       "<Figure size 432x288 with 1 Axes>"
      ]
     },
     "metadata": {
      "needs_background": "light"
     },
     "output_type": "display_data"
    }
   ],
   "source": [
    "ridge.fit(train, y_train)\n",
    "rmse_score(ridge)\n",
    "output(ridge);"
   ]
  },
  {
   "cell_type": "markdown",
   "id": "62776950",
   "metadata": {},
   "source": [
    "#### Elastic Net"
   ]
  },
  {
   "cell_type": "raw",
   "id": "d2fb362e",
   "metadata": {},
   "source": [
    "l1_ratio = np.linspace(0.01, 0.99, num=200).tolist()\n",
    "alphas = np.linspace(0.001, 0.01, num=200).tolist()\n",
    "\n",
    "elasticnet = ElasticNetCV(l1_ratio=l1_ratio,\n",
    "                          alphas = alphas,\n",
    "                          positive= True,\n",
    "                          max_iter =1e7,\n",
    "                          tol = 0.2,\n",
    "                          cv = kf,\n",
    "                          n_jobs=-1\n",
    "                          random_state=random_state)\n",
    "                          \n",
    "elasticnet.fit(train, y_train)\n",
    "elasticnet.alpha_\n",
    "elasticnet.l1_ratio_"
   ]
  },
  {
   "cell_type": "raw",
   "id": "6976c628",
   "metadata": {},
   "source": [
    "elasticnet.fit(train, y_train)"
   ]
  },
  {
   "cell_type": "raw",
   "id": "6412fa05",
   "metadata": {},
   "source": [
    "elasticnet.alpha_\n",
    "elasticnet.l1_ratio_"
   ]
  },
  {
   "cell_type": "code",
   "execution_count": 14,
   "id": "d431a64f",
   "metadata": {},
   "outputs": [
    {
     "name": "stdout",
     "output_type": "stream",
     "text": [
      "mean= 0.10776900209826086 std= 0.015297386265120979\n",
      "kaggle score is: 0.13692945666435985\n"
     ]
    },
    {
     "data": {
      "image/png": "[encoded data removed]",
      "text/plain": [
       "<Figure size 432x288 with 1 Axes>"
      ]
     },
     "metadata": {
      "needs_background": "light"
     },
     "output_type": "display_data"
    }
   ],
   "source": [
    "elasticnet = pipeline.Pipeline([(\"elastic_net\", ElasticNet(l1_ratio=0.036756756756756756,\n",
    "                                                                alpha=0.00714308617234469,\n",
    "                                                          max_iter=1e7,\n",
    "                                                          tol= 0.001,\n",
    "                                                          random_state=random_state))])\n",
    "elasticnet.fit(train, y_train)\n",
    "rmse_score(elasticnet)\n",
    "output(model=elasticnet);"
   ]
  },
  {
   "cell_type": "markdown",
   "id": "31c98312",
   "metadata": {},
   "source": [
    "#### Bayesian Ridge"
   ]
  },
  {
   "cell_type": "code",
   "execution_count": 15,
   "id": "1475384a",
   "metadata": {},
   "outputs": [
    {
     "name": "stdout",
     "output_type": "stream",
     "text": [
      "mean= 0.10845158789707628 std= 0.015338504102039746\n",
      "kaggle score is: 0.14100378805578934\n"
     ]
    },
    {
     "data": {
      "image/png": "[encoded data removed]",
      "text/plain": [
       "<Figure size 432x288 with 1 Axes>"
      ]
     },
     "metadata": {
      "needs_background": "light"
     },
     "output_type": "display_data"
    }
   ],
   "source": [
    "bayesianridge = BayesianRidge()\n",
    "bayesianridge.fit(train, y_train)\n",
    "rmse_score(bayesianridge)\n",
    "output(model=bayesianridge);"
   ]
  },
  {
   "cell_type": "markdown",
   "id": "513b4974",
   "metadata": {},
   "source": [
    "#### SVR"
   ]
  },
  {
   "cell_type": "code",
   "execution_count": 16,
   "id": "40f1b365",
   "metadata": {},
   "outputs": [],
   "source": [
    "from sklearn import svm"
   ]
  },
  {
   "cell_type": "code",
   "execution_count": 17,
   "id": "794e6c8c",
   "metadata": {},
   "outputs": [
    {
     "name": "stdout",
     "output_type": "stream",
     "text": [
      "mean= 0.16078873710981617 std= 0.009769470493960875\n",
      "kaggle score is: 0.18329996741220947\n"
     ]
    },
    {
     "data": {
      "image/png": "[encoded data removed]",
      "text/plain": [
       "<Figure size 432x288 with 1 Axes>"
      ]
     },
     "metadata": {
      "needs_background": "light"
     },
     "output_type": "display_data"
    }
   ],
   "source": [
    "svr_reg = pipeline.Pipeline([(\"svr\", svm.SVR(C=46,\n",
    "                                             epsilon= 0.00902,\n",
    "                                            gamma= 0.000343\n",
    "                             ))])\n",
    "\n",
    "svr_reg.fit(train, y_train)\n",
    "rmse_score(svr_reg)\n",
    "output(model=svr_reg);"
   ]
  },
  {
   "cell_type": "markdown",
   "id": "82005892",
   "metadata": {},
   "source": [
    "#### Stacking"
   ]
  },
  {
   "cell_type": "code",
   "execution_count": 18,
   "id": "a5fb908e",
   "metadata": {},
   "outputs": [],
   "source": [
    "from sklearn.ensemble import  GradientBoostingRegressor\n",
    "from lightgbm import LGBMRegressor\n",
    "from xgboost import XGBRegressor\n",
    "from mlxtend.regressor import  StackingCVRegressor\n"
   ]
  },
  {
   "cell_type": "code",
   "execution_count": 19,
   "id": "a53b88f7",
   "metadata": {},
   "outputs": [
    {
     "name": "stdout",
     "output_type": "stream",
     "text": [
      "mean= 0.10743844136867335 std= 0.01508846387408511\n"
     ]
    }
   ],
   "source": [
    "models=(linear_reg, lasso, ridge, elasticnet, bayesianridge, svr_reg)\n",
    "\n",
    "stackingcv=StackingCVRegressor(regressors=models, meta_regressor=elasticnet,\n",
    "                                   use_features_in_secondary=True)\n",
    "\n",
    "rmse_score(stackingcv)"
   ]
  },
  {
   "cell_type": "code",
   "execution_count": 20,
   "id": "bac4a152",
   "metadata": {},
   "outputs": [
    {
     "data": {
      "text/plain": [
       "StackingCVRegressor(meta_regressor=Pipeline(steps=[('elastic_net',\n",
       "                                                    ElasticNet(alpha=0.00714308617234469,\n",
       "                                                               l1_ratio=0.036756756756756756,\n",
       "                                                               max_iter=10000000.0,\n",
       "                                                               random_state=30,\n",
       "                                                               tol=0.001))]),\n",
       "                    regressors=(Pipeline(steps=[('linear',\n",
       "                                                 LinearRegression())]),\n",
       "                                Lasso(alpha=0.00019919839679358718,\n",
       "                                      max_iter=10000000.0, tol=0.001),\n",
       "                                Ridge(alpha=11.631631631631633,\n",
       "                                      max_iter=10000000.0),\n",
       "                                Pipeline(steps=[('elastic_net',\n",
       "                                                 ElasticNet(alpha=0.00714308617234469,\n",
       "                                                            l1_ratio=0.036756756756756756,\n",
       "                                                            max_iter=10000000.0,\n",
       "                                                            random_state=30,\n",
       "                                                            tol=0.001))]),\n",
       "                                BayesianRidge(),\n",
       "                                Pipeline(steps=[('svr',\n",
       "                                                 SVR(C=46, epsilon=0.00902,\n",
       "                                                     gamma=0.000343))])),\n",
       "                    use_features_in_secondary=True)"
      ]
     },
     "execution_count": 20,
     "metadata": {},
     "output_type": "execute_result"
    },
    {
     "name": "stdout",
     "output_type": "stream",
     "text": [
      "kaggle score is: 0.1360785267838249\n"
     ]
    },
    {
     "data": {
      "text/plain": [
       "(<AxesSubplot:>, None)"
      ]
     },
     "execution_count": 20,
     "metadata": {},
     "output_type": "execute_result"
    },
    {
     "data": {
      "image/png": "[encoded data removed]",
      "text/plain": [
       "<Figure size 432x288 with 1 Axes>"
      ]
     },
     "metadata": {
      "needs_background": "light"
     },
     "output_type": "display_data"
    }
   ],
   "source": [
    "stackingcv.fit(train, y_train)\n",
    "output(model=stackingcv)"
   ]
  },
  {
   "cell_type": "code",
   "execution_count": null,
   "id": "d243e9a9",
   "metadata": {},
   "outputs": [],
   "source": []
  }
 ],
 "metadata": {
  "kernelspec": {
   "display_name": "Python 3",
   "language": "python",
   "name": "python3"
  },
  "language_info": {
   "codemirror_mode": {
    "name": "ipython",
    "version": 3
   },
   "file_extension": ".py",
   "mimetype": "text/x-python",
   "name": "python",
   "nbconvert_exporter": "python",
   "pygments_lexer": "ipython3",
   "version": "3.7.10"
  }
 },
 "nbformat": 4,
 "nbformat_minor": 5
}
