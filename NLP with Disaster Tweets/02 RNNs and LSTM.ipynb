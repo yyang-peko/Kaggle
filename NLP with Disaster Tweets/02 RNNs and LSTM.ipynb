{
 "cells": [
  {
   "cell_type": "code",
   "execution_count": 80,
   "id": "e3fe00d2",
   "metadata": {},
   "outputs": [],
   "source": [
    "from matplotlib import pyplot as plt\n",
    "import math, os, re, time, random, string\n",
    "import numpy as np, pandas as pd, seaborn as sns\n",
    "from tqdm import tqdm\n",
    "import matplotlib.pyplot as plt\n",
    "plt.style.use('ggplot')\n",
    "import seaborn as sns\n",
    "\n",
    "from collections import defaultdict\n",
    "import wordcloud\n",
    "\n",
    "import warnings\n",
    "warnings.filterwarnings('ignore')\n",
    "\n",
    "import tensorflow as tf\n",
    "\n",
    "from tensorflow.keras.preprocessing.text import Tokenizer\n",
    "from tensorflow.keras.preprocessing.sequence import pad_sequences\n",
    "\n",
    "from tensorflow.keras.layers import *\n",
    "from tensorflow.keras import Input, Model\n",
    "from tensorflow.keras.regularizers import l2\n",
    "from tensorflow.keras.optimizers import *\n",
    "from tensorflow.keras.models import Sequential\n",
    "from tensorflow.keras.callbacks import EarlyStopping, ModelCheckpoint, ReduceLROnPlateau\n",
    "import tensorflow_addons as tfa\n",
    "\n",
    "from sklearn.metrics import *\n",
    "from sklearn.preprocessing import StandardScaler\n"
   ]
  },
  {
   "cell_type": "code",
   "execution_count": 183,
   "id": "4a881fb2",
   "metadata": {},
   "outputs": [],
   "source": [
    "train = pd.read_csv('train_cleaned.csv')\n",
    "test = pd.read_csv('test_cleaned.csv')\n",
    "#train = pd.read_csv('train_cleaned_lite.csv')\n",
    "#test = pd.read_csv('test_cleaned_lite.csv')"
   ]
  },
  {
   "cell_type": "code",
   "execution_count": 184,
   "id": "2a0a6932",
   "metadata": {},
   "outputs": [
    {
     "name": "stdout",
     "output_type": "stream",
     "text": [
      "targets shape (7613,)\n"
     ]
    }
   ],
   "source": [
    "train['text'] = train['text'].astype(str)\n",
    "test['text'] = test['text'].astype(str)\n",
    "\n",
    "labels = train['target']\n",
    "print('targets shape', labels.shape)"
   ]
  },
  {
   "cell_type": "code",
   "execution_count": 185,
   "id": "b3f70c97",
   "metadata": {},
   "outputs": [
    {
     "data": {
      "text/plain": [
       "(6090, 9)"
      ]
     },
     "execution_count": 185,
     "metadata": {},
     "output_type": "execute_result"
    },
    {
     "data": {
      "text/plain": [
       "(1523, 9)"
      ]
     },
     "execution_count": 185,
     "metadata": {},
     "output_type": "execute_result"
    },
    {
     "data": {
      "text/plain": [
       "(6090,)"
      ]
     },
     "execution_count": 185,
     "metadata": {},
     "output_type": "execute_result"
    },
    {
     "data": {
      "text/plain": [
       "(1523,)"
      ]
     },
     "execution_count": 185,
     "metadata": {},
     "output_type": "execute_result"
    }
   ],
   "source": [
    "from sklearn.model_selection import train_test_split\n",
    "\n",
    "X_train, X_val, y_train, y_val = train_test_split(train, labels, test_size = 0.2, stratify=labels)\n",
    "X_train.shape\n",
    "X_val.shape\n",
    "y_train.shape\n",
    "y_val.shape"
   ]
  },
  {
   "cell_type": "markdown",
   "id": "e06be345",
   "metadata": {},
   "source": [
    "#### Tokenizing"
   ]
  },
  {
   "cell_type": "code",
   "execution_count": 186,
   "id": "11036959",
   "metadata": {},
   "outputs": [],
   "source": [
    "for i in [X_train, X_val, test]:\n",
    "    i['text'] = i['text'].astype(str)\n",
    "\n",
    "\n",
    "X_train_text = [i for i in X_train['text']]\n",
    "X_val_text = [i for i in X_val['text']]\n",
    "test_text = [i for i in test['text']]"
   ]
  },
  {
   "cell_type": "code",
   "execution_count": 187,
   "id": "07967b42",
   "metadata": {},
   "outputs": [
    {
     "name": "stdout",
     "output_type": "stream",
     "text": [
      "11052 unique tokens\n"
     ]
    }
   ],
   "source": [
    "tokenizer = Tokenizer()\n",
    "\n",
    "tokenizer.fit_on_texts(X_train_text)\n",
    "\n",
    "print(len(tokenizer.word_index), 'unique tokens')\n",
    "\n",
    "X_train_seq = tokenizer.texts_to_sequences(X_train_text)\n",
    "X_val_seq = tokenizer.texts_to_sequences(X_val_text)\n",
    "test_seq = tokenizer.texts_to_sequences(test_text)"
   ]
  },
  {
   "cell_type": "code",
   "execution_count": 188,
   "id": "057be893",
   "metadata": {},
   "outputs": [],
   "source": [
    "X_train_data = pad_sequences(X_train_seq)\n",
    "X_val_data = pad_sequences(X_val_seq, X_train_data.shape[1])\n",
    "test_data = pad_sequences(test_seq, X_train_data.shape[1])"
   ]
  },
  {
   "cell_type": "code",
   "execution_count": 189,
   "id": "afd67186",
   "metadata": {},
   "outputs": [
    {
     "data": {
      "text/plain": [
       "(6090, 23)"
      ]
     },
     "execution_count": 189,
     "metadata": {},
     "output_type": "execute_result"
    },
    {
     "data": {
      "text/plain": [
       "(1523, 23)"
      ]
     },
     "execution_count": 189,
     "metadata": {},
     "output_type": "execute_result"
    },
    {
     "data": {
      "text/plain": [
       "(3263, 23)"
      ]
     },
     "execution_count": 189,
     "metadata": {},
     "output_type": "execute_result"
    }
   ],
   "source": [
    "X_train_data.shape\n",
    "X_val_data.shape\n",
    "test_data.shape"
   ]
  },
  {
   "cell_type": "markdown",
   "id": "15f5c19a",
   "metadata": {},
   "source": [
    "### Meta-feature scaling"
   ]
  },
  {
   "cell_type": "code",
   "execution_count": 190,
   "id": "084326ee",
   "metadata": {},
   "outputs": [
    {
     "data": {
      "text/plain": [
       "StandardScaler()"
      ]
     },
     "execution_count": 190,
     "metadata": {},
     "output_type": "execute_result"
    }
   ],
   "source": [
    "scaler = StandardScaler()\n",
    "scaler.fit(X_train.iloc[:, 2:])\n",
    "\n",
    "meta_train = scaler.transform(X_train.iloc[:, 2:])\n",
    "meta_val = scaler.transform(X_val.iloc[:, 2:])\n",
    "meta_test = scaler.transform(test.iloc[:, 1:])"
   ]
  },
  {
   "cell_type": "code",
   "execution_count": 191,
   "id": "93ce7605",
   "metadata": {},
   "outputs": [
    {
     "data": {
      "text/plain": [
       "(6090, 7)"
      ]
     },
     "execution_count": 191,
     "metadata": {},
     "output_type": "execute_result"
    },
    {
     "data": {
      "text/plain": [
       "(1523, 7)"
      ]
     },
     "execution_count": 191,
     "metadata": {},
     "output_type": "execute_result"
    },
    {
     "data": {
      "text/plain": [
       "(3263, 7)"
      ]
     },
     "execution_count": 191,
     "metadata": {},
     "output_type": "execute_result"
    }
   ],
   "source": [
    "meta_train.shape\n",
    "meta_val.shape\n",
    "meta_test.shape"
   ]
  },
  {
   "cell_type": "markdown",
   "id": "3bfdb07e",
   "metadata": {},
   "source": [
    "#### Functions"
   ]
  },
  {
   "cell_type": "code",
   "execution_count": 192,
   "id": "36987f71",
   "metadata": {},
   "outputs": [],
   "source": [
    "def loss_acc_plot(history):\n",
    "    scores = pd.DataFrame(history.history)\n",
    "    scores[['loss', 'val_loss']].plot();\n",
    "    scores[['accuracy', 'val_accuracy']].plot();\n",
    "    #scores[['f1_score', 'val_f1_score']].plot();\n",
    "\n",
    "answers = pd.read_csv('answer key.csv')\n",
    "y_true = answers['target']\n",
    "\n",
    "def kaggle(model, filename=''):\n",
    "    y_pred = (model.predict([test_data, meta_test]) > 0.5).astype(int)\n",
    "    print('\\nf1 score is:', f1_score(y_true, y_pred, average='macro'))\n",
    "    print(classification_report(y_true, y_pred))\n",
    "    print(confusion_matrix(y_true, y_pred))\n",
    "    \n",
    "    if filename != '':\n",
    "        submission=pd.read_csv('sample_submission.csv')\n",
    "        submission['target']=y_pred\n",
    "        submission.to_csv(filename+'.csv', index=False)"
   ]
  },
  {
   "cell_type": "code",
   "execution_count": 193,
   "id": "a029a801",
   "metadata": {},
   "outputs": [],
   "source": [
    "reduce_lr = ReduceLROnPlateau(monitor = 'val_loss', \n",
    "                              factor = 0.5, \n",
    "                              verbose = 1, \n",
    "                              patience = 4,                        \n",
    "                              min_lr = 0.0001)\n",
    "\n",
    "def model_process(model, n_epochs=20, model_name='', filename=''):\n",
    "    model.summary()\n",
    "    \n",
    "    checkpointer = ModelCheckpoint(filepath = model_name+'.hdf5', \n",
    "                                   save_best_only=True,\n",
    "                                   save_weights_only=True,\n",
    "                                   monitor='val_loss')\n",
    "\n",
    "    history = model.fit(x=[X_train_data, meta_train],\n",
    "                        y=y_train,\n",
    "                        epochs = n_epochs,\n",
    "                        verbose=1,\n",
    "                        callbacks=[checkpointer, reduce_lr],\n",
    "                        validation_data = ([X_val_data, meta_val], y_val)\n",
    "                       )\n",
    "    \n",
    "    loss_acc_plot(history)\n",
    "    \n",
    "    model.load_weights(model_name+'.hdf5')\n",
    "    \n",
    "    loss, acc = model.evaluate([X_val_data, meta_val], y_val)\n",
    "    print('\\nModel accuracy on validation set = ', acc)\n",
    "    print('\\nModel loss on validation set = ', loss)\n",
    "    \n",
    "    y_val_pred = (model.predict([X_val_data, meta_val]) > 0.5).astype(int)\n",
    "    print('\\nModel F1 on validation set = ', f1_score(y_val, y_val_pred, average='macro'))\n",
    "    \n",
    "    kaggle(model, filename)"
   ]
  },
  {
   "cell_type": "markdown",
   "id": "66001c38",
   "metadata": {},
   "source": [
    "# SimpleRNN"
   ]
  },
  {
   "cell_type": "markdown",
   "id": "6db18465",
   "metadata": {},
   "source": [
    "#### 1 SimpleRNN layer"
   ]
  },
  {
   "cell_type": "code",
   "execution_count": 200,
   "id": "9acef4bd",
   "metadata": {},
   "outputs": [],
   "source": [
    "def simpleRNN(dropout_val):\n",
    "            \n",
    "    #define inputs\n",
    "    nlp_input = Input(shape = (23,), name = 'nlp_input')\n",
    "    meta_input_train = Input(shape = (7, ), name = 'meta_train')\n",
    "    \n",
    "    #Embed\n",
    "    word_index = len(tokenizer.word_index)\n",
    "    input_size = test_data.shape[1]\n",
    "    \n",
    "    emb = Embedding(input_dim=word_index+1, \n",
    "                    output_dim=40,\n",
    "                    input_length = input_size)(nlp_input)\n",
    "    emb = SpatialDropout1D(dropout_val)(emb)\n",
    "\n",
    "    #SimpleRNN\n",
    "  #  nlp_out = SimpleRNN(40, dropout=dropout_val, return_sequences=True)(emb)     \n",
    "    nlp_out = SimpleRNN(30, dropout=dropout_val)(emb)\n",
    "     \n",
    "    #add meta data    \n",
    "    x = Concatenate()([nlp_out, meta_input_train])\n",
    "    \n",
    "    #add second hidden layer\n",
    "    x = Dropout(dropout_val)(x)\n",
    "    x = (Dense(20, \n",
    "               activation = 'relu'\n",
    "              ))(x)\n",
    "    \n",
    "    #add output layer\n",
    "    x = Dropout(dropout_val)(x)\n",
    "    preds = Dense(1, \n",
    "                  activation='sigmoid'\n",
    "                 )(x)\n",
    "    \n",
    "    #compile model\n",
    "    model = Model(inputs=[nlp_input, meta_input_train], outputs = preds)\n",
    "    model.compile(loss = 'binary_crossentropy', optimizer = Adam(0.002), metrics = ['accuracy'])\n",
    "    \n",
    "    return model"
   ]
  },
  {
   "cell_type": "code",
   "execution_count": 201,
   "id": "d9102331",
   "metadata": {
    "scrolled": true
   },
   "outputs": [
    {
     "name": "stdout",
     "output_type": "stream",
     "text": [
      "Model: \"functional_499\"\n",
      "__________________________________________________________________________________________________\n",
      "Layer (type)                    Output Shape         Param #     Connected to                     \n",
      "==================================================================================================\n",
      "nlp_input (InputLayer)          [(None, 23)]         0                                            \n",
      "__________________________________________________________________________________________________\n",
      "embedding_39 (Embedding)        (None, 23, 40)       442120      nlp_input[0][0]                  \n",
      "__________________________________________________________________________________________________\n",
      "spatial_dropout1d_464 (SpatialD (None, 23, 40)       0           embedding_39[0][0]               \n",
      "__________________________________________________________________________________________________\n",
      "simple_rnn_12 (SimpleRNN)       (None, 30)           2130        spatial_dropout1d_464[0][0]      \n",
      "__________________________________________________________________________________________________\n",
      "meta_train (InputLayer)         [(None, 7)]          0                                            \n",
      "__________________________________________________________________________________________________\n",
      "concatenate_249 (Concatenate)   (None, 37)           0           simple_rnn_12[0][0]              \n",
      "                                                                 meta_train[0][0]                 \n",
      "__________________________________________________________________________________________________\n",
      "dropout_495 (Dropout)           (None, 37)           0           concatenate_249[0][0]            \n",
      "__________________________________________________________________________________________________\n",
      "dense_495 (Dense)               (None, 20)           760         dropout_495[0][0]                \n",
      "__________________________________________________________________________________________________\n",
      "dropout_496 (Dropout)           (None, 20)           0           dense_495[0][0]                  \n",
      "__________________________________________________________________________________________________\n",
      "dense_496 (Dense)               (None, 1)            21          dropout_496[0][0]                \n",
      "==================================================================================================\n",
      "Total params: 445,031\n",
      "Trainable params: 445,031\n",
      "Non-trainable params: 0\n",
      "__________________________________________________________________________________________________\n",
      "Epoch 1/50\n",
      "191/191 [==============================] - 5s 27ms/step - loss: 0.7989 - accuracy: 0.5148 - val_loss: 0.6732 - val_accuracy: 0.5693\n",
      "Epoch 2/50\n",
      "191/191 [==============================] - 5s 24ms/step - loss: 0.6925 - accuracy: 0.5585 - val_loss: 0.6763 - val_accuracy: 0.5712\n",
      "Epoch 3/50\n",
      "191/191 [==============================] - 5s 25ms/step - loss: 0.6864 - accuracy: 0.5654 - val_loss: 0.6793 - val_accuracy: 0.5706\n",
      "Epoch 4/50\n",
      "191/191 [==============================] - 5s 24ms/step - loss: 0.6824 - accuracy: 0.5681 - val_loss: 0.6773 - val_accuracy: 0.5706\n",
      "Epoch 5/50\n",
      "189/191 [============================>.] - ETA: 0s - loss: 0.6813 - accuracy: 0.5681\n",
      "Epoch 00005: ReduceLROnPlateau reducing learning rate to 0.0010000000474974513.\n",
      "191/191 [==============================] - 5s 24ms/step - loss: 0.6810 - accuracy: 0.5688 - val_loss: 0.6752 - val_accuracy: 0.5706\n",
      "Epoch 6/50\n",
      "191/191 [==============================] - 5s 24ms/step - loss: 0.6798 - accuracy: 0.5706 - val_loss: 0.6742 - val_accuracy: 0.5706\n",
      "Epoch 7/50\n",
      "191/191 [==============================] - 5s 24ms/step - loss: 0.6788 - accuracy: 0.5665 - val_loss: 0.6751 - val_accuracy: 0.5706\n",
      "Epoch 8/50\n",
      "191/191 [==============================] - 4s 22ms/step - loss: 0.6773 - accuracy: 0.5706 - val_loss: 0.6727 - val_accuracy: 0.5706\n",
      "Epoch 9/50\n",
      "191/191 [==============================] - 4s 23ms/step - loss: 0.6749 - accuracy: 0.5713 - val_loss: 0.6702 - val_accuracy: 0.5706\n",
      "Epoch 10/50\n",
      "191/191 [==============================] - 4s 23ms/step - loss: 0.6715 - accuracy: 0.5787 - val_loss: 0.6649 - val_accuracy: 0.5706\n",
      "Epoch 11/50\n",
      "191/191 [==============================] - 5s 24ms/step - loss: 0.6692 - accuracy: 0.5859 - val_loss: 0.6551 - val_accuracy: 0.5811\n",
      "Epoch 12/50\n",
      "191/191 [==============================] - 5s 24ms/step - loss: 0.6585 - accuracy: 0.6039 - val_loss: 0.6366 - val_accuracy: 0.6717\n",
      "Epoch 13/50\n",
      "191/191 [==============================] - 5s 24ms/step - loss: 0.6400 - accuracy: 0.6309 - val_loss: 0.5951 - val_accuracy: 0.7420\n",
      "Epoch 14/50\n",
      "191/191 [==============================] - 5s 24ms/step - loss: 0.6081 - accuracy: 0.6700 - val_loss: 0.5373 - val_accuracy: 0.7485\n",
      "Epoch 15/50\n",
      "191/191 [==============================] - 19s 97ms/step - loss: 0.5759 - accuracy: 0.7076 - val_loss: 0.4972 - val_accuracy: 0.7768\n",
      "Epoch 16/50\n",
      "191/191 [==============================] - 21s 112ms/step - loss: 0.5372 - accuracy: 0.7427 - val_loss: 0.4720 - val_accuracy: 0.7794\n",
      "Epoch 17/50\n",
      "191/191 [==============================] - 17s 88ms/step - loss: 0.5110 - accuracy: 0.7658 - val_loss: 0.4709 - val_accuracy: 0.7774\n",
      "Epoch 18/50\n",
      "191/191 [==============================] - 20s 105ms/step - loss: 0.4961 - accuracy: 0.7864 - val_loss: 0.4742 - val_accuracy: 0.7781\n",
      "Epoch 19/50\n",
      "191/191 [==============================] - 20s 106ms/step - loss: 0.4821 - accuracy: 0.7824 - val_loss: 0.4688 - val_accuracy: 0.7827\n",
      "Epoch 20/50\n",
      "191/191 [==============================] - 17s 90ms/step - loss: 0.4695 - accuracy: 0.8020 - val_loss: 0.4580 - val_accuracy: 0.7873\n",
      "Epoch 21/50\n",
      "191/191 [==============================] - 20s 107ms/step - loss: 0.4556 - accuracy: 0.8095 - val_loss: 0.4637 - val_accuracy: 0.7873\n",
      "Epoch 22/50\n",
      "191/191 [==============================] - 17s 89ms/step - loss: 0.4423 - accuracy: 0.8159 - val_loss: 0.4730 - val_accuracy: 0.7846\n",
      "Epoch 23/50\n",
      "191/191 [==============================] - 20s 107ms/step - loss: 0.4248 - accuracy: 0.8282 - val_loss: 0.4733 - val_accuracy: 0.7879\n",
      "Epoch 24/50\n",
      "191/191 [==============================] - ETA: 0s - loss: 0.4150 - accuracy: 0.8322\n",
      "Epoch 00024: ReduceLROnPlateau reducing learning rate to 0.0005000000237487257.\n",
      "191/191 [==============================] - 20s 105ms/step - loss: 0.4150 - accuracy: 0.8322 - val_loss: 0.4865 - val_accuracy: 0.7846\n",
      "Epoch 25/50\n",
      "191/191 [==============================] - 17s 88ms/step - loss: 0.3860 - accuracy: 0.8460 - val_loss: 0.4942 - val_accuracy: 0.7846\n",
      "Epoch 26/50\n",
      "191/191 [==============================] - 20s 106ms/step - loss: 0.3878 - accuracy: 0.8511 - val_loss: 0.4887 - val_accuracy: 0.7859\n",
      "Epoch 27/50\n",
      "191/191 [==============================] - 17s 88ms/step - loss: 0.3771 - accuracy: 0.8544 - val_loss: 0.4935 - val_accuracy: 0.7859\n",
      "Epoch 28/50\n",
      "191/191 [==============================] - ETA: 0s - loss: 0.3700 - accuracy: 0.8534\n",
      "Epoch 00028: ReduceLROnPlateau reducing learning rate to 0.0002500000118743628.\n",
      "191/191 [==============================] - 20s 105ms/step - loss: 0.3700 - accuracy: 0.8534 - val_loss: 0.5008 - val_accuracy: 0.7912\n",
      "Epoch 29/50\n",
      "191/191 [==============================] - 17s 89ms/step - loss: 0.3561 - accuracy: 0.8622 - val_loss: 0.5016 - val_accuracy: 0.7853\n",
      "Epoch 30/50\n",
      "191/191 [==============================] - 20s 105ms/step - loss: 0.3732 - accuracy: 0.8537 - val_loss: 0.4979 - val_accuracy: 0.7873\n",
      "Epoch 31/50\n",
      "191/191 [==============================] - 17s 89ms/step - loss: 0.3668 - accuracy: 0.8581 - val_loss: 0.4986 - val_accuracy: 0.7873\n",
      "Epoch 32/50\n",
      "191/191 [==============================] - ETA: 0s - loss: 0.3674 - accuracy: 0.8560\n",
      "Epoch 00032: ReduceLROnPlateau reducing learning rate to 0.0001250000059371814.\n",
      "191/191 [==============================] - 21s 109ms/step - loss: 0.3674 - accuracy: 0.8560 - val_loss: 0.4997 - val_accuracy: 0.7899\n",
      "Epoch 33/50\n",
      "191/191 [==============================] - 18s 96ms/step - loss: 0.3505 - accuracy: 0.8663 - val_loss: 0.5017 - val_accuracy: 0.7833\n",
      "Epoch 34/50\n",
      "191/191 [==============================] - 20s 103ms/step - loss: 0.3637 - accuracy: 0.8663 - val_loss: 0.4998 - val_accuracy: 0.7892\n",
      "Epoch 35/50\n",
      "191/191 [==============================] - 17s 87ms/step - loss: 0.3491 - accuracy: 0.8677 - val_loss: 0.5038 - val_accuracy: 0.7899\n",
      "Epoch 36/50\n",
      "191/191 [==============================] - ETA: 0s - loss: 0.3406 - accuracy: 0.8663\n",
      "Epoch 00036: ReduceLROnPlateau reducing learning rate to 0.0001.\n",
      "191/191 [==============================] - 17s 87ms/step - loss: 0.3406 - accuracy: 0.8663 - val_loss: 0.5079 - val_accuracy: 0.7866\n",
      "Epoch 37/50\n",
      "191/191 [==============================] - 20s 104ms/step - loss: 0.3542 - accuracy: 0.8616 - val_loss: 0.5078 - val_accuracy: 0.7886\n",
      "Epoch 38/50\n",
      "191/191 [==============================] - 17s 88ms/step - loss: 0.3473 - accuracy: 0.8670 - val_loss: 0.5083 - val_accuracy: 0.7899\n",
      "Epoch 39/50\n",
      "191/191 [==============================] - 20s 104ms/step - loss: 0.3541 - accuracy: 0.8650 - val_loss: 0.5132 - val_accuracy: 0.7833\n",
      "Epoch 40/50\n",
      "191/191 [==============================] - 17s 87ms/step - loss: 0.3432 - accuracy: 0.8713 - val_loss: 0.5125 - val_accuracy: 0.7833\n",
      "Epoch 41/50\n",
      "191/191 [==============================] - 17s 88ms/step - loss: 0.3502 - accuracy: 0.8724 - val_loss: 0.5078 - val_accuracy: 0.7879\n",
      "Epoch 42/50\n",
      "191/191 [==============================] - 20s 105ms/step - loss: 0.3496 - accuracy: 0.8650 - val_loss: 0.5084 - val_accuracy: 0.7873\n",
      "Epoch 43/50\n",
      "191/191 [==============================] - 17s 88ms/step - loss: 0.3401 - accuracy: 0.8639 - val_loss: 0.5109 - val_accuracy: 0.7859\n",
      "Epoch 44/50\n",
      "191/191 [==============================] - 20s 105ms/step - loss: 0.3421 - accuracy: 0.8736 - val_loss: 0.5118 - val_accuracy: 0.7886\n",
      "Epoch 45/50\n",
      "191/191 [==============================] - 17s 88ms/step - loss: 0.3403 - accuracy: 0.8696 - val_loss: 0.5127 - val_accuracy: 0.7886\n",
      "Epoch 46/50\n",
      "191/191 [==============================] - 20s 105ms/step - loss: 0.3483 - accuracy: 0.8652 - val_loss: 0.5126 - val_accuracy: 0.7853\n",
      "Epoch 47/50\n",
      "191/191 [==============================] - 17s 88ms/step - loss: 0.3372 - accuracy: 0.8744 - val_loss: 0.5153 - val_accuracy: 0.7853\n",
      "Epoch 48/50\n",
      "191/191 [==============================] - 20s 103ms/step - loss: 0.3381 - accuracy: 0.8731 - val_loss: 0.5130 - val_accuracy: 0.7859\n",
      "Epoch 49/50\n",
      "191/191 [==============================] - 17s 87ms/step - loss: 0.3273 - accuracy: 0.8780 - val_loss: 0.5171 - val_accuracy: 0.7873\n",
      "Epoch 50/50\n",
      "191/191 [==============================] - 17s 88ms/step - loss: 0.3274 - accuracy: 0.8749 - val_loss: 0.5204 - val_accuracy: 0.7886\n",
      "48/48 [==============================] - 0s 3ms/step - loss: 0.4580 - accuracy: 0.7873\n",
      "\n",
      "Model accuracy on validation set =  0.787261962890625\n",
      "\n",
      "Model loss on validation set =  0.4580385982990265\n",
      "\n",
      "Model F1 on validation set =  0.7750393890323428\n",
      "\n",
      "f1 score is: 0.7725608962409688\n",
      "              precision    recall  f1-score   support\n",
      "\n",
      "           0       0.76      0.91      0.83      1861\n",
      "           1       0.84      0.62      0.71      1402\n",
      "\n",
      "    accuracy                           0.79      3263\n",
      "   macro avg       0.80      0.77      0.77      3263\n",
      "weighted avg       0.80      0.79      0.78      3263\n",
      "\n",
      "[[1700  161]\n",
      " [ 533  869]]\n"
     ]
    },
    {
     "data": {
      "image/png": "[encoded data removed]",
      "text/plain": [
       "<Figure size 432x288 with 1 Axes>"
      ]
     },
     "metadata": {},
     "output_type": "display_data"
    },
    {
     "data": {
      "image/png": "[encoded data removed]",
      "text/plain": [
       "<Figure size 432x288 with 1 Axes>"
      ]
     },
     "metadata": {},
     "output_type": "display_data"
    }
   ],
   "source": [
    "model1 = simpleRNN(0.7)\n",
    "model_process(model1, 50, model_name='01 simple RNN', filename='01 simple RNN')"
   ]
  },
  {
   "cell_type": "markdown",
   "id": "d023a789",
   "metadata": {},
   "source": [
    "#### 2 SimpleRNN layers"
   ]
  },
  {
   "cell_type": "code",
   "execution_count": 219,
   "id": "f02178c6",
   "metadata": {},
   "outputs": [],
   "source": [
    "def simpleRNN():\n",
    "    rnn_dropout = 0.5\n",
    "    dropout = 0.0\n",
    "    spatial_dropout = 0.1\n",
    "    \n",
    "    lr = 0.0002\n",
    "    optimizer = RMSprop\n",
    "    \n",
    "    layer1 = 90\n",
    "    layer2 = 50\n",
    "    dense_units = 100\n",
    "    \n",
    "    embed_output = 20\n",
    "        \n",
    "    #model\n",
    "    nlp_input = Input(shape = (23,), name = 'nlp_input')\n",
    "    meta_input_train = Input(shape = (7, ), name = 'meta_train')\n",
    "    \n",
    "    word_index = len(tokenizer.word_index)\n",
    "    input_size = test_data.shape[1]\n",
    "    \n",
    "    emb = Embedding(input_dim=word_index+1, \n",
    "                    output_dim=embed_output,\n",
    "                    input_length = input_size)(nlp_input)\n",
    "    emb = SpatialDropout1D(spatial_dropout)(emb)\n",
    "\n",
    "    nlp_out = SimpleRNN(layer1, dropout=rnn_dropout, return_sequences=True)(emb)\n",
    "    \n",
    "    nlp_out = SpatialDropout1D(spatial_dropout)(nlp_out)\n",
    "    nlp_out = SimpleRNN(layer2, dropout=rnn_dropout)(nlp_out)\n",
    "     \n",
    "    #add meta data    \n",
    "    x = Concatenate()([nlp_out, meta_input_train])\n",
    "    \n",
    "    #add second hidden layer\n",
    "    x = Dropout(dropout)(x)\n",
    "    x = (Dense(dense_units, \n",
    "               activation = 'relu'\n",
    "              ))(x)\n",
    "    \n",
    "    #add output layer\n",
    "    x = Dropout(dropout)(x)\n",
    "    preds = Dense(1, \n",
    "                  activation='sigmoid'\n",
    "                 )(x)\n",
    "    \n",
    "    #compile model\n",
    "    model = Model(inputs=[nlp_input , meta_input_train], outputs = preds)\n",
    "\n",
    "    model.compile(loss = 'binary_crossentropy', optimizer = optimizer(lr), metrics = ['accuracy'])\n",
    "\n",
    "    return model"
   ]
  },
  {
   "cell_type": "code",
   "execution_count": 220,
   "id": "cdab3671",
   "metadata": {
    "scrolled": true
   },
   "outputs": [
    {
     "name": "stdout",
     "output_type": "stream",
     "text": [
      "Model: \"functional_519\"\n",
      "__________________________________________________________________________________________________\n",
      "Layer (type)                    Output Shape         Param #     Connected to                     \n",
      "==================================================================================================\n",
      "nlp_input (InputLayer)          [(None, 23)]         0                                            \n",
      "__________________________________________________________________________________________________\n",
      "embedding_49 (Embedding)        (None, 23, 20)       221060      nlp_input[0][0]                  \n",
      "__________________________________________________________________________________________________\n",
      "spatial_dropout1d_478 (SpatialD (None, 23, 20)       0           embedding_49[0][0]               \n",
      "__________________________________________________________________________________________________\n",
      "simple_rnn_17 (SimpleRNN)       (None, 23, 90)       9990        spatial_dropout1d_478[0][0]      \n",
      "__________________________________________________________________________________________________\n",
      "spatial_dropout1d_479 (SpatialD (None, 23, 90)       0           simple_rnn_17[0][0]              \n",
      "__________________________________________________________________________________________________\n",
      "simple_rnn_18 (SimpleRNN)       (None, 50)           7050        spatial_dropout1d_479[0][0]      \n",
      "__________________________________________________________________________________________________\n",
      "meta_train (InputLayer)         [(None, 7)]          0                                            \n",
      "__________________________________________________________________________________________________\n",
      "concatenate_259 (Concatenate)   (None, 57)           0           simple_rnn_18[0][0]              \n",
      "                                                                 meta_train[0][0]                 \n",
      "__________________________________________________________________________________________________\n",
      "dropout_515 (Dropout)           (None, 57)           0           concatenate_259[0][0]            \n",
      "__________________________________________________________________________________________________\n",
      "dense_515 (Dense)               (None, 100)          5800        dropout_515[0][0]                \n",
      "__________________________________________________________________________________________________\n",
      "dropout_516 (Dropout)           (None, 100)          0           dense_515[0][0]                  \n",
      "__________________________________________________________________________________________________\n",
      "dense_516 (Dense)               (None, 1)            101         dropout_516[0][0]                \n",
      "==================================================================================================\n",
      "Total params: 244,001\n",
      "Trainable params: 244,001\n",
      "Non-trainable params: 0\n",
      "__________________________________________________________________________________________________\n",
      "Epoch 1/30\n",
      "191/191 [==============================] - 8s 43ms/step - loss: 0.6673 - accuracy: 0.5862 - val_loss: 0.6410 - val_accuracy: 0.5962\n",
      "Epoch 2/30\n",
      "191/191 [==============================] - 8s 41ms/step - loss: 0.6402 - accuracy: 0.6299 - val_loss: 0.6245 - val_accuracy: 0.6658\n",
      "Epoch 3/30\n",
      "191/191 [==============================] - 8s 40ms/step - loss: 0.6269 - accuracy: 0.6544 - val_loss: 0.6228 - val_accuracy: 0.6264\n",
      "Epoch 4/30\n",
      "191/191 [==============================] - 8s 40ms/step - loss: 0.6011 - accuracy: 0.6814 - val_loss: 0.5644 - val_accuracy: 0.7183\n",
      "Epoch 5/30\n",
      "191/191 [==============================] - 8s 41ms/step - loss: 0.5565 - accuracy: 0.7209 - val_loss: 0.5235 - val_accuracy: 0.7538\n",
      "Epoch 6/30\n",
      "191/191 [==============================] - 8s 40ms/step - loss: 0.5069 - accuracy: 0.7575 - val_loss: 0.4973 - val_accuracy: 0.7722\n",
      "Epoch 7/30\n",
      "191/191 [==============================] - 8s 40ms/step - loss: 0.4701 - accuracy: 0.7793 - val_loss: 0.4811 - val_accuracy: 0.7636\n",
      "Epoch 8/30\n",
      "191/191 [==============================] - 8s 40ms/step - loss: 0.4456 - accuracy: 0.7956 - val_loss: 0.4684 - val_accuracy: 0.7728\n",
      "Epoch 9/30\n",
      "191/191 [==============================] - 8s 41ms/step - loss: 0.4276 - accuracy: 0.8044 - val_loss: 0.4689 - val_accuracy: 0.7768\n",
      "Epoch 10/30\n",
      "191/191 [==============================] - 8s 41ms/step - loss: 0.4126 - accuracy: 0.8174 - val_loss: 0.4608 - val_accuracy: 0.7912\n",
      "Epoch 11/30\n",
      "191/191 [==============================] - 8s 40ms/step - loss: 0.3911 - accuracy: 0.8302 - val_loss: 0.4640 - val_accuracy: 0.7919\n",
      "Epoch 12/30\n",
      "191/191 [==============================] - 8s 40ms/step - loss: 0.3821 - accuracy: 0.8325 - val_loss: 0.4598 - val_accuracy: 0.7886\n",
      "Epoch 13/30\n",
      "191/191 [==============================] - 8s 42ms/step - loss: 0.3680 - accuracy: 0.8401 - val_loss: 0.4633 - val_accuracy: 0.7938\n",
      "Epoch 14/30\n",
      "191/191 [==============================] - 8s 40ms/step - loss: 0.3615 - accuracy: 0.8499 - val_loss: 0.4638 - val_accuracy: 0.7958\n",
      "Epoch 15/30\n",
      "191/191 [==============================] - 8s 40ms/step - loss: 0.3507 - accuracy: 0.8558 - val_loss: 0.4735 - val_accuracy: 0.7833\n",
      "Epoch 16/30\n",
      "190/191 [============================>.] - ETA: 0s - loss: 0.3364 - accuracy: 0.8604\n",
      "Epoch 00016: ReduceLROnPlateau reducing learning rate to 0.0001.\n",
      "191/191 [==============================] - 7s 39ms/step - loss: 0.3363 - accuracy: 0.8604 - val_loss: 0.4720 - val_accuracy: 0.7971\n",
      "Epoch 17/30\n",
      "191/191 [==============================] - 8s 41ms/step - loss: 0.3276 - accuracy: 0.8645 - val_loss: 0.4749 - val_accuracy: 0.7978\n",
      "Epoch 18/30\n",
      "191/191 [==============================] - 7s 39ms/step - loss: 0.3251 - accuracy: 0.8668 - val_loss: 0.4797 - val_accuracy: 0.7984\n",
      "Epoch 19/30\n",
      "191/191 [==============================] - 8s 40ms/step - loss: 0.3187 - accuracy: 0.8701 - val_loss: 0.4910 - val_accuracy: 0.7925\n",
      "Epoch 20/30\n",
      "191/191 [==============================] - 8s 39ms/step - loss: 0.3090 - accuracy: 0.8760 - val_loss: 0.4866 - val_accuracy: 0.7932\n",
      "Epoch 21/30\n",
      "191/191 [==============================] - 8s 41ms/step - loss: 0.3101 - accuracy: 0.8721 - val_loss: 0.4734 - val_accuracy: 0.7919\n",
      "Epoch 22/30\n",
      "191/191 [==============================] - 7s 39ms/step - loss: 0.3085 - accuracy: 0.8755 - val_loss: 0.4866 - val_accuracy: 0.7919\n",
      "Epoch 23/30\n",
      "191/191 [==============================] - 7s 39ms/step - loss: 0.3023 - accuracy: 0.8773 - val_loss: 0.4876 - val_accuracy: 0.7879\n",
      "Epoch 24/30\n",
      "191/191 [==============================] - 8s 39ms/step - loss: 0.2955 - accuracy: 0.8818 - val_loss: 0.5002 - val_accuracy: 0.7899\n",
      "Epoch 25/30\n",
      "191/191 [==============================] - 8s 43ms/step - loss: 0.2934 - accuracy: 0.8782 - val_loss: 0.4945 - val_accuracy: 0.7984\n",
      "Epoch 26/30\n",
      "191/191 [==============================] - 7s 39ms/step - loss: 0.2894 - accuracy: 0.8854 - val_loss: 0.4987 - val_accuracy: 0.7866\n",
      "Epoch 27/30\n",
      "191/191 [==============================] - 7s 39ms/step - loss: 0.2871 - accuracy: 0.8869 - val_loss: 0.5010 - val_accuracy: 0.7925\n",
      "Epoch 28/30\n",
      "191/191 [==============================] - 7s 39ms/step - loss: 0.2834 - accuracy: 0.8834 - val_loss: 0.5208 - val_accuracy: 0.7873\n",
      "Epoch 29/30\n",
      "191/191 [==============================] - 8s 41ms/step - loss: 0.2792 - accuracy: 0.8887 - val_loss: 0.5095 - val_accuracy: 0.7886\n",
      "Epoch 30/30\n",
      "191/191 [==============================] - 7s 39ms/step - loss: 0.2715 - accuracy: 0.8897 - val_loss: 0.5284 - val_accuracy: 0.7866\n",
      "48/48 [==============================] - 0s 4ms/step - loss: 0.4598 - accuracy: 0.7886\n",
      "\n",
      "Model accuracy on validation set =  0.7885751724243164\n",
      "\n",
      "Model loss on validation set =  0.45978042483329773\n",
      "\n",
      "Model F1 on validation set =  0.7830522720838051\n",
      "\n",
      "f1 score is: 0.774651373747673\n",
      "              precision    recall  f1-score   support\n",
      "\n",
      "           0       0.79      0.84      0.81      1861\n",
      "           1       0.77      0.70      0.73      1402\n",
      "\n",
      "    accuracy                           0.78      3263\n",
      "   macro avg       0.78      0.77      0.77      3263\n",
      "weighted avg       0.78      0.78      0.78      3263\n",
      "\n",
      "[[1566  295]\n",
      " [ 417  985]]\n"
     ]
    },
    {
     "data": {
      "image/png": "[encoded data removed]",
      "text/plain": [
       "<Figure size 432x288 with 1 Axes>"
      ]
     },
     "metadata": {},
     "output_type": "display_data"
    },
    {
     "data": {
      "image/png": "[encoded data removed]",
      "text/plain": [
       "<Figure size 432x288 with 1 Axes>"
      ]
     },
     "metadata": {},
     "output_type": "display_data"
    }
   ],
   "source": [
    "model1 = simpleRNN()\n",
    "model_process(model1, 30, '02 dual simple RNN', filename='01 dual simple RNN')"
   ]
  },
  {
   "cell_type": "markdown",
   "id": "2f51fbe9",
   "metadata": {},
   "source": [
    "# LSTM"
   ]
  },
  {
   "cell_type": "code",
   "execution_count": 206,
   "id": "45528158",
   "metadata": {},
   "outputs": [],
   "source": [
    "def m2_lstm(dropout_val):\n",
    "            \n",
    "    #define inputs\n",
    "    nlp_input = Input(shape = (23,), name = 'nlp_input')\n",
    "    meta_input_train = Input(shape = (7, ), name = 'meta_train')\n",
    "    \n",
    "    #Embed\n",
    "    word_index = len(tokenizer.word_index)\n",
    "    input_size = test_data.shape[1]\n",
    "    \n",
    "    emb = Embedding(input_dim=word_index+1, \n",
    "                    output_dim=40,\n",
    "                    input_length = input_size)(nlp_input)\n",
    "    emb = SpatialDropout1D(0.4)(emb)\n",
    "\n",
    "    nlp_out = LSTM(50, dropout=0.3)(emb)\n",
    "     \n",
    "    #add meta data    \n",
    "    x = Concatenate()([nlp_out, meta_input_train])\n",
    "    \n",
    "    #add second hidden layer\n",
    "    x = Dropout(dropout_val)(x)\n",
    "    x = (Dense(30, \n",
    "               activation = 'relu'\n",
    "              ))(x)\n",
    "    \n",
    "    #add output layer\n",
    "    x = Dropout(dropout_val)(x)\n",
    "    preds = Dense(1, \n",
    "                  activation='sigmoid'\n",
    "                 )(x)\n",
    "    \n",
    "    #compile model\n",
    "    model = Model(inputs=[nlp_input , meta_input_train], outputs = preds)\n",
    "    model.compile(loss = 'binary_crossentropy', optimizer = RMSprop(0.0004), metrics = ['accuracy'])\n",
    "    \n",
    "    return model"
   ]
  },
  {
   "cell_type": "code",
   "execution_count": 207,
   "id": "b586ae08",
   "metadata": {
    "scrolled": true
   },
   "outputs": [
    {
     "name": "stdout",
     "output_type": "stream",
     "text": [
      "Model: \"functional_507\"\n",
      "__________________________________________________________________________________________________\n",
      "Layer (type)                    Output Shape         Param #     Connected to                     \n",
      "==================================================================================================\n",
      "nlp_input (InputLayer)          [(None, 23)]         0                                            \n",
      "__________________________________________________________________________________________________\n",
      "embedding_43 (Embedding)        (None, 23, 40)       442120      nlp_input[0][0]                  \n",
      "__________________________________________________________________________________________________\n",
      "spatial_dropout1d_468 (SpatialD (None, 23, 40)       0           embedding_43[0][0]               \n",
      "__________________________________________________________________________________________________\n",
      "lstm_460 (LSTM)                 (None, 50)           18200       spatial_dropout1d_468[0][0]      \n",
      "__________________________________________________________________________________________________\n",
      "meta_train (InputLayer)         [(None, 7)]          0                                            \n",
      "__________________________________________________________________________________________________\n",
      "concatenate_253 (Concatenate)   (None, 57)           0           lstm_460[0][0]                   \n",
      "                                                                 meta_train[0][0]                 \n",
      "__________________________________________________________________________________________________\n",
      "dropout_503 (Dropout)           (None, 57)           0           concatenate_253[0][0]            \n",
      "__________________________________________________________________________________________________\n",
      "dense_503 (Dense)               (None, 30)           1740        dropout_503[0][0]                \n",
      "__________________________________________________________________________________________________\n",
      "dropout_504 (Dropout)           (None, 30)           0           dense_503[0][0]                  \n",
      "__________________________________________________________________________________________________\n",
      "dense_504 (Dense)               (None, 1)            31          dropout_504[0][0]                \n",
      "==================================================================================================\n",
      "Total params: 462,091\n",
      "Trainable params: 462,091\n",
      "Non-trainable params: 0\n",
      "__________________________________________________________________________________________________\n",
      "Epoch 1/50\n",
      "191/191 [==============================] - 2s 9ms/step - loss: 0.7445 - accuracy: 0.5202 - val_loss: 0.6570 - val_accuracy: 0.6067\n",
      "Epoch 2/50\n",
      "191/191 [==============================] - 1s 7ms/step - loss: 0.6983 - accuracy: 0.5553 - val_loss: 0.6582 - val_accuracy: 0.6218\n",
      "Epoch 3/50\n",
      "191/191 [==============================] - 1s 7ms/step - loss: 0.6870 - accuracy: 0.5635 - val_loss: 0.6548 - val_accuracy: 0.6225\n",
      "Epoch 4/50\n",
      "191/191 [==============================] - 1s 7ms/step - loss: 0.6782 - accuracy: 0.5775 - val_loss: 0.6443 - val_accuracy: 0.6330\n",
      "Epoch 5/50\n",
      "191/191 [==============================] - 1s 7ms/step - loss: 0.6600 - accuracy: 0.6167 - val_loss: 0.6075 - val_accuracy: 0.7137\n",
      "Epoch 6/50\n",
      "191/191 [==============================] - 1s 7ms/step - loss: 0.5860 - accuracy: 0.7079 - val_loss: 0.5120 - val_accuracy: 0.7656\n",
      "Epoch 7/50\n",
      "191/191 [==============================] - 1s 7ms/step - loss: 0.5060 - accuracy: 0.7777 - val_loss: 0.4634 - val_accuracy: 0.7971\n",
      "Epoch 8/50\n",
      "191/191 [==============================] - 1s 7ms/step - loss: 0.4612 - accuracy: 0.7995 - val_loss: 0.4553 - val_accuracy: 0.7945\n",
      "Epoch 9/50\n",
      "191/191 [==============================] - 1s 7ms/step - loss: 0.4484 - accuracy: 0.8199 - val_loss: 0.4509 - val_accuracy: 0.7938\n",
      "Epoch 10/50\n",
      "191/191 [==============================] - 1s 7ms/step - loss: 0.4286 - accuracy: 0.8238 - val_loss: 0.4623 - val_accuracy: 0.7919\n",
      "Epoch 11/50\n",
      "191/191 [==============================] - 1s 7ms/step - loss: 0.4078 - accuracy: 0.8292 - val_loss: 0.4564 - val_accuracy: 0.7958\n",
      "Epoch 12/50\n",
      "191/191 [==============================] - 1s 7ms/step - loss: 0.3964 - accuracy: 0.8379 - val_loss: 0.4600 - val_accuracy: 0.7899\n",
      "Epoch 13/50\n",
      "188/191 [============================>.] - ETA: 0s - loss: 0.3909 - accuracy: 0.8401\n",
      "Epoch 00013: ReduceLROnPlateau reducing learning rate to 0.00019999999494757503.\n",
      "191/191 [==============================] - 1s 6ms/step - loss: 0.3904 - accuracy: 0.8404 - val_loss: 0.4678 - val_accuracy: 0.7905\n",
      "Epoch 14/50\n",
      "191/191 [==============================] - 1s 6ms/step - loss: 0.3841 - accuracy: 0.8466 - val_loss: 0.4715 - val_accuracy: 0.7951\n",
      "Epoch 15/50\n",
      "191/191 [==============================] - 1s 6ms/step - loss: 0.3763 - accuracy: 0.8527 - val_loss: 0.4763 - val_accuracy: 0.7945\n",
      "Epoch 16/50\n",
      "191/191 [==============================] - 1s 6ms/step - loss: 0.3770 - accuracy: 0.8517 - val_loss: 0.4750 - val_accuracy: 0.7951\n",
      "Epoch 17/50\n",
      "187/191 [============================>.] - ETA: 0s - loss: 0.3709 - accuracy: 0.8563\n",
      "Epoch 00017: ReduceLROnPlateau reducing learning rate to 0.0001.\n",
      "191/191 [==============================] - 1s 6ms/step - loss: 0.3705 - accuracy: 0.8563 - val_loss: 0.4763 - val_accuracy: 0.7932\n",
      "Epoch 18/50\n",
      "191/191 [==============================] - 1s 6ms/step - loss: 0.3668 - accuracy: 0.8547 - val_loss: 0.4823 - val_accuracy: 0.7978\n",
      "Epoch 19/50\n",
      "191/191 [==============================] - 1s 7ms/step - loss: 0.3686 - accuracy: 0.8534 - val_loss: 0.4772 - val_accuracy: 0.7925\n",
      "Epoch 20/50\n",
      "191/191 [==============================] - 1s 7ms/step - loss: 0.3613 - accuracy: 0.8576 - val_loss: 0.4770 - val_accuracy: 0.7925\n",
      "Epoch 21/50\n",
      "191/191 [==============================] - 1s 7ms/step - loss: 0.3668 - accuracy: 0.8593 - val_loss: 0.4708 - val_accuracy: 0.7984\n",
      "Epoch 22/50\n",
      "191/191 [==============================] - 1s 7ms/step - loss: 0.3622 - accuracy: 0.8591 - val_loss: 0.4790 - val_accuracy: 0.7905\n",
      "Epoch 23/50\n",
      "191/191 [==============================] - ETA: 0s - loss: 0.3630 - accuracy: 0.85 - 1s 7ms/step - loss: 0.3635 - accuracy: 0.8576 - val_loss: 0.4793 - val_accuracy: 0.7919\n",
      "Epoch 24/50\n",
      "191/191 [==============================] - 1s 7ms/step - loss: 0.3603 - accuracy: 0.8627 - val_loss: 0.4830 - val_accuracy: 0.7938\n",
      "Epoch 25/50\n",
      "191/191 [==============================] - 1s 7ms/step - loss: 0.3609 - accuracy: 0.8612 - val_loss: 0.4829 - val_accuracy: 0.7925\n",
      "Epoch 26/50\n",
      "191/191 [==============================] - 1s 7ms/step - loss: 0.3482 - accuracy: 0.8647 - val_loss: 0.4902 - val_accuracy: 0.7899\n",
      "Epoch 27/50\n",
      "191/191 [==============================] - 1s 6ms/step - loss: 0.3601 - accuracy: 0.8629 - val_loss: 0.4877 - val_accuracy: 0.7892\n",
      "Epoch 28/50\n",
      "191/191 [==============================] - 1s 7ms/step - loss: 0.3548 - accuracy: 0.8617 - val_loss: 0.4926 - val_accuracy: 0.7932\n",
      "Epoch 29/50\n",
      "191/191 [==============================] - 1s 7ms/step - loss: 0.3544 - accuracy: 0.8647 - val_loss: 0.4864 - val_accuracy: 0.7879\n",
      "Epoch 30/50\n",
      "191/191 [==============================] - 1s 7ms/step - loss: 0.3581 - accuracy: 0.8645 - val_loss: 0.4814 - val_accuracy: 0.7932\n",
      "Epoch 31/50\n",
      "191/191 [==============================] - 1s 7ms/step - loss: 0.3506 - accuracy: 0.8657 - val_loss: 0.4890 - val_accuracy: 0.7899\n",
      "Epoch 32/50\n",
      "191/191 [==============================] - 1s 7ms/step - loss: 0.3466 - accuracy: 0.8688 - val_loss: 0.4914 - val_accuracy: 0.7879\n",
      "Epoch 33/50\n",
      "191/191 [==============================] - 1s 7ms/step - loss: 0.3523 - accuracy: 0.8690 - val_loss: 0.4935 - val_accuracy: 0.7879\n",
      "Epoch 34/50\n",
      "191/191 [==============================] - 1s 7ms/step - loss: 0.3496 - accuracy: 0.8685 - val_loss: 0.4953 - val_accuracy: 0.7899\n",
      "Epoch 35/50\n",
      "191/191 [==============================] - 1s 7ms/step - loss: 0.3458 - accuracy: 0.8660 - val_loss: 0.4948 - val_accuracy: 0.7892\n",
      "Epoch 36/50\n",
      "191/191 [==============================] - 1s 7ms/step - loss: 0.3430 - accuracy: 0.8704 - val_loss: 0.4896 - val_accuracy: 0.7912\n",
      "Epoch 37/50\n",
      "191/191 [==============================] - 1s 7ms/step - loss: 0.3427 - accuracy: 0.8670 - val_loss: 0.4932 - val_accuracy: 0.7905\n"
     ]
    },
    {
     "name": "stdout",
     "output_type": "stream",
     "text": [
      "Epoch 38/50\n",
      "191/191 [==============================] - 1s 7ms/step - loss: 0.3442 - accuracy: 0.8650 - val_loss: 0.4918 - val_accuracy: 0.7912\n",
      "Epoch 39/50\n",
      "191/191 [==============================] - 1s 7ms/step - loss: 0.3447 - accuracy: 0.8716 - val_loss: 0.4910 - val_accuracy: 0.7919\n",
      "Epoch 40/50\n",
      "191/191 [==============================] - 1s 7ms/step - loss: 0.3374 - accuracy: 0.8749 - val_loss: 0.4962 - val_accuracy: 0.7912\n",
      "Epoch 41/50\n",
      "191/191 [==============================] - 1s 8ms/step - loss: 0.3438 - accuracy: 0.8704 - val_loss: 0.4968 - val_accuracy: 0.7925\n",
      "Epoch 42/50\n",
      "191/191 [==============================] - 1s 7ms/step - loss: 0.3393 - accuracy: 0.8690 - val_loss: 0.4964 - val_accuracy: 0.7919\n",
      "Epoch 43/50\n",
      "191/191 [==============================] - 1s 8ms/step - loss: 0.3379 - accuracy: 0.8693 - val_loss: 0.4951 - val_accuracy: 0.7919\n",
      "Epoch 44/50\n",
      "191/191 [==============================] - 1s 7ms/step - loss: 0.3347 - accuracy: 0.8724 - val_loss: 0.4965 - val_accuracy: 0.7925\n",
      "Epoch 45/50\n",
      "191/191 [==============================] - 1s 7ms/step - loss: 0.3292 - accuracy: 0.8737 - val_loss: 0.4972 - val_accuracy: 0.7945\n",
      "Epoch 46/50\n",
      "191/191 [==============================] - 1s 7ms/step - loss: 0.3346 - accuracy: 0.8713 - val_loss: 0.4994 - val_accuracy: 0.7925\n",
      "Epoch 47/50\n",
      "191/191 [==============================] - 1s 7ms/step - loss: 0.3368 - accuracy: 0.8713 - val_loss: 0.4958 - val_accuracy: 0.7978\n",
      "Epoch 48/50\n",
      "191/191 [==============================] - 1s 7ms/step - loss: 0.3300 - accuracy: 0.8721 - val_loss: 0.5007 - val_accuracy: 0.7965\n",
      "Epoch 49/50\n",
      "191/191 [==============================] - 1s 7ms/step - loss: 0.3332 - accuracy: 0.8745 - val_loss: 0.5010 - val_accuracy: 0.7925\n",
      "Epoch 50/50\n",
      "191/191 [==============================] - 1s 8ms/step - loss: 0.3352 - accuracy: 0.8736 - val_loss: 0.4977 - val_accuracy: 0.7932\n",
      "48/48 [==============================] - 0s 2ms/step - loss: 0.4509 - accuracy: 0.7938\n",
      "\n",
      "Model accuracy on validation set =  0.7938279509544373\n",
      "\n",
      "Model loss on validation set =  0.4509040117263794\n",
      "\n",
      "Model F1 on validation set =  0.7809705006210588\n",
      "\n",
      "f1 score is: 0.7668647838270519\n",
      "              precision    recall  f1-score   support\n",
      "\n",
      "           0       0.75      0.92      0.83      1861\n",
      "           1       0.85      0.60      0.71      1402\n",
      "\n",
      "    accuracy                           0.78      3263\n",
      "   macro avg       0.80      0.76      0.77      3263\n",
      "weighted avg       0.79      0.78      0.78      3263\n",
      "\n",
      "[[1707  154]\n",
      " [ 554  848]]\n"
     ]
    },
    {
     "data": {
      "image/png": "[encoded data removed]",
      "text/plain": [
       "<Figure size 432x288 with 1 Axes>"
      ]
     },
     "metadata": {},
     "output_type": "display_data"
    },
    {
     "data": {
      "image/png": "[encoded data removed]",
      "text/plain": [
       "<Figure size 432x288 with 1 Axes>"
      ]
     },
     "metadata": {},
     "output_type": "display_data"
    }
   ],
   "source": [
    "model2 = m2_lstm(0.6)\n",
    "model_process(model2, 50, '03 simple LSTM', filename='03 simple LSTM')"
   ]
  },
  {
   "cell_type": "markdown",
   "id": "ab6c6d47",
   "metadata": {},
   "source": [
    "# Bidirectional LSTM"
   ]
  },
  {
   "cell_type": "code",
   "execution_count": 208,
   "id": "f8bfd4c2",
   "metadata": {},
   "outputs": [],
   "source": [
    "def m3_bidirectionallstm():\n",
    "    LSTM_dropout = 0.3\n",
    "    dropout = 0.3\n",
    "    spatial_dropout = 0.8\n",
    "    \n",
    "    lr = 0.004\n",
    "    optimizer = Adam\n",
    "    \n",
    "    LSTM1 = 100\n",
    "    dense_units = 100\n",
    "    \n",
    "    embed_output = 30\n",
    "    \n",
    "            \n",
    " #model\n",
    "    nlp_input = Input(shape = (23,), name = 'nlp_input')\n",
    "    meta_input_train = Input(shape = (7, ), name = 'meta_train')\n",
    "    \n",
    "    word_index = len(tokenizer.word_index)\n",
    "    input_size = test_data.shape[1]\n",
    "    \n",
    "    emb = Embedding(input_dim=word_index+1, \n",
    "                    output_dim=embed_output,\n",
    "                    input_length = input_size)(nlp_input)\n",
    "    emb = SpatialDropout1D(spatial_dropout)(emb)\n",
    "\n",
    "    nlp_out = Bidirectional(LSTM(LSTM1, dropout=LSTM_dropout))(emb)   \n",
    "     \n",
    "    #add meta data    \n",
    "    x = Concatenate()([nlp_out, meta_input_train])\n",
    "    \n",
    "    #add second hidden layer\n",
    "    x = Dropout(dropout)(x)\n",
    "    x = (Dense(dense_units, \n",
    "               activation = 'relu'\n",
    "              ))(x)\n",
    "    \n",
    "    #add output layer\n",
    "    x = Dropout(dropout)(x)\n",
    "    preds = Dense(1, \n",
    "                  activation='sigmoid'\n",
    "                 )(x)\n",
    "    \n",
    "    #compile model\n",
    "    model = Model(inputs=[nlp_input , meta_input_train], outputs = preds)\n",
    "\n",
    "    model.compile(loss = 'binary_crossentropy', optimizer = optimizer(lr), metrics = ['accuracy'])\n",
    "    \n",
    "    return model"
   ]
  },
  {
   "cell_type": "code",
   "execution_count": 209,
   "id": "8be0b816",
   "metadata": {
    "scrolled": false
   },
   "outputs": [
    {
     "name": "stdout",
     "output_type": "stream",
     "text": [
      "Model: \"functional_509\"\n",
      "__________________________________________________________________________________________________\n",
      "Layer (type)                    Output Shape         Param #     Connected to                     \n",
      "==================================================================================================\n",
      "nlp_input (InputLayer)          [(None, 23)]         0                                            \n",
      "__________________________________________________________________________________________________\n",
      "embedding_44 (Embedding)        (None, 23, 30)       331590      nlp_input[0][0]                  \n",
      "__________________________________________________________________________________________________\n",
      "spatial_dropout1d_469 (SpatialD (None, 23, 30)       0           embedding_44[0][0]               \n",
      "__________________________________________________________________________________________________\n",
      "bidirectional_448 (Bidirectiona (None, 200)          104800      spatial_dropout1d_469[0][0]      \n",
      "__________________________________________________________________________________________________\n",
      "meta_train (InputLayer)         [(None, 7)]          0                                            \n",
      "__________________________________________________________________________________________________\n",
      "concatenate_254 (Concatenate)   (None, 207)          0           bidirectional_448[0][0]          \n",
      "                                                                 meta_train[0][0]                 \n",
      "__________________________________________________________________________________________________\n",
      "dropout_505 (Dropout)           (None, 207)          0           concatenate_254[0][0]            \n",
      "__________________________________________________________________________________________________\n",
      "dense_505 (Dense)               (None, 100)          20800       dropout_505[0][0]                \n",
      "__________________________________________________________________________________________________\n",
      "dropout_506 (Dropout)           (None, 100)          0           dense_505[0][0]                  \n",
      "__________________________________________________________________________________________________\n",
      "dense_506 (Dense)               (None, 1)            101         dropout_506[0][0]                \n",
      "==================================================================================================\n",
      "Total params: 457,291\n",
      "Trainable params: 457,291\n",
      "Non-trainable params: 0\n",
      "__________________________________________________________________________________________________\n",
      "Epoch 1/30\n",
      "191/191 [==============================] - 2s 11ms/step - loss: 0.6074 - accuracy: 0.6681 - val_loss: 0.5074 - val_accuracy: 0.7682\n",
      "Epoch 2/30\n",
      "191/191 [==============================] - 1s 8ms/step - loss: 0.4790 - accuracy: 0.7860 - val_loss: 0.4572 - val_accuracy: 0.7912\n",
      "Epoch 3/30\n",
      "191/191 [==============================] - 1s 7ms/step - loss: 0.4177 - accuracy: 0.8220 - val_loss: 0.4595 - val_accuracy: 0.7827\n",
      "Epoch 4/30\n",
      "191/191 [==============================] - 1s 8ms/step - loss: 0.3703 - accuracy: 0.8445 - val_loss: 0.4815 - val_accuracy: 0.7840\n",
      "Epoch 5/30\n",
      "191/191 [==============================] - 1s 7ms/step - loss: 0.3360 - accuracy: 0.8708 - val_loss: 0.4739 - val_accuracy: 0.7886\n",
      "Epoch 6/30\n",
      "187/191 [============================>.] - ETA: 0s - loss: 0.3177 - accuracy: 0.8752\n",
      "Epoch 00006: ReduceLROnPlateau reducing learning rate to 0.0020000000949949026.\n",
      "191/191 [==============================] - 1s 8ms/step - loss: 0.3171 - accuracy: 0.8747 - val_loss: 0.5111 - val_accuracy: 0.7794\n",
      "Epoch 7/30\n",
      "191/191 [==============================] - 1s 7ms/step - loss: 0.2842 - accuracy: 0.8938 - val_loss: 0.5056 - val_accuracy: 0.7925\n",
      "Epoch 8/30\n",
      "191/191 [==============================] - 1s 7ms/step - loss: 0.2652 - accuracy: 0.8979 - val_loss: 0.5469 - val_accuracy: 0.7814\n",
      "Epoch 9/30\n",
      "191/191 [==============================] - 1s 8ms/step - loss: 0.2471 - accuracy: 0.9057 - val_loss: 0.5495 - val_accuracy: 0.7833\n",
      "Epoch 10/30\n",
      "191/191 [==============================] - ETA: 0s - loss: 0.2418 - accuracy: 0.9071\n",
      "Epoch 00010: ReduceLROnPlateau reducing learning rate to 0.0010000000474974513.\n",
      "191/191 [==============================] - 1s 7ms/step - loss: 0.2418 - accuracy: 0.9071 - val_loss: 0.5672 - val_accuracy: 0.7794\n",
      "Epoch 11/30\n",
      "191/191 [==============================] - 1s 7ms/step - loss: 0.2239 - accuracy: 0.9167 - val_loss: 0.5950 - val_accuracy: 0.7807\n",
      "Epoch 12/30\n",
      "191/191 [==============================] - 1s 7ms/step - loss: 0.2145 - accuracy: 0.9194 - val_loss: 0.6380 - val_accuracy: 0.7827\n",
      "Epoch 13/30\n",
      "191/191 [==============================] - 1s 7ms/step - loss: 0.1958 - accuracy: 0.9278 - val_loss: 0.6155 - val_accuracy: 0.7781\n",
      "Epoch 14/30\n",
      "186/191 [============================>.] - ETA: 0s - loss: 0.1995 - accuracy: 0.9291\n",
      "Epoch 00014: ReduceLROnPlateau reducing learning rate to 0.0005000000237487257.\n",
      "191/191 [==============================] - 1s 7ms/step - loss: 0.1995 - accuracy: 0.9294 - val_loss: 0.6233 - val_accuracy: 0.7800\n",
      "Epoch 15/30\n",
      "191/191 [==============================] - 1s 7ms/step - loss: 0.1876 - accuracy: 0.9292 - val_loss: 0.6242 - val_accuracy: 0.7761\n",
      "Epoch 16/30\n",
      "191/191 [==============================] - 1s 7ms/step - loss: 0.1887 - accuracy: 0.9322 - val_loss: 0.6417 - val_accuracy: 0.7748\n",
      "Epoch 17/30\n",
      "191/191 [==============================] - 1s 8ms/step - loss: 0.1929 - accuracy: 0.9261 - val_loss: 0.6223 - val_accuracy: 0.7787\n",
      "Epoch 18/30\n",
      "189/191 [============================>.] - ETA: 0s - loss: 0.1841 - accuracy: 0.9330\n",
      "Epoch 00018: ReduceLROnPlateau reducing learning rate to 0.0002500000118743628.\n",
      "191/191 [==============================] - 2s 8ms/step - loss: 0.1837 - accuracy: 0.9332 - val_loss: 0.6705 - val_accuracy: 0.7774\n",
      "Epoch 19/30\n",
      "191/191 [==============================] - 1s 8ms/step - loss: 0.1842 - accuracy: 0.9317 - val_loss: 0.6154 - val_accuracy: 0.7761\n",
      "Epoch 20/30\n",
      "191/191 [==============================] - 1s 8ms/step - loss: 0.1654 - accuracy: 0.9399 - val_loss: 0.6935 - val_accuracy: 0.7807\n",
      "Epoch 21/30\n",
      "191/191 [==============================] - 1s 8ms/step - loss: 0.1714 - accuracy: 0.9374 - val_loss: 0.6764 - val_accuracy: 0.7794\n",
      "Epoch 22/30\n",
      "186/191 [============================>.] - ETA: 0s - loss: 0.1728 - accuracy: 0.9377\n",
      "Epoch 00022: ReduceLROnPlateau reducing learning rate to 0.0001250000059371814.\n",
      "191/191 [==============================] - 1s 8ms/step - loss: 0.1729 - accuracy: 0.9379 - val_loss: 0.6526 - val_accuracy: 0.7787\n",
      "Epoch 23/30\n",
      "191/191 [==============================] - 1s 7ms/step - loss: 0.1722 - accuracy: 0.9361 - val_loss: 0.6558 - val_accuracy: 0.7787\n",
      "Epoch 24/30\n",
      "191/191 [==============================] - 1s 7ms/step - loss: 0.1640 - accuracy: 0.9356 - val_loss: 0.6695 - val_accuracy: 0.7774\n",
      "Epoch 25/30\n",
      "191/191 [==============================] - 1s 7ms/step - loss: 0.1636 - accuracy: 0.9411 - val_loss: 0.6908 - val_accuracy: 0.7774\n",
      "Epoch 26/30\n",
      "187/191 [============================>.] - ETA: 0s - loss: 0.1711 - accuracy: 0.9378\n",
      "Epoch 00026: ReduceLROnPlateau reducing learning rate to 0.0001.\n",
      "191/191 [==============================] - 1s 8ms/step - loss: 0.1708 - accuracy: 0.9381 - val_loss: 0.6521 - val_accuracy: 0.7774\n",
      "Epoch 27/30\n",
      "191/191 [==============================] - 1s 7ms/step - loss: 0.1677 - accuracy: 0.9376 - val_loss: 0.6823 - val_accuracy: 0.7781\n",
      "Epoch 28/30\n",
      "191/191 [==============================] - 1s 8ms/step - loss: 0.1671 - accuracy: 0.9378 - val_loss: 0.6695 - val_accuracy: 0.7774\n",
      "Epoch 29/30\n",
      "191/191 [==============================] - 1s 7ms/step - loss: 0.1658 - accuracy: 0.9376 - val_loss: 0.6665 - val_accuracy: 0.7787\n",
      "Epoch 30/30\n",
      "191/191 [==============================] - 1s 7ms/step - loss: 0.1677 - accuracy: 0.9384 - val_loss: 0.6598 - val_accuracy: 0.7774\n",
      "48/48 [==============================] - 0s 2ms/step - loss: 0.4572 - accuracy: 0.7912\n",
      "\n",
      "Model accuracy on validation set =  0.7912015914916992\n",
      "\n",
      "Model loss on validation set =  0.4572364091873169\n",
      "\n",
      "Model F1 on validation set =  0.7764685357289232\n",
      "\n",
      "f1 score is: 0.771574419526881\n",
      "              precision    recall  f1-score   support\n",
      "\n",
      "           0       0.76      0.93      0.83      1861\n",
      "           1       0.86      0.61      0.71      1402\n",
      "\n",
      "    accuracy                           0.79      3263\n",
      "   macro avg       0.81      0.77      0.77      3263\n",
      "weighted avg       0.80      0.79      0.78      3263\n",
      "\n",
      "[[1722  139]\n",
      " [ 553  849]]\n"
     ]
    },
    {
     "data": {
      "image/png": "[encoded data removed]",
      "text/plain": [
       "<Figure size 432x288 with 1 Axes>"
      ]
     },
     "metadata": {},
     "output_type": "display_data"
    },
    {
     "data": {
      "image/png": "[encoded data removed]",
      "text/plain": [
       "<Figure size 432x288 with 1 Axes>"
      ]
     },
     "metadata": {},
     "output_type": "display_data"
    }
   ],
   "source": [
    "model3 = m3_bidirectionallstm()\n",
    "model_process(model3, 30, '04 bidirectional LSTM', filename='04 bidirectional LSTM')"
   ]
  },
  {
   "cell_type": "markdown",
   "id": "d52dab4f",
   "metadata": {},
   "source": [
    "# Bidirectional 2-layer LSTM"
   ]
  },
  {
   "cell_type": "code",
   "execution_count": 215,
   "id": "2589c071",
   "metadata": {},
   "outputs": [],
   "source": [
    "def m4_bidirectional_dual_lstm():\n",
    "            \n",
    "    LSTM_dropout = 0.4\n",
    "    dropout = 0.4\n",
    "    spatial_dropout = 0.6\n",
    "    \n",
    "    lr = 0.0003\n",
    "    optimizer = RMSprop\n",
    "    \n",
    "    LSTM1 = 60\n",
    "    LSTM2 = 80\n",
    "    dense_units = 80\n",
    "    \n",
    "    embed_output = 90\n",
    "    \n",
    "            \n",
    " #model\n",
    "    nlp_input = Input(shape = (23,), name = 'nlp_input')\n",
    "    meta_input_train = Input(shape = (7, ), name = 'meta_train')\n",
    "    \n",
    "    word_index = len(tokenizer.word_index)\n",
    "    input_size = test_data.shape[1]\n",
    "    \n",
    "    emb = Embedding(input_dim=word_index+1, \n",
    "                    output_dim=embed_output,\n",
    "                    input_length = input_size)(nlp_input)\n",
    "    emb = SpatialDropout1D(spatial_dropout)(emb)\n",
    "\n",
    "    nlp_out = Bidirectional(LSTM(LSTM1, dropout=LSTM_dropout, return_sequences=True))(emb) \n",
    "    nlp_out = SpatialDropout1D(spatial_dropout)(nlp_out)\n",
    "    nlp_out = Bidirectional(LSTM(LSTM2, dropout=LSTM_dropout))(nlp_out)\n",
    "     \n",
    "    #add meta data    \n",
    "    x = Concatenate()([nlp_out, meta_input_train])\n",
    "    \n",
    "    #add second hidden layer\n",
    "    x = Dropout(dropout)(x)\n",
    "    x = (Dense(dense_units, \n",
    "               activation = 'relu'\n",
    "              ))(x)\n",
    "    \n",
    "    #add output layer\n",
    "    x = Dropout(dropout)(x)\n",
    "    preds = Dense(1, \n",
    "                  activation='sigmoid'\n",
    "                 )(x)\n",
    "    \n",
    "    #compile model\n",
    "    model = Model(inputs=[nlp_input , meta_input_train], outputs = preds)\n",
    "\n",
    "    model.compile(loss = 'binary_crossentropy', optimizer = optimizer(lr), metrics = ['accuracy'])\n",
    "    \n",
    "    return model"
   ]
  },
  {
   "cell_type": "code",
   "execution_count": 216,
   "id": "0dd98df3",
   "metadata": {
    "scrolled": false
   },
   "outputs": [
    {
     "name": "stdout",
     "output_type": "stream",
     "text": [
      "Model: \"functional_515\"\n",
      "__________________________________________________________________________________________________\n",
      "Layer (type)                    Output Shape         Param #     Connected to                     \n",
      "==================================================================================================\n",
      "nlp_input (InputLayer)          [(None, 23)]         0                                            \n",
      "__________________________________________________________________________________________________\n",
      "embedding_47 (Embedding)        (None, 23, 90)       994770      nlp_input[0][0]                  \n",
      "__________________________________________________________________________________________________\n",
      "spatial_dropout1d_474 (SpatialD (None, 23, 90)       0           embedding_47[0][0]               \n",
      "__________________________________________________________________________________________________\n",
      "bidirectional_451 (Bidirectiona (None, 23, 120)      72480       spatial_dropout1d_474[0][0]      \n",
      "__________________________________________________________________________________________________\n",
      "spatial_dropout1d_475 (SpatialD (None, 23, 120)      0           bidirectional_451[0][0]          \n",
      "__________________________________________________________________________________________________\n",
      "bidirectional_452 (Bidirectiona (None, 160)          128640      spatial_dropout1d_475[0][0]      \n",
      "__________________________________________________________________________________________________\n",
      "meta_train (InputLayer)         [(None, 7)]          0                                            \n",
      "__________________________________________________________________________________________________\n",
      "concatenate_257 (Concatenate)   (None, 167)          0           bidirectional_452[0][0]          \n",
      "                                                                 meta_train[0][0]                 \n",
      "__________________________________________________________________________________________________\n",
      "dropout_511 (Dropout)           (None, 167)          0           concatenate_257[0][0]            \n",
      "__________________________________________________________________________________________________\n",
      "dense_511 (Dense)               (None, 80)           13440       dropout_511[0][0]                \n",
      "__________________________________________________________________________________________________\n",
      "dropout_512 (Dropout)           (None, 80)           0           dense_511[0][0]                  \n",
      "__________________________________________________________________________________________________\n",
      "dense_512 (Dense)               (None, 1)            81          dropout_512[0][0]                \n",
      "==================================================================================================\n",
      "Total params: 1,209,411\n",
      "Trainable params: 1,209,411\n",
      "Non-trainable params: 0\n",
      "__________________________________________________________________________________________________\n",
      "Epoch 1/30\n",
      "191/191 [==============================] - 4s 19ms/step - loss: 0.6764 - accuracy: 0.5686 - val_loss: 0.6437 - val_accuracy: 0.6211\n",
      "Epoch 2/30\n",
      "191/191 [==============================] - 3s 13ms/step - loss: 0.6612 - accuracy: 0.6008 - val_loss: 0.6309 - val_accuracy: 0.6586\n",
      "Epoch 3/30\n",
      "191/191 [==============================] - 2s 13ms/step - loss: 0.5959 - accuracy: 0.6905 - val_loss: 0.4895 - val_accuracy: 0.7728\n",
      "Epoch 4/30\n",
      "191/191 [==============================] - 2s 12ms/step - loss: 0.5070 - accuracy: 0.7614 - val_loss: 0.5171 - val_accuracy: 0.7656\n",
      "Epoch 5/30\n",
      "191/191 [==============================] - 2s 12ms/step - loss: 0.4726 - accuracy: 0.7847 - val_loss: 0.4552 - val_accuracy: 0.7932\n",
      "Epoch 6/30\n",
      "191/191 [==============================] - 2s 12ms/step - loss: 0.4470 - accuracy: 0.7966 - val_loss: 0.4483 - val_accuracy: 0.7958\n",
      "Epoch 7/30\n",
      "191/191 [==============================] - 2s 12ms/step - loss: 0.4262 - accuracy: 0.8144 - val_loss: 0.4480 - val_accuracy: 0.7945\n",
      "Epoch 8/30\n",
      "191/191 [==============================] - 2s 12ms/step - loss: 0.4061 - accuracy: 0.8222 - val_loss: 0.4542 - val_accuracy: 0.7965\n",
      "Epoch 9/30\n",
      "191/191 [==============================] - 2s 12ms/step - loss: 0.3936 - accuracy: 0.8325 - val_loss: 0.4491 - val_accuracy: 0.7971\n",
      "Epoch 10/30\n",
      "191/191 [==============================] - 2s 12ms/step - loss: 0.3889 - accuracy: 0.8346 - val_loss: 0.4662 - val_accuracy: 0.7971\n",
      "Epoch 11/30\n",
      "190/191 [============================>.] - ETA: 0s - loss: 0.3828 - accuracy: 0.8383\n",
      "Epoch 00011: ReduceLROnPlateau reducing learning rate to 0.0001500000071246177.\n",
      "191/191 [==============================] - 2s 12ms/step - loss: 0.3823 - accuracy: 0.8386 - val_loss: 0.4626 - val_accuracy: 0.7965\n",
      "Epoch 12/30\n",
      "191/191 [==============================] - 2s 12ms/step - loss: 0.3679 - accuracy: 0.8483 - val_loss: 0.4650 - val_accuracy: 0.7984\n",
      "Epoch 13/30\n",
      "191/191 [==============================] - 2s 12ms/step - loss: 0.3617 - accuracy: 0.8506 - val_loss: 0.4689 - val_accuracy: 0.7965\n",
      "Epoch 14/30\n",
      "191/191 [==============================] - 3s 13ms/step - loss: 0.3658 - accuracy: 0.8509 - val_loss: 0.4684 - val_accuracy: 0.7958\n",
      "Epoch 15/30\n",
      "189/191 [============================>.] - ETA: 0s - loss: 0.3609 - accuracy: 0.8519\n",
      "Epoch 00015: ReduceLROnPlateau reducing learning rate to 0.0001.\n",
      "191/191 [==============================] - 3s 13ms/step - loss: 0.3611 - accuracy: 0.8521 - val_loss: 0.4724 - val_accuracy: 0.7965\n",
      "Epoch 16/30\n",
      "191/191 [==============================] - 2s 12ms/step - loss: 0.3561 - accuracy: 0.8535 - val_loss: 0.4678 - val_accuracy: 0.7965\n",
      "Epoch 17/30\n",
      "191/191 [==============================] - 2s 12ms/step - loss: 0.3575 - accuracy: 0.8593 - val_loss: 0.4726 - val_accuracy: 0.7965\n",
      "Epoch 18/30\n",
      "191/191 [==============================] - 2s 13ms/step - loss: 0.3520 - accuracy: 0.8542 - val_loss: 0.4773 - val_accuracy: 0.7971\n",
      "Epoch 19/30\n",
      "191/191 [==============================] - 2s 12ms/step - loss: 0.3486 - accuracy: 0.8578 - val_loss: 0.4810 - val_accuracy: 0.7965\n",
      "Epoch 20/30\n",
      "191/191 [==============================] - 2s 12ms/step - loss: 0.3501 - accuracy: 0.8616 - val_loss: 0.4724 - val_accuracy: 0.7965\n",
      "Epoch 21/30\n",
      "191/191 [==============================] - 2s 12ms/step - loss: 0.3507 - accuracy: 0.8568 - val_loss: 0.4671 - val_accuracy: 0.7951\n",
      "Epoch 22/30\n",
      "191/191 [==============================] - 2s 12ms/step - loss: 0.3476 - accuracy: 0.8593 - val_loss: 0.4718 - val_accuracy: 0.7951\n",
      "Epoch 23/30\n",
      "191/191 [==============================] - 2s 13ms/step - loss: 0.3460 - accuracy: 0.8611 - val_loss: 0.4829 - val_accuracy: 0.7938\n",
      "Epoch 24/30\n",
      "191/191 [==============================] - 2s 12ms/step - loss: 0.3457 - accuracy: 0.8627 - val_loss: 0.4842 - val_accuracy: 0.7919\n",
      "Epoch 25/30\n",
      "191/191 [==============================] - 2s 12ms/step - loss: 0.3458 - accuracy: 0.8585 - val_loss: 0.4737 - val_accuracy: 0.7938\n",
      "Epoch 26/30\n",
      "191/191 [==============================] - 2s 12ms/step - loss: 0.3441 - accuracy: 0.8642 - val_loss: 0.4770 - val_accuracy: 0.7932\n",
      "Epoch 27/30\n",
      "191/191 [==============================] - 2s 13ms/step - loss: 0.3440 - accuracy: 0.8647 - val_loss: 0.4690 - val_accuracy: 0.7951\n",
      "Epoch 28/30\n",
      "191/191 [==============================] - 2s 13ms/step - loss: 0.3399 - accuracy: 0.8631 - val_loss: 0.4746 - val_accuracy: 0.7912\n",
      "Epoch 29/30\n",
      "191/191 [==============================] - 2s 12ms/step - loss: 0.3373 - accuracy: 0.8683 - val_loss: 0.4804 - val_accuracy: 0.7938\n",
      "Epoch 30/30\n",
      "191/191 [==============================] - 2s 12ms/step - loss: 0.3341 - accuracy: 0.8695 - val_loss: 0.4817 - val_accuracy: 0.7951\n",
      "48/48 [==============================] - 0s 3ms/step - loss: 0.4480 - accuracy: 0.7945\n",
      "\n",
      "Model accuracy on validation set =  0.794484555721283\n",
      "\n",
      "Model loss on validation set =  0.4480398893356323\n",
      "\n",
      "Model F1 on validation set =  0.7861884729913807\n",
      "\n",
      "f1 score is: 0.7750497255934004\n",
      "              precision    recall  f1-score   support\n",
      "\n",
      "           0       0.78      0.87      0.82      1861\n",
      "           1       0.80      0.67      0.73      1402\n",
      "\n",
      "    accuracy                           0.79      3263\n",
      "   macro avg       0.79      0.77      0.78      3263\n",
      "weighted avg       0.79      0.79      0.78      3263\n",
      "\n",
      "[[1627  234]\n",
      " [ 467  935]]\n"
     ]
    },
    {
     "data": {
      "image/png": "[encoded data removed]",
      "text/plain": [
       "<Figure size 432x288 with 1 Axes>"
      ]
     },
     "metadata": {},
     "output_type": "display_data"
    },
    {
     "data": {
      "image/png": "[encoded data removed]",
      "text/plain": [
       "<Figure size 432x288 with 1 Axes>"
      ]
     },
     "metadata": {},
     "output_type": "display_data"
    }
   ],
   "source": [
    "model4 = m4_bidirectional_dual_lstm()\n",
    "model_process(model4, 30, '05 bidirectional dual lstm', '05 bidirectional dual lstm')"
   ]
  },
  {
   "cell_type": "markdown",
   "id": "7b8ae90a",
   "metadata": {},
   "source": [
    "# LSTM with GloVe"
   ]
  },
  {
   "cell_type": "code",
   "execution_count": 145,
   "id": "4ed46269",
   "metadata": {},
   "outputs": [
    {
     "name": "stderr",
     "output_type": "stream",
     "text": [
      "400001it [00:18, 21238.07it/s]\n"
     ]
    }
   ],
   "source": [
    "embeddings_index = {}\n",
    "with open('glove.6B/glove.6B.200d.txt','r', encoding=\"utf8\") as f:\n",
    "    for line in tqdm(f):\n",
    "        values = line.split()\n",
    "        word = values[0]\n",
    "        coefs = np.asarray(values[1:], dtype='float32')\n",
    "        embeddings_index[word] = coefs\n",
    "f.close()"
   ]
  },
  {
   "cell_type": "code",
   "execution_count": 150,
   "id": "9ffa5f88",
   "metadata": {},
   "outputs": [
    {
     "name": "stderr",
     "output_type": "stream",
     "text": [
      "100%|██████████| 15163/15163 [00:00<00:00, 582678.85it/s]"
     ]
    },
    {
     "name": "stdout",
     "output_type": "stream",
     "text": [
      "Our embedded matrix is of dimension (15164, 200)\n"
     ]
    },
    {
     "name": "stderr",
     "output_type": "stream",
     "text": [
      "\n"
     ]
    }
   ],
   "source": [
    "EMBEDDING_DIM = 200  \n",
    "word_index = tokenizer.word_index\n",
    "\n",
    "#initialize embedding matrix with zeros\n",
    "embedding_matrix = np.zeros((len(word_index) + 1, EMBEDDING_DIM))\n",
    "\n",
    "#add glove word encodings to our library\n",
    "for word, i in tqdm(word_index.items()):\n",
    "    embedding_vector = embeddings_index.get(word)\n",
    "    if embedding_vector is not None:\n",
    "        \n",
    "        #words not found in embedding index will be all-zeros.\n",
    "        embedding_matrix[i] = embedding_vector\n",
    "        \n",
    "print(\"Our embedded matrix is of dimension\", embedding_matrix.shape)"
   ]
  },
  {
   "cell_type": "code",
   "execution_count": 151,
   "id": "fe510311",
   "metadata": {},
   "outputs": [],
   "source": [
    "embedding = Embedding(len(word_index) + 1, EMBEDDING_DIM, weights = [embedding_matrix],\n",
    "                     input_length = 23, trainable = False)  "
   ]
  },
  {
   "cell_type": "code",
   "execution_count": 235,
   "id": "b5389af3",
   "metadata": {},
   "outputs": [],
   "source": [
    "def m5_glove():\n",
    "            \n",
    "    #define inputs\n",
    "    nlp_input = Input(shape = (23,), name = 'nlp_input')\n",
    "    meta_input_train = Input(shape = (7, ), name = 'meta_train')\n",
    "    \n",
    "    emb = embedding(nlp_input)\n",
    "    emb = SpatialDropout1D(0.4)(emb)\n",
    "\n",
    "    nlp_out = Bidirectional(LSTM(50, \n",
    "                                 dropout=0.4, kernel_initializer = 'orthogonal',\n",
    "                                 ))(emb)     \n",
    "     \n",
    "    #add meta data    \n",
    "    x = Concatenate()([nlp_out, meta_input_train])\n",
    "    \n",
    "    #add second hidden layer\n",
    "    #x = Dropout(0.1)(x)\n",
    "    #x = (Dense(60, \n",
    "   #            activation = 'relu'\n",
    "   #           ))(x)\n",
    "    \n",
    "    #add output layer\n",
    "    x = Dropout(0.4)(x)\n",
    "    preds = Dense(1, \n",
    "                  activation='sigmoid'\n",
    "                 )(x)\n",
    "    \n",
    "    #compile model\n",
    "    model = Model(inputs=[nlp_input , meta_input_train], outputs = preds)\n",
    "    model.compile(loss = 'binary_crossentropy', optimizer = RMSprop(0.004), metrics = ['accuracy'])\n",
    "    \n",
    "    return model"
   ]
  },
  {
   "cell_type": "code",
   "execution_count": null,
   "id": "0d86283d",
   "metadata": {},
   "outputs": [],
   "source": [
    "model5 = m5_glove()\n",
    "model_process(model5, 50, '07 GloVe single LSTM', filename='07 GloVe single LSTM')"
   ]
  },
  {
   "cell_type": "markdown",
   "id": "e281faa4",
   "metadata": {},
   "source": [
    "# GloVe dual LSTM"
   ]
  },
  {
   "cell_type": "code",
   "execution_count": 229,
   "id": "0b32aba3",
   "metadata": {},
   "outputs": [],
   "source": [
    "def m6_glove2():\n",
    "            \n",
    "    #define inputs\n",
    "    nlp_input = Input(shape = (23,), name = 'nlp_input')\n",
    "    meta_input_train = Input(shape = (7, ), name = 'meta_train')\n",
    "    \n",
    "\n",
    "    emb = embedding(nlp_input)\n",
    "    emb = SpatialDropout1D(0.1)(emb)\n",
    "\n",
    "    \n",
    "    nlp_out = Bidirectional(LSTM(70, \n",
    "                                 dropout=0.4,\n",
    "                                 return_sequences=True))(emb)    \n",
    "    \n",
    "    nlp_out = SpatialDropout1D(0.1)(nlp_out)\n",
    "    \n",
    "    nlp_out = Bidirectional(LSTM(50, \n",
    "                                 dropout=0.4))(emb)    \n",
    "    \n",
    "     \n",
    "    #add meta data    \n",
    "    x = Concatenate()([nlp_out, meta_input_train])\n",
    "    \n",
    "    #add second hidden layer\n",
    "    x = Dropout(0.6)(x)\n",
    "    x = (Dense(90, \n",
    "               activation = 'relu'\n",
    "              ))(x)\n",
    "    \n",
    "    #add output layer\n",
    "    x = Dropout(0.6)(x)\n",
    "    preds = Dense(1, \n",
    "                  activation='sigmoid'\n",
    "                 )(x)\n",
    "    \n",
    "    #compile model\n",
    "    model = Model(inputs=[nlp_input , meta_input_train], outputs = preds)\n",
    "    model.compile(loss = 'binary_crossentropy', optimizer = Adam(0.005), metrics = ['accuracy'])\n",
    "    \n",
    "    return model"
   ]
  },
  {
   "cell_type": "raw",
   "id": "634830c2",
   "metadata": {},
   "source": [
    "model6 = m6_glove2()\n",
    "model_process(model6, 50, '06 GloVe dual lstm', '06 GloVe dual lstm')"
   ]
  },
  {
   "cell_type": "markdown",
   "id": "72d5e091",
   "metadata": {},
   "source": [
    "# model tuning"
   ]
  },
  {
   "cell_type": "code",
   "execution_count": 167,
   "id": "47eb27d7",
   "metadata": {},
   "outputs": [],
   "source": [
    "import optuna"
   ]
  },
  {
   "cell_type": "code",
   "execution_count": 173,
   "id": "4e53518e",
   "metadata": {},
   "outputs": [],
   "source": [
    "def objective(trial):\n",
    "    LSTM_dropout = trial.suggest_discrete_uniform('dropout', 0.0, 0.8, 0.1)\n",
    "    dropout = trial.suggest_discrete_uniform('dropout', 0.0, 0.8, 0.1)\n",
    "    lr = trial.suggest_float(\"lr\", 1e-5, 1e-1, log=True)\n",
    "    optimizer = trial.suggest_categorical(\"optimizer\", [Adam, RMSprop])\n",
    "    \n",
    "    LSTM1 = trial.suggest_int('units1', 20, 200, step=10)\n",
    "    LSTM2 = trial.suggest_int('units2', 20, 200, step=10)\n",
    "    dense_units = trial.suggest_int('units3', 20, 200, step=10)\n",
    "    \n",
    "    \n",
    "    \n",
    "    nlp_input = Input(shape = (40,), name = 'nlp_input')\n",
    "    meta_input_train = Input(shape = (7, ), name = 'meta_train')\n",
    "    \n",
    "    emb = embedding(nlp_input)\n",
    "    emb = SpatialDropout1D(dropout)(emb)\n",
    "\n",
    "    nlp_out = Bidirectional(LSTM(LSTM1, \n",
    "                                 dropout=LSTM_dropout,\n",
    "                                 return_sequences=True))(emb)    \n",
    "    \n",
    "    nlp_out = SpatialDropout1D(dropout)(nlp_out)\n",
    "    \n",
    "    nlp_out = Bidirectional(LSTM(LSTM2, \n",
    "                                 dropout=LSTM_dropout))(emb)    \n",
    "    \n",
    "     \n",
    "    #add meta data    \n",
    "    x = Concatenate()([nlp_out, meta_input_train])\n",
    "    \n",
    "    #add second hidden layer\n",
    "    x = Dropout(dropout)(x)\n",
    "    x = (Dense(dense_units, \n",
    "               activation = 'relu'\n",
    "              ))(x)\n",
    "    \n",
    "    #add output layer\n",
    "    x = Dropout(dropout)(x)\n",
    "    preds = Dense(1, \n",
    "                  activation='sigmoid'\n",
    "                 )(x)\n",
    "    \n",
    "    #compile model\n",
    "    model = Model(inputs=[nlp_input , meta_input_train], outputs = preds)\n",
    "\n",
    "    model.compile(loss = 'binary_crossentropy', optimizer = optimizer(lr), metrics = ['accuracy'])\n",
    "    \n",
    "    reduce_lr = ReduceLROnPlateau(monitor = 'val_loss', \n",
    "                              factor = 0.5, \n",
    "                              verbose = False, \n",
    "                              patience = 4,                        \n",
    "                              min_lr = 0.0001)\n",
    "    \n",
    "    model.fit(x=[X_train_data, meta_train],\n",
    "                        y=y_train,\n",
    "                        epochs = 30,\n",
    "                        verbose=False,\n",
    "                        callbacks=[reduce_lr],\n",
    "                        validation_data = ([X_val_data, meta_val], y_val),\n",
    "                        shuffle=True\n",
    "                       )\n",
    "    y_pred = (model.predict([test_data, meta_test]) > 0.5).astype(int)\n",
    "    f1 = f1_score(y_true, y_pred, average='macro')\n",
    "    return f1"
   ]
  },
  {
   "cell_type": "code",
   "execution_count": 174,
   "id": "6bae70f3",
   "metadata": {},
   "outputs": [
    {
     "name": "stderr",
     "output_type": "stream",
     "text": [
      "\u001b[32m[I 2021-08-22 16:51:04,521]\u001b[0m A new study created in memory with name: no-name-2a44ce95-fde1-44ce-9cec-1f8d98d9f70e\u001b[0m\n",
      "\u001b[32m[I 2021-08-22 16:51:39,653]\u001b[0m Trial 0 finished with value: 0.8003066407696942 and parameters: {'dropout': 0.4, 'lr': 0.0024002985508868833, 'optimizer': <class 'tensorflow.python.keras.optimizer_v2.adam.Adam'>, 'units1': 160, 'units2': 100, 'units3': 130}. Best is trial 0 with value: 0.8003066407696942.\u001b[0m\n",
      "\u001b[32m[I 2021-08-22 16:52:28,498]\u001b[0m Trial 1 finished with value: 0.36463379803071716 and parameters: {'dropout': 0.8, 'lr': 6.114977604969302e-05, 'optimizer': <class 'tensorflow.python.keras.optimizer_v2.adam.Adam'>, 'units1': 140, 'units2': 110, 'units3': 50}. Best is trial 0 with value: 0.8003066407696942.\u001b[0m\n",
      "\u001b[32m[I 2021-08-22 16:53:14,854]\u001b[0m Trial 2 finished with value: 0.7609989096779143 and parameters: {'dropout': 0.30000000000000004, 'lr': 0.03015223198850489, 'optimizer': <class 'tensorflow.python.keras.optimizer_v2.adam.Adam'>, 'units1': 150, 'units2': 180, 'units3': 120}. Best is trial 0 with value: 0.8003066407696942.\u001b[0m\n",
      "\u001b[32m[I 2021-08-22 16:53:55,149]\u001b[0m Trial 3 finished with value: 0.7735188684744161 and parameters: {'dropout': 0.0, 'lr': 0.010643197864954995, 'optimizer': <class 'tensorflow.python.keras.optimizer_v2.rmsprop.RMSprop'>, 'units1': 30, 'units2': 60, 'units3': 90}. Best is trial 0 with value: 0.8003066407696942.\u001b[0m\n",
      "\u001b[32m[I 2021-08-22 16:54:34,116]\u001b[0m Trial 4 finished with value: 0.7947648016651874 and parameters: {'dropout': 0.30000000000000004, 'lr': 0.0007102907034604094, 'optimizer': <class 'tensorflow.python.keras.optimizer_v2.adam.Adam'>, 'units1': 180, 'units2': 80, 'units3': 110}. Best is trial 0 with value: 0.8003066407696942.\u001b[0m\n",
      "\u001b[32m[I 2021-08-22 16:55:11,552]\u001b[0m Trial 5 finished with value: 0.7381929595825353 and parameters: {'dropout': 0.4, 'lr': 0.04342352487739076, 'optimizer': <class 'tensorflow.python.keras.optimizer_v2.adam.Adam'>, 'units1': 120, 'units2': 60, 'units3': 150}. Best is trial 0 with value: 0.8003066407696942.\u001b[0m\n",
      "\u001b[32m[I 2021-08-22 16:55:52,043]\u001b[0m Trial 6 finished with value: 0.8061234230232759 and parameters: {'dropout': 0.4, 'lr': 0.003206750005427219, 'optimizer': <class 'tensorflow.python.keras.optimizer_v2.rmsprop.RMSprop'>, 'units1': 120, 'units2': 40, 'units3': 90}. Best is trial 6 with value: 0.8061234230232759.\u001b[0m\n",
      "\u001b[32m[I 2021-08-22 16:56:33,288]\u001b[0m Trial 7 finished with value: 0.7392455075197248 and parameters: {'dropout': 0.7000000000000001, 'lr': 0.0053193731411567795, 'optimizer': <class 'tensorflow.python.keras.optimizer_v2.rmsprop.RMSprop'>, 'units1': 150, 'units2': 60, 'units3': 130}. Best is trial 6 with value: 0.8061234230232759.\u001b[0m\n",
      "\u001b[32m[I 2021-08-22 16:57:14,487]\u001b[0m Trial 8 finished with value: 0.8051977537375214 and parameters: {'dropout': 0.4, 'lr': 0.00046789169899239463, 'optimizer': <class 'tensorflow.python.keras.optimizer_v2.rmsprop.RMSprop'>, 'units1': 200, 'units2': 100, 'units3': 110}. Best is trial 6 with value: 0.8061234230232759.\u001b[0m\n",
      "\u001b[32m[I 2021-08-22 16:57:48,932]\u001b[0m Trial 9 finished with value: 0.7226896469668384 and parameters: {'dropout': 0.7000000000000001, 'lr': 0.004944330190482606, 'optimizer': <class 'tensorflow.python.keras.optimizer_v2.adam.Adam'>, 'units1': 130, 'units2': 90, 'units3': 40}. Best is trial 6 with value: 0.8061234230232759.\u001b[0m\n",
      "\u001b[32m[I 2021-08-22 16:58:29,648]\u001b[0m Trial 10 finished with value: 0.765445487617357 and parameters: {'dropout': 0.0, 'lr': 1.2712904285852567e-05, 'optimizer': <class 'tensorflow.python.keras.optimizer_v2.rmsprop.RMSprop'>, 'units1': 70, 'units2': 20, 'units3': 190}. Best is trial 6 with value: 0.8061234230232759.\u001b[0m\n",
      "\u001b[32m[I 2021-08-22 16:59:13,766]\u001b[0m Trial 11 finished with value: 0.7865455902100414 and parameters: {'dropout': 0.5, 'lr': 0.0003442182216816457, 'optimizer': <class 'tensorflow.python.keras.optimizer_v2.rmsprop.RMSprop'>, 'units1': 200, 'units2': 160, 'units3': 80}. Best is trial 6 with value: 0.8061234230232759.\u001b[0m\n",
      "\u001b[32m[I 2021-08-22 16:59:47,943]\u001b[0m Trial 12 finished with value: 0.7988301716526184 and parameters: {'dropout': 0.2, 'lr': 0.0002962941661989416, 'optimizer': <class 'tensorflow.python.keras.optimizer_v2.rmsprop.RMSprop'>, 'units1': 80, 'units2': 20, 'units3': 70}. Best is trial 6 with value: 0.8061234230232759.\u001b[0m\n",
      "\u001b[32m[I 2021-08-22 17:00:32,314]\u001b[0m Trial 13 finished with value: 0.7887038169586646 and parameters: {'dropout': 0.5, 'lr': 0.00012238391314014122, 'optimizer': <class 'tensorflow.python.keras.optimizer_v2.rmsprop.RMSprop'>, 'units1': 90, 'units2': 150, 'units3': 160}. Best is trial 6 with value: 0.8061234230232759.\u001b[0m\n",
      "\u001b[32m[I 2021-08-22 17:01:16,553]\u001b[0m Trial 14 finished with value: 0.7941974140649637 and parameters: {'dropout': 0.2, 'lr': 0.0017688323619891883, 'optimizer': <class 'tensorflow.python.keras.optimizer_v2.rmsprop.RMSprop'>, 'units1': 40, 'units2': 130, 'units3': 100}. Best is trial 6 with value: 0.8061234230232759.\u001b[0m\n",
      "\u001b[32m[I 2021-08-22 17:01:50,851]\u001b[0m Trial 15 finished with value: 0.3631928181108509 and parameters: {'dropout': 0.6000000000000001, 'lr': 0.09509195294145185, 'optimizer': <class 'tensorflow.python.keras.optimizer_v2.rmsprop.RMSprop'>, 'units1': 200, 'units2': 40, 'units3': 20}. Best is trial 6 with value: 0.8061234230232759.\u001b[0m\n",
      "\u001b[32m[I 2021-08-22 17:02:37,683]\u001b[0m Trial 16 finished with value: 0.7903243486698044 and parameters: {'dropout': 0.2, 'lr': 0.0007267726526133073, 'optimizer': <class 'tensorflow.python.keras.optimizer_v2.rmsprop.RMSprop'>, 'units1': 170, 'units2': 200, 'units3': 70}. Best is trial 6 with value: 0.8061234230232759.\u001b[0m\n",
      "\u001b[32m[I 2021-08-22 17:03:21,807]\u001b[0m Trial 17 finished with value: 0.7635818377369461 and parameters: {'dropout': 0.5, 'lr': 2.332827127487241e-05, 'optimizer': <class 'tensorflow.python.keras.optimizer_v2.rmsprop.RMSprop'>, 'units1': 100, 'units2': 130, 'units3': 160}. Best is trial 6 with value: 0.8061234230232759.\u001b[0m\n",
      "\u001b[32m[I 2021-08-22 17:03:56,320]\u001b[0m Trial 18 finished with value: 0.7873071744341709 and parameters: {'dropout': 0.30000000000000004, 'lr': 9.541314087571528e-05, 'optimizer': <class 'tensorflow.python.keras.optimizer_v2.rmsprop.RMSprop'>, 'units1': 50, 'units2': 80, 'units3': 190}. Best is trial 6 with value: 0.8061234230232759.\u001b[0m\n",
      "\u001b[32m[I 2021-08-22 17:04:30,806]\u001b[0m Trial 19 finished with value: 0.7775333884980189 and parameters: {'dropout': 0.1, 'lr': 0.01528291310191165, 'optimizer': <class 'tensorflow.python.keras.optimizer_v2.rmsprop.RMSprop'>, 'units1': 110, 'units2': 40, 'units3': 50}. Best is trial 6 with value: 0.8061234230232759.\u001b[0m\n",
      "\u001b[32m[I 2021-08-22 17:05:19,668]\u001b[0m Trial 20 finished with value: 0.7983457052665843 and parameters: {'dropout': 0.4, 'lr': 0.00025559365443463087, 'optimizer': <class 'tensorflow.python.keras.optimizer_v2.rmsprop.RMSprop'>, 'units1': 180, 'units2': 120, 'units3': 140}. Best is trial 6 with value: 0.8061234230232759.\u001b[0m\n",
      "\u001b[32m[I 2021-08-22 17:05:54,040]\u001b[0m Trial 21 finished with value: 0.8083996467460235 and parameters: {'dropout': 0.4, 'lr': 0.00204634709105458, 'optimizer': <class 'tensorflow.python.keras.optimizer_v2.adam.Adam'>, 'units1': 160, 'units2': 100, 'units3': 120}. Best is trial 21 with value: 0.8083996467460235.\u001b[0m\n",
      "\u001b[32m[I 2021-08-22 17:06:37,179]\u001b[0m Trial 22 finished with value: 0.7934982745650592 and parameters: {'dropout': 0.6000000000000001, 'lr': 0.0016063877517292014, 'optimizer': <class 'tensorflow.python.keras.optimizer_v2.adam.Adam'>, 'units1': 190, 'units2': 150, 'units3': 100}. Best is trial 21 with value: 0.8083996467460235.\u001b[0m\n",
      "\u001b[32m[I 2021-08-22 17:07:10,116]\u001b[0m Trial 23 finished with value: 0.7975325151735823 and parameters: {'dropout': 0.5, 'lr': 0.004773182878019069, 'optimizer': <class 'tensorflow.python.keras.optimizer_v2.adam.Adam'>, 'units1': 170, 'units2': 80, 'units3': 110}. Best is trial 21 with value: 0.8083996467460235.\u001b[0m\n",
      "\u001b[32m[I 2021-08-22 17:07:44,515]\u001b[0m Trial 24 finished with value: 0.8015075660106736 and parameters: {'dropout': 0.30000000000000004, 'lr': 0.0007264108046518433, 'optimizer': <class 'tensorflow.python.keras.optimizer_v2.adam.Adam'>, 'units1': 130, 'units2': 100, 'units3': 90}. Best is trial 21 with value: 0.8083996467460235.\u001b[0m\n"
     ]
    },
    {
     "name": "stderr",
     "output_type": "stream",
     "text": [
      "\u001b[32m[I 2021-08-22 17:08:18,948]\u001b[0m Trial 25 finished with value: 0.7999453553664693 and parameters: {'dropout': 0.4, 'lr': 0.0024685479486593366, 'optimizer': <class 'tensorflow.python.keras.optimizer_v2.rmsprop.RMSprop'>, 'units1': 160, 'units2': 40, 'units3': 170}. Best is trial 21 with value: 0.8083996467460235.\u001b[0m\n",
      "\u001b[32m[I 2021-08-22 17:09:02,298]\u001b[0m Trial 26 finished with value: 0.6585403725304242 and parameters: {'dropout': 0.6000000000000001, 'lr': 0.013284269834185923, 'optimizer': <class 'tensorflow.python.keras.optimizer_v2.adam.Adam'>, 'units1': 110, 'units2': 130, 'units3': 120}. Best is trial 21 with value: 0.8083996467460235.\u001b[0m\n",
      "\u001b[32m[I 2021-08-22 17:09:37,175]\u001b[0m Trial 27 finished with value: 0.8039306452747039 and parameters: {'dropout': 0.30000000000000004, 'lr': 0.00037571748356424493, 'optimizer': <class 'tensorflow.python.keras.optimizer_v2.rmsprop.RMSprop'>, 'units1': 190, 'units2': 70, 'units3': 70}. Best is trial 21 with value: 0.8083996467460235.\u001b[0m\n",
      "\u001b[32m[I 2021-08-22 17:10:21,701]\u001b[0m Trial 28 finished with value: 0.8050014794840837 and parameters: {'dropout': 0.5, 'lr': 0.001399901366172152, 'optimizer': <class 'tensorflow.python.keras.optimizer_v2.adam.Adam'>, 'units1': 130, 'units2': 110, 'units3': 90}. Best is trial 21 with value: 0.8083996467460235.\u001b[0m\n",
      "\u001b[32m[I 2021-08-22 17:10:56,756]\u001b[0m Trial 29 finished with value: 0.7985775868183189 and parameters: {'dropout': 0.4, 'lr': 0.003033151167747469, 'optimizer': <class 'tensorflow.python.keras.optimizer_v2.adam.Adam'>, 'units1': 160, 'units2': 100, 'units3': 130}. Best is trial 21 with value: 0.8083996467460235.\u001b[0m\n",
      "\u001b[32m[I 2021-08-22 17:11:37,372]\u001b[0m Trial 30 finished with value: 0.8006004328020535 and parameters: {'dropout': 0.2, 'lr': 0.007205068265204392, 'optimizer': <class 'tensorflow.python.keras.optimizer_v2.rmsprop.RMSprop'>, 'units1': 150, 'units2': 50, 'units3': 110}. Best is trial 21 with value: 0.8083996467460235.\u001b[0m\n",
      "\u001b[32m[I 2021-08-22 17:12:25,478]\u001b[0m Trial 31 finished with value: 0.8013592858308716 and parameters: {'dropout': 0.5, 'lr': 0.001133243206676133, 'optimizer': <class 'tensorflow.python.keras.optimizer_v2.adam.Adam'>, 'units1': 130, 'units2': 110, 'units3': 90}. Best is trial 21 with value: 0.8083996467460235.\u001b[0m\n",
      "\u001b[32m[I 2021-08-22 17:13:04,212]\u001b[0m Trial 32 finished with value: 0.7822563959200048 and parameters: {'dropout': 0.6000000000000001, 'lr': 0.002969777015791217, 'optimizer': <class 'tensorflow.python.keras.optimizer_v2.adam.Adam'>, 'units1': 140, 'units2': 90, 'units3': 60}. Best is trial 21 with value: 0.8083996467460235.\u001b[0m\n",
      "\u001b[32m[I 2021-08-22 17:13:53,413]\u001b[0m Trial 33 finished with value: 0.8063861719225096 and parameters: {'dropout': 0.4, 'lr': 0.0011997104469627187, 'optimizer': <class 'tensorflow.python.keras.optimizer_v2.adam.Adam'>, 'units1': 120, 'units2': 110, 'units3': 120}. Best is trial 21 with value: 0.8083996467460235.\u001b[0m\n",
      "\u001b[32m[I 2021-08-22 17:14:42,697]\u001b[0m Trial 34 finished with value: 0.8077589835178693 and parameters: {'dropout': 0.4, 'lr': 0.0004514297705843633, 'optimizer': <class 'tensorflow.python.keras.optimizer_v2.adam.Adam'>, 'units1': 100, 'units2': 120, 'units3': 130}. Best is trial 21 with value: 0.8083996467460235.\u001b[0m\n",
      "\u001b[32m[I 2021-08-22 17:15:32,233]\u001b[0m Trial 35 finished with value: 0.8003061532356585 and parameters: {'dropout': 0.30000000000000004, 'lr': 0.00016712619324923034, 'optimizer': <class 'tensorflow.python.keras.optimizer_v2.adam.Adam'>, 'units1': 70, 'units2': 140, 'units3': 140}. Best is trial 21 with value: 0.8083996467460235.\u001b[0m\n",
      "\u001b[32m[I 2021-08-22 17:16:21,347]\u001b[0m Trial 36 finished with value: 0.8010491394719884 and parameters: {'dropout': 0.4, 'lr': 0.000900156972205981, 'optimizer': <class 'tensorflow.python.keras.optimizer_v2.adam.Adam'>, 'units1': 100, 'units2': 120, 'units3': 130}. Best is trial 21 with value: 0.8083996467460235.\u001b[0m\n",
      "\u001b[32m[I 2021-08-22 17:17:10,790]\u001b[0m Trial 37 finished with value: 0.7784529070529238 and parameters: {'dropout': 0.30000000000000004, 'lr': 0.02555297375433882, 'optimizer': <class 'tensorflow.python.keras.optimizer_v2.adam.Adam'>, 'units1': 120, 'units2': 160, 'units3': 140}. Best is trial 21 with value: 0.8083996467460235.\u001b[0m\n",
      "\u001b[32m[I 2021-08-22 17:18:00,045]\u001b[0m Trial 38 finished with value: 0.7999972543323541 and parameters: {'dropout': 0.4, 'lr': 0.0004986695822813584, 'optimizer': <class 'tensorflow.python.keras.optimizer_v2.adam.Adam'>, 'units1': 100, 'units2': 120, 'units3': 150}. Best is trial 21 with value: 0.8083996467460235.\u001b[0m\n",
      "\u001b[32m[I 2021-08-22 17:18:50,492]\u001b[0m Trial 39 finished with value: 0.7817741591329792 and parameters: {'dropout': 0.4, 'lr': 4.784959146166404e-05, 'optimizer': <class 'tensorflow.python.keras.optimizer_v2.adam.Adam'>, 'units1': 80, 'units2': 170, 'units3': 120}. Best is trial 21 with value: 0.8083996467460235.\u001b[0m\n",
      "\u001b[32m[I 2021-08-22 17:19:48,945]\u001b[0m Trial 40 finished with value: 0.4848880296749414 and parameters: {'dropout': 0.8, 'lr': 0.0037971219892928717, 'optimizer': <class 'tensorflow.python.keras.optimizer_v2.adam.Adam'>, 'units1': 120, 'units2': 190, 'units3': 120}. Best is trial 21 with value: 0.8083996467460235.\u001b[0m\n",
      "\u001b[32m[I 2021-08-22 17:20:27,393]\u001b[0m Trial 41 finished with value: 0.8007866342620313 and parameters: {'dropout': 0.4, 'lr': 0.0005250583903347534, 'optimizer': <class 'tensorflow.python.keras.optimizer_v2.adam.Adam'>, 'units1': 140, 'units2': 90, 'units3': 100}. Best is trial 21 with value: 0.8083996467460235.\u001b[0m\n",
      "\u001b[32m[I 2021-08-22 17:21:05,109]\u001b[0m Trial 42 finished with value: 0.7806368998551408 and parameters: {'dropout': 0.5, 'lr': 0.0076926627439177706, 'optimizer': <class 'tensorflow.python.keras.optimizer_v2.adam.Adam'>, 'units1': 150, 'units2': 70, 'units3': 120}. Best is trial 21 with value: 0.8083996467460235.\u001b[0m\n",
      "\u001b[32m[I 2021-08-22 17:21:44,083]\u001b[0m Trial 43 finished with value: 0.7960747201658379 and parameters: {'dropout': 0.4, 'lr': 0.0002048423388229326, 'optimizer': <class 'tensorflow.python.keras.optimizer_v2.adam.Adam'>, 'units1': 90, 'units2': 100, 'units3': 110}. Best is trial 21 with value: 0.8083996467460235.\u001b[0m\n",
      "\u001b[32m[I 2021-08-22 17:22:33,984]\u001b[0m Trial 44 finished with value: 0.8020495494444471 and parameters: {'dropout': 0.30000000000000004, 'lr': 0.0021889609245590866, 'optimizer': <class 'tensorflow.python.keras.optimizer_v2.rmsprop.RMSprop'>, 'units1': 120, 'units2': 110, 'units3': 80}. Best is trial 21 with value: 0.8083996467460235.\u001b[0m\n",
      "\u001b[32m[I 2021-08-22 17:23:23,525]\u001b[0m Trial 45 finished with value: 0.7969738968660995 and parameters: {'dropout': 0.30000000000000004, 'lr': 0.0010708511545548616, 'optimizer': <class 'tensorflow.python.keras.optimizer_v2.adam.Adam'>, 'units1': 180, 'units2': 140, 'units3': 100}. Best is trial 21 with value: 0.8083996467460235.\u001b[0m\n",
      "\u001b[32m[I 2021-08-22 17:24:03,251]\u001b[0m Trial 46 finished with value: 0.7914705340374897 and parameters: {'dropout': 0.5, 'lr': 0.00047123596262397936, 'optimizer': <class 'tensorflow.python.keras.optimizer_v2.rmsprop.RMSprop'>, 'units1': 60, 'units2': 80, 'units3': 130}. Best is trial 21 with value: 0.8083996467460235.\u001b[0m\n",
      "\u001b[32m[I 2021-08-22 17:24:42,307]\u001b[0m Trial 47 finished with value: 0.7269206414014195 and parameters: {'dropout': 0.7000000000000001, 'lr': 6.580994868321378e-05, 'optimizer': <class 'tensorflow.python.keras.optimizer_v2.rmsprop.RMSprop'>, 'units1': 170, 'units2': 30, 'units3': 150}. Best is trial 21 with value: 0.8083996467460235.\u001b[0m\n",
      "\u001b[32m[I 2021-08-22 17:25:21,224]\u001b[0m Trial 48 finished with value: 0.7994647767893609 and parameters: {'dropout': 0.4, 'lr': 0.001739393577786133, 'optimizer': <class 'tensorflow.python.keras.optimizer_v2.adam.Adam'>, 'units1': 110, 'units2': 100, 'units3': 170}. Best is trial 21 with value: 0.8083996467460235.\u001b[0m\n",
      "\u001b[32m[I 2021-08-22 17:26:01,246]\u001b[0m Trial 49 finished with value: 0.7991143559636711 and parameters: {'dropout': 0.2, 'lr': 0.0007397275613687885, 'optimizer': <class 'tensorflow.python.keras.optimizer_v2.rmsprop.RMSprop'>, 'units1': 90, 'units2': 70, 'units3': 80}. Best is trial 21 with value: 0.8083996467460235.\u001b[0m\n",
      "\u001b[32m[I 2021-08-22 17:26:51,644]\u001b[0m Trial 50 finished with value: 0.7840487051652101 and parameters: {'dropout': 0.4, 'lr': 0.0001321632056443475, 'optimizer': <class 'tensorflow.python.keras.optimizer_v2.rmsprop.RMSprop'>, 'units1': 150, 'units2': 120, 'units3': 120}. Best is trial 21 with value: 0.8083996467460235.\u001b[0m\n"
     ]
    },
    {
     "name": "stderr",
     "output_type": "stream",
     "text": [
      "\u001b[32m[I 2021-08-22 17:27:41,961]\u001b[0m Trial 51 finished with value: 0.7964874535790741 and parameters: {'dropout': 0.5, 'lr': 0.0012320563994942405, 'optimizer': <class 'tensorflow.python.keras.optimizer_v2.adam.Adam'>, 'units1': 130, 'units2': 110, 'units3': 90}. Best is trial 21 with value: 0.8083996467460235.\u001b[0m\n",
      "\u001b[32m[I 2021-08-22 17:28:29,231]\u001b[0m Trial 52 finished with value: 0.8016845546521477 and parameters: {'dropout': 0.5, 'lr': 0.0018357515854378092, 'optimizer': <class 'tensorflow.python.keras.optimizer_v2.adam.Adam'>, 'units1': 140, 'units2': 90, 'units3': 100}. Best is trial 21 with value: 0.8083996467460235.\u001b[0m\n",
      "\u001b[32m[I 2021-08-22 17:29:16,320]\u001b[0m Trial 53 finished with value: 0.7886270323087581 and parameters: {'dropout': 0.6000000000000001, 'lr': 0.0014818211760892059, 'optimizer': <class 'tensorflow.python.keras.optimizer_v2.adam.Adam'>, 'units1': 20, 'units2': 110, 'units3': 110}. Best is trial 21 with value: 0.8083996467460235.\u001b[0m\n",
      "\u001b[32m[I 2021-08-22 17:30:07,481]\u001b[0m Trial 54 finished with value: 0.7903854050195515 and parameters: {'dropout': 0.5, 'lr': 0.00025452326406093034, 'optimizer': <class 'tensorflow.python.keras.optimizer_v2.adam.Adam'>, 'units1': 200, 'units2': 130, 'units3': 80}. Best is trial 21 with value: 0.8083996467460235.\u001b[0m\n",
      "\u001b[32m[I 2021-08-22 17:30:46,992]\u001b[0m Trial 55 finished with value: 0.8074620575008724 and parameters: {'dropout': 0.4, 'lr': 0.004370298436356604, 'optimizer': <class 'tensorflow.python.keras.optimizer_v2.adam.Adam'>, 'units1': 110, 'units2': 100, 'units3': 90}. Best is trial 21 with value: 0.8083996467460235.\u001b[0m\n",
      "\u001b[32m[I 2021-08-22 17:31:39,676]\u001b[0m Trial 56 finished with value: 0.7959616291347826 and parameters: {'dropout': 0.4, 'lr': 0.007231541924572225, 'optimizer': <class 'tensorflow.python.keras.optimizer_v2.rmsprop.RMSprop'>, 'units1': 110, 'units2': 140, 'units3': 130}. Best is trial 21 with value: 0.8083996467460235.\u001b[0m\n",
      "\u001b[32m[I 2021-08-22 17:32:18,066]\u001b[0m Trial 57 finished with value: 0.7897850753550406 and parameters: {'dropout': 0.1, 'lr': 0.0035375313487324435, 'optimizer': <class 'tensorflow.python.keras.optimizer_v2.adam.Adam'>, 'units1': 100, 'units2': 60, 'units3': 110}. Best is trial 21 with value: 0.8083996467460235.\u001b[0m\n",
      "\u001b[32m[I 2021-08-22 17:33:00,141]\u001b[0m Trial 58 finished with value: 0.7990326799452584 and parameters: {'dropout': 0.30000000000000004, 'lr': 0.005726862147317863, 'optimizer': <class 'tensorflow.python.keras.optimizer_v2.rmsprop.RMSprop'>, 'units1': 80, 'units2': 90, 'units3': 30}. Best is trial 21 with value: 0.8083996467460235.\u001b[0m\n",
      "\u001b[32m[I 2021-08-22 17:33:40,446]\u001b[0m Trial 59 finished with value: 0.8018427228833958 and parameters: {'dropout': 0.30000000000000004, 'lr': 0.01047073395493885, 'optimizer': <class 'tensorflow.python.keras.optimizer_v2.adam.Adam'>, 'units1': 190, 'units2': 100, 'units3': 100}. Best is trial 21 with value: 0.8083996467460235.\u001b[0m\n",
      "\u001b[32m[I 2021-08-22 17:34:22,029]\u001b[0m Trial 60 finished with value: 0.7934971981660723 and parameters: {'dropout': 0.4, 'lr': 0.0003595832972944057, 'optimizer': <class 'tensorflow.python.keras.optimizer_v2.rmsprop.RMSprop'>, 'units1': 120, 'units2': 50, 'units3': 60}. Best is trial 21 with value: 0.8083996467460235.\u001b[0m\n",
      "\u001b[32m[I 2021-08-22 17:35:13,248]\u001b[0m Trial 61 finished with value: 0.7956685011714228 and parameters: {'dropout': 0.5, 'lr': 0.004435575517814321, 'optimizer': <class 'tensorflow.python.keras.optimizer_v2.adam.Adam'>, 'units1': 110, 'units2': 120, 'units3': 90}. Best is trial 21 with value: 0.8083996467460235.\u001b[0m\n",
      "\u001b[32m[I 2021-08-22 17:36:01,409]\u001b[0m Trial 62 finished with value: 0.8055505514825501 and parameters: {'dropout': 0.4, 'lr': 0.0023448261391973172, 'optimizer': <class 'tensorflow.python.keras.optimizer_v2.adam.Adam'>, 'units1': 130, 'units2': 110, 'units3': 90}. Best is trial 21 with value: 0.8083996467460235.\u001b[0m\n",
      "\u001b[32m[I 2021-08-22 17:36:36,316]\u001b[0m Trial 63 finished with value: 0.8083996467460235 and parameters: {'dropout': 0.4, 'lr': 0.002270653976154029, 'optimizer': <class 'tensorflow.python.keras.optimizer_v2.adam.Adam'>, 'units1': 90, 'units2': 80, 'units3': 110}. Best is trial 21 with value: 0.8083996467460235.\u001b[0m\n",
      "\u001b[32m[I 2021-08-22 17:37:22,557]\u001b[0m Trial 64 finished with value: 0.8020031973363311 and parameters: {'dropout': 0.4, 'lr': 0.0024135504057968362, 'optimizer': <class 'tensorflow.python.keras.optimizer_v2.adam.Adam'>, 'units1': 90, 'units2': 90, 'units3': 140}. Best is trial 21 with value: 0.8083996467460235.\u001b[0m\n",
      "\u001b[32m[I 2021-08-22 17:37:55,294]\u001b[0m Trial 65 finished with value: 0.7979566563467493 and parameters: {'dropout': 0.30000000000000004, 'lr': 0.002690441719847719, 'optimizer': <class 'tensorflow.python.keras.optimizer_v2.adam.Adam'>, 'units1': 100, 'units2': 80, 'units3': 70}. Best is trial 21 with value: 0.8083996467460235.\u001b[0m\n",
      "\u001b[32m[I 2021-08-22 17:38:38,858]\u001b[0m Trial 66 finished with value: 0.8076894414112863 and parameters: {'dropout': 0.4, 'lr': 0.0008948609159610536, 'optimizer': <class 'tensorflow.python.keras.optimizer_v2.adam.Adam'>, 'units1': 120, 'units2': 110, 'units3': 80}. Best is trial 21 with value: 0.8083996467460235.\u001b[0m\n",
      "\u001b[32m[I 2021-08-22 17:39:12,425]\u001b[0m Trial 67 finished with value: 0.797665526481214 and parameters: {'dropout': 0.4, 'lr': 0.0007842797888266929, 'optimizer': <class 'tensorflow.python.keras.optimizer_v2.adam.Adam'>, 'units1': 110, 'units2': 30, 'units3': 80}. Best is trial 21 with value: 0.8083996467460235.\u001b[0m\n",
      "\u001b[32m[I 2021-08-22 17:39:56,782]\u001b[0m Trial 68 finished with value: 0.7958339012334062 and parameters: {'dropout': 0.30000000000000004, 'lr': 0.0006163224881551359, 'optimizer': <class 'tensorflow.python.keras.optimizer_v2.adam.Adam'>, 'units1': 70, 'units2': 130, 'units3': 70}. Best is trial 21 with value: 0.8083996467460235.\u001b[0m\n",
      "\u001b[32m[I 2021-08-22 17:40:30,928]\u001b[0m Trial 69 finished with value: 0.7981826318475971 and parameters: {'dropout': 0.5, 'lr': 0.0009476787555810765, 'optimizer': <class 'tensorflow.python.keras.optimizer_v2.adam.Adam'>, 'units1': 120, 'units2': 70, 'units3': 60}. Best is trial 21 with value: 0.8083996467460235.\u001b[0m\n",
      "\u001b[32m[I 2021-08-22 17:41:06,577]\u001b[0m Trial 70 finished with value: 0.7671351221481253 and parameters: {'dropout': 0.4, 'lr': 0.020396672354593904, 'optimizer': <class 'tensorflow.python.keras.optimizer_v2.adam.Adam'>, 'units1': 80, 'units2': 100, 'units3': 50}. Best is trial 21 with value: 0.8083996467460235.\u001b[0m\n",
      "\u001b[32m[I 2021-08-22 17:41:49,999]\u001b[0m Trial 71 finished with value: 0.8061697047347272 and parameters: {'dropout': 0.4, 'lr': 0.002214115191805408, 'optimizer': <class 'tensorflow.python.keras.optimizer_v2.adam.Adam'>, 'units1': 140, 'units2': 110, 'units3': 90}. Best is trial 21 with value: 0.8083996467460235.\u001b[0m\n",
      "\u001b[32m[I 2021-08-22 17:42:34,070]\u001b[0m Trial 72 finished with value: 0.8000456168653187 and parameters: {'dropout': 0.4, 'lr': 0.00340801744199957, 'optimizer': <class 'tensorflow.python.keras.optimizer_v2.adam.Adam'>, 'units1': 140, 'units2': 120, 'units3': 120}. Best is trial 21 with value: 0.8083996467460235.\u001b[0m\n",
      "\u001b[32m[I 2021-08-22 17:43:19,019]\u001b[0m Trial 73 finished with value: 0.7949260219171259 and parameters: {'dropout': 0.30000000000000004, 'lr': 0.005651169564984063, 'optimizer': <class 'tensorflow.python.keras.optimizer_v2.adam.Adam'>, 'units1': 130, 'units2': 110, 'units3': 100}. Best is trial 21 with value: 0.8083996467460235.\u001b[0m\n",
      "\u001b[32m[I 2021-08-22 17:43:53,946]\u001b[0m Trial 74 finished with value: 0.8033448175050151 and parameters: {'dropout': 0.4, 'lr': 0.0017144050378365629, 'optimizer': <class 'tensorflow.python.keras.optimizer_v2.adam.Adam'>, 'units1': 160, 'units2': 100, 'units3': 110}. Best is trial 21 with value: 0.8083996467460235.\u001b[0m\n",
      "\u001b[32m[I 2021-08-22 17:44:27,796]\u001b[0m Trial 75 finished with value: 0.802964236112445 and parameters: {'dropout': 0.4, 'lr': 0.0012407471043216095, 'optimizer': <class 'tensorflow.python.keras.optimizer_v2.adam.Adam'>, 'units1': 100, 'units2': 50, 'units3': 130}. Best is trial 21 with value: 0.8083996467460235.\u001b[0m\n",
      "\u001b[32m[I 2021-08-22 17:45:19,895]\u001b[0m Trial 76 finished with value: 0.763457494434724 and parameters: {'dropout': 0.5, 'lr': 0.011049235012818842, 'optimizer': <class 'tensorflow.python.keras.optimizer_v2.adam.Adam'>, 'units1': 90, 'units2': 120, 'units3': 200}. Best is trial 21 with value: 0.8083996467460235.\u001b[0m\n"
     ]
    },
    {
     "name": "stderr",
     "output_type": "stream",
     "text": [
      "\u001b[32m[I 2021-08-22 17:45:54,394]\u001b[0m Trial 77 finished with value: 0.7977484611714651 and parameters: {'dropout': 0.30000000000000004, 'lr': 0.004102469501908456, 'optimizer': <class 'tensorflow.python.keras.optimizer_v2.adam.Adam'>, 'units1': 140, 'units2': 90, 'units3': 100}. Best is trial 21 with value: 0.8083996467460235.\u001b[0m\n",
      "\u001b[32m[I 2021-08-22 17:46:40,347]\u001b[0m Trial 78 finished with value: 0.7688387829634425 and parameters: {'dropout': 0.4, 'lr': 0.04126389260856586, 'optimizer': <class 'tensorflow.python.keras.optimizer_v2.adam.Adam'>, 'units1': 120, 'units2': 130, 'units3': 90}. Best is trial 21 with value: 0.8083996467460235.\u001b[0m\n",
      "\u001b[32m[I 2021-08-22 17:47:15,022]\u001b[0m Trial 79 finished with value: 0.7998054038829607 and parameters: {'dropout': 0.5, 'lr': 0.0009922814083197452, 'optimizer': <class 'tensorflow.python.keras.optimizer_v2.adam.Adam'>, 'units1': 160, 'units2': 80, 'units3': 120}. Best is trial 21 with value: 0.8083996467460235.\u001b[0m\n",
      "\u001b[32m[I 2021-08-22 17:47:59,965]\u001b[0m Trial 80 finished with value: 0.8012135306097881 and parameters: {'dropout': 0.4, 'lr': 0.001959898335631227, 'optimizer': <class 'tensorflow.python.keras.optimizer_v2.adam.Adam'>, 'units1': 100, 'units2': 110, 'units3': 80}. Best is trial 21 with value: 0.8083996467460235.\u001b[0m\n",
      "\u001b[32m[I 2021-08-22 17:48:44,604]\u001b[0m Trial 81 finished with value: 0.8088895711610093 and parameters: {'dropout': 0.4, 'lr': 0.002381402814398891, 'optimizer': <class 'tensorflow.python.keras.optimizer_v2.adam.Adam'>, 'units1': 130, 'units2': 110, 'units3': 90}. Best is trial 81 with value: 0.8088895711610093.\u001b[0m\n",
      "\u001b[32m[I 2021-08-22 17:49:29,233]\u001b[0m Trial 82 finished with value: 0.8041286358979172 and parameters: {'dropout': 0.4, 'lr': 0.001392140976174145, 'optimizer': <class 'tensorflow.python.keras.optimizer_v2.adam.Adam'>, 'units1': 150, 'units2': 110, 'units3': 80}. Best is trial 81 with value: 0.8088895711610093.\u001b[0m\n",
      "\u001b[32m[I 2021-08-22 17:50:04,676]\u001b[0m Trial 83 finished with value: 0.7992671449804389 and parameters: {'dropout': 0.4, 'lr': 0.00271172749808392, 'optimizer': <class 'tensorflow.python.keras.optimizer_v2.adam.Adam'>, 'units1': 120, 'units2': 100, 'units3': 110}. Best is trial 81 with value: 0.8088895711610093.\u001b[0m\n",
      "\u001b[32m[I 2021-08-22 17:50:48,934]\u001b[0m Trial 84 finished with value: 0.7983867406311255 and parameters: {'dropout': 0.30000000000000004, 'lr': 0.0006110734393856465, 'optimizer': <class 'tensorflow.python.keras.optimizer_v2.adam.Adam'>, 'units1': 110, 'units2': 120, 'units3': 90}. Best is trial 81 with value: 0.8088895711610093.\u001b[0m\n",
      "\u001b[32m[I 2021-08-22 17:51:25,601]\u001b[0m Trial 85 finished with value: 0.7967222867852946 and parameters: {'dropout': 0.5, 'lr': 0.0031471006960662037, 'optimizer': <class 'tensorflow.python.keras.optimizer_v2.adam.Adam'>, 'units1': 140, 'units2': 100, 'units3': 70}. Best is trial 81 with value: 0.8088895711610093.\u001b[0m\n",
      "\u001b[32m[I 2021-08-22 17:52:10,533]\u001b[0m Trial 86 finished with value: 0.8036068368364564 and parameters: {'dropout': 0.4, 'lr': 0.005826701745385496, 'optimizer': <class 'tensorflow.python.keras.optimizer_v2.adam.Adam'>, 'units1': 130, 'units2': 140, 'units3': 100}. Best is trial 81 with value: 0.8088895711610093.\u001b[0m\n",
      "\u001b[32m[I 2021-08-22 17:52:44,245]\u001b[0m Trial 87 finished with value: 0.8037773421370372 and parameters: {'dropout': 0.4, 'lr': 0.002102673709430371, 'optimizer': <class 'tensorflow.python.keras.optimizer_v2.adam.Adam'>, 'units1': 110, 'units2': 20, 'units3': 110}. Best is trial 81 with value: 0.8088895711610093.\u001b[0m\n",
      "\u001b[32m[I 2021-08-22 17:53:19,155]\u001b[0m Trial 88 finished with value: 0.7997114378080091 and parameters: {'dropout': 0.30000000000000004, 'lr': 0.0008812483342378495, 'optimizer': <class 'tensorflow.python.keras.optimizer_v2.adam.Adam'>, 'units1': 120, 'units2': 90, 'units3': 140}. Best is trial 81 with value: 0.8088895711610093.\u001b[0m\n",
      "\u001b[32m[I 2021-08-22 17:53:52,069]\u001b[0m Trial 89 finished with value: 0.790549889451537 and parameters: {'dropout': 0.4, 'lr': 0.008546888863162728, 'optimizer': <class 'tensorflow.python.keras.optimizer_v2.adam.Adam'>, 'units1': 130, 'units2': 60, 'units3': 90}. Best is trial 81 with value: 0.8088895711610093.\u001b[0m\n",
      "\u001b[32m[I 2021-08-22 17:54:43,411]\u001b[0m Trial 90 finished with value: 0.8012157109790037 and parameters: {'dropout': 0.4, 'lr': 0.00146401055620769, 'optimizer': <class 'tensorflow.python.keras.optimizer_v2.adam.Adam'>, 'units1': 100, 'units2': 110, 'units3': 120}. Best is trial 81 with value: 0.8088895711610093.\u001b[0m\n",
      "\u001b[32m[I 2021-08-22 17:55:25,698]\u001b[0m Trial 91 finished with value: 0.8051102982613728 and parameters: {'dropout': 0.4, 'lr': 0.0022152080015981615, 'optimizer': <class 'tensorflow.python.keras.optimizer_v2.adam.Adam'>, 'units1': 130, 'units2': 110, 'units3': 80}. Best is trial 81 with value: 0.8088895711610093.\u001b[0m\n",
      "\u001b[32m[I 2021-08-22 17:56:07,898]\u001b[0m Trial 92 finished with value: 0.8037773421370372 and parameters: {'dropout': 0.4, 'lr': 0.004732903831264898, 'optimizer': <class 'tensorflow.python.keras.optimizer_v2.adam.Adam'>, 'units1': 130, 'units2': 120, 'units3': 90}. Best is trial 81 with value: 0.8088895711610093.\u001b[0m\n",
      "\u001b[32m[I 2021-08-22 17:56:50,813]\u001b[0m Trial 93 finished with value: 0.7977795967309531 and parameters: {'dropout': 0.5, 'lr': 0.00040544685096632503, 'optimizer': <class 'tensorflow.python.keras.optimizer_v2.adam.Adam'>, 'units1': 120, 'units2': 130, 'units3': 100}. Best is trial 81 with value: 0.8088895711610093.\u001b[0m\n",
      "\u001b[32m[I 2021-08-22 17:57:33,120]\u001b[0m Trial 94 finished with value: 0.8015220141100756 and parameters: {'dropout': 0.30000000000000004, 'lr': 0.0011415660169800548, 'optimizer': <class 'tensorflow.python.keras.optimizer_v2.adam.Adam'>, 'units1': 140, 'units2': 110, 'units3': 130}. Best is trial 81 with value: 0.8088895711610093.\u001b[0m\n",
      "\u001b[32m[I 2021-08-22 17:58:07,504]\u001b[0m Trial 95 finished with value: 0.8037113722968741 and parameters: {'dropout': 0.4, 'lr': 0.0038051173709152744, 'optimizer': <class 'tensorflow.python.keras.optimizer_v2.adam.Adam'>, 'units1': 150, 'units2': 100, 'units3': 90}. Best is trial 81 with value: 0.8088895711610093.\u001b[0m\n",
      "\u001b[32m[I 2021-08-22 17:58:49,754]\u001b[0m Trial 96 finished with value: 0.8012548568816797 and parameters: {'dropout': 0.4, 'lr': 0.002538603223001372, 'optimizer': <class 'tensorflow.python.keras.optimizer_v2.adam.Adam'>, 'units1': 110, 'units2': 120, 'units3': 70}. Best is trial 81 with value: 0.8088895711610093.\u001b[0m\n",
      "\u001b[32m[I 2021-08-22 17:59:32,671]\u001b[0m Trial 97 finished with value: 0.8023239828788589 and parameters: {'dropout': 0.5, 'lr': 0.00176501714720552, 'optimizer': <class 'tensorflow.python.keras.optimizer_v2.adam.Adam'>, 'units1': 120, 'units2': 130, 'units3': 150}. Best is trial 81 with value: 0.8088895711610093.\u001b[0m\n",
      "\u001b[32m[I 2021-08-22 18:00:07,644]\u001b[0m Trial 98 finished with value: 0.7972274824843073 and parameters: {'dropout': 0.4, 'lr': 0.0005776276943943684, 'optimizer': <class 'tensorflow.python.keras.optimizer_v2.rmsprop.RMSprop'>, 'units1': 170, 'units2': 90, 'units3': 60}. Best is trial 81 with value: 0.8088895711610093.\u001b[0m\n",
      "\u001b[32m[I 2021-08-22 18:00:50,066]\u001b[0m Trial 99 finished with value: 0.8032942991522825 and parameters: {'dropout': 0.30000000000000004, 'lr': 0.003275247551632188, 'optimizer': <class 'tensorflow.python.keras.optimizer_v2.adam.Adam'>, 'units1': 140, 'units2': 110, 'units3': 110}. Best is trial 81 with value: 0.8088895711610093.\u001b[0m\n"
     ]
    }
   ],
   "source": [
    "study = optuna.create_study(direction='maximize')\n",
    "study.optimize(objective, n_trials=100)"
   ]
  },
  {
   "cell_type": "code",
   "execution_count": 172,
   "id": "08ee086c",
   "metadata": {},
   "outputs": [
    {
     "data": {
      "text/plain": [
       "{'dropout': 0.4452773316562999,\n",
       " 'lr': 0.0025723160267613373,\n",
       " 'optimizer': tensorflow.python.keras.optimizer_v2.rmsprop.RMSprop,\n",
       " 'units': 120}"
      ]
     },
     "execution_count": 172,
     "metadata": {},
     "output_type": "execute_result"
    }
   ],
   "source": [
    "trial = study.best_trial\n",
    "trial.params"
   ]
  },
  {
   "cell_type": "code",
   "execution_count": 175,
   "id": "e9c331a8",
   "metadata": {},
   "outputs": [
    {
     "data": {
      "text/plain": [
       "{'dropout': 0.4,\n",
       " 'lr': 0.002381402814398891,\n",
       " 'optimizer': tensorflow.python.keras.optimizer_v2.adam.Adam,\n",
       " 'units1': 130,\n",
       " 'units2': 110,\n",
       " 'units3': 90}"
      ]
     },
     "execution_count": 175,
     "metadata": {},
     "output_type": "execute_result"
    }
   ],
   "source": [
    "trial = study.best_trial\n",
    "trial.params"
   ]
  },
  {
   "cell_type": "code",
   "execution_count": null,
   "id": "d480dce7",
   "metadata": {},
   "outputs": [],
   "source": []
  }
 ],
 "metadata": {
  "kernelspec": {
   "display_name": "Python 3",
   "language": "python",
   "name": "python3"
  },
  "language_info": {
   "codemirror_mode": {
    "name": "ipython",
    "version": 3
   },
   "file_extension": ".py",
   "mimetype": "text/x-python",
   "name": "python",
   "nbconvert_exporter": "python",
   "pygments_lexer": "ipython3",
   "version": "3.7.10"
  }
 },
 "nbformat": 4,
 "nbformat_minor": 5
}
