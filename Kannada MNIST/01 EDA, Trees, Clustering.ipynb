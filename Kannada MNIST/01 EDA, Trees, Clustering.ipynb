{
 "cells": [
  {
   "cell_type": "code",
   "execution_count": 1,
   "id": "0d4df4e6",
   "metadata": {},
   "outputs": [
    {
     "name": "stderr",
     "output_type": "stream",
     "text": [
      "C:\\ProgramData\\Anaconda3\\lib\\site-packages\\sklearn\\utils\\deprecation.py:143: FutureWarning: The sklearn.utils.testing module is  deprecated in version 0.22 and will be removed in version 0.24. The corresponding classes / functions should instead be imported from sklearn.utils. Anything that cannot be imported from sklearn.utils is now part of the private API.\n",
      "  warnings.warn(message, FutureWarning)\n"
     ]
    }
   ],
   "source": [
    "from sklearn.model_selection import *\n",
    "from sklearn.metrics import *\n",
    "from sklearn.preprocessing import *\n",
    "from sklearn.pipeline import Pipeline\n",
    "from sklearn.svm import *\n",
    "from sklearn.decomposition import PCA\n",
    "from sklearn.linear_model import *\n",
    "from sklearn.naive_bayes import *\n",
    "from sklearn.cluster import *\n",
    "import imblearn\n",
    "from imblearn.over_sampling import RandomOverSampler, SMOTE\n",
    "from lazypredict.Supervised import LazyClassifier\n",
    "from sklearn.discriminant_analysis import *\n",
    "from sklearn.ensemble import *\n",
    "from lightgbm import LGBMClassifier\n",
    "from xgboost import XGBClassifier\n",
    "import optuna\n",
    "import re\n",
    "from time import time"
   ]
  },
  {
   "cell_type": "code",
   "execution_count": 2,
   "id": "33dfc718",
   "metadata": {},
   "outputs": [],
   "source": [
    "train=pd.read_csv('train.csv')\n",
    "test=pd.read_csv('test.csv')"
   ]
  },
  {
   "cell_type": "code",
   "execution_count": 3,
   "id": "3423abb5",
   "metadata": {},
   "outputs": [],
   "source": [
    "X = train.drop(columns='label', axis=1)\n",
    "y = train['label']\n",
    "\n",
    "X_train,X_val,y_train,y_val=train_test_split(X,y,shuffle=True,test_size=0.3)\n",
    "\n",
    "X_test = test.drop(columns='id', axis=1)\n",
    "\n",
    "pca = PCA(240).fit(X_train)\n",
    "X_train_pca = pca.transform(X_train)\n",
    "X_val_pca = pca.transform(X_val)\n",
    "X_test_pca = pca.transform(X_test)"
   ]
  },
  {
   "cell_type": "code",
   "execution_count": 4,
   "id": "b0e4092c",
   "metadata": {},
   "outputs": [
    {
     "data": {
      "text/plain": [
       "(42000, 784)"
      ]
     },
     "execution_count": 4,
     "metadata": {},
     "output_type": "execute_result"
    }
   ],
   "source": [
    "X_train.shape"
   ]
  },
  {
   "cell_type": "code",
   "execution_count": 4,
   "id": "c1891007",
   "metadata": {},
   "outputs": [],
   "source": [
    "def validate(model, X_train=X_train, X_val=X_val):\n",
    "    start = time()\n",
    "    model.fit(X_train, y_train)\n",
    "    stop = time()\n",
    "    print('training time:', stop-start)\n",
    "\n",
    "    y_pred = model.predict(X_val)\n",
    "    print(accuracy_score(y_pred, y_val))\n",
    "    print(classification_report(y_pred, y_val))\n",
    "    return model"
   ]
  },
  {
   "cell_type": "code",
   "execution_count": 5,
   "id": "0b7d6342",
   "metadata": {},
   "outputs": [],
   "source": [
    "random_state = 42"
   ]
  },
  {
   "cell_type": "code",
   "execution_count": 7,
   "id": "b1b847e8",
   "metadata": {},
   "outputs": [
    {
     "data": {
      "image/png": "[encoded data removed]",
      "text/plain": [
       "<Figure size 432x288 with 1 Axes>"
      ]
     },
     "metadata": {
      "needs_background": "light"
     },
     "output_type": "display_data"
    }
   ],
   "source": [
    "pca_var = pd.DataFrame(columns=['Components', 'Var explained'])\n",
    "\n",
    "for i in np.arange(10, 300, 20):\n",
    "    pca=PCA(n_components=i).fit(X)\n",
    "    sum_var = pca.explained_variance_ratio_.sum()\n",
    "    pca_var=pca_var.append({'Components':i, 'Var explained':round(sum_var, 3)}, ignore_index=True)\n",
    "\n",
    "sns.lineplot(data=pca_var, x='Components', y='Var explained');"
   ]
  },
  {
   "cell_type": "markdown",
   "id": "ce54c3c9",
   "metadata": {},
   "source": [
    "# RF"
   ]
  },
  {
   "cell_type": "code",
   "execution_count": 10,
   "id": "d0a3ec6b",
   "metadata": {
    "scrolled": false
   },
   "outputs": [
    {
     "name": "stdout",
     "output_type": "stream",
     "text": [
      "training time: 2.7805261611938477\n",
      "0.9784444444444444\n",
      "              precision    recall  f1-score   support\n",
      "\n",
      "           0       0.96      0.98      0.97      1756\n",
      "           1       0.99      0.97      0.98      1822\n",
      "           2       0.99      1.00      0.99      1767\n",
      "           3       0.97      0.96      0.97      1860\n",
      "           4       0.99      0.98      0.98      1832\n",
      "           5       0.99      0.98      0.98      1826\n",
      "           6       0.97      0.96      0.97      1844\n",
      "           7       0.96      0.97      0.96      1757\n",
      "           8       0.99      0.99      0.99      1807\n",
      "           9       0.97      0.99      0.98      1729\n",
      "\n",
      "    accuracy                           0.98     18000\n",
      "   macro avg       0.98      0.98      0.98     18000\n",
      "weighted avg       0.98      0.98      0.98     18000\n",
      "\n"
     ]
    },
    {
     "data": {
      "text/plain": [
       "RandomForestClassifier(n_jobs=-1)"
      ]
     },
     "execution_count": 10,
     "metadata": {},
     "output_type": "execute_result"
    }
   ],
   "source": [
    "clf = RandomForestClassifier(n_jobs=-1)\n",
    "validate(clf)"
   ]
  },
  {
   "cell_type": "code",
   "execution_count": 85,
   "id": "92d211e3",
   "metadata": {
    "collapsed": true
   },
   "outputs": [
    {
     "name": "stderr",
     "output_type": "stream",
     "text": [
      "\u001b[32m[I 2021-08-01 16:38:57,277]\u001b[0m A new study created in memory with name: no-name-b0c595ba-f632-4a59-a22c-249bcd0d22d1\u001b[0m\n",
      "\u001b[32m[I 2021-08-01 16:42:06,957]\u001b[0m Trial 0 finished with value: 0.9630476190476189 and parameters: {'max_depth': 64, 'n_estimators': 128, 'max_features': 661}. Best is trial 0 with value: 0.9630476190476189.\u001b[0m\n",
      "\u001b[32m[I 2021-08-01 16:42:51,680]\u001b[0m Trial 1 finished with value: 0.9748095238095238 and parameters: {'max_depth': 75, 'n_estimators': 163, 'max_features': 113}. Best is trial 1 with value: 0.9748095238095238.\u001b[0m\n",
      "\u001b[32m[I 2021-08-01 16:48:04,358]\u001b[0m Trial 2 finished with value: 0.9669761904761905 and parameters: {'max_depth': 91, 'n_estimators': 272, 'max_features': 555}. Best is trial 1 with value: 0.9748095238095238.\u001b[0m\n",
      "\u001b[32m[I 2021-08-01 16:48:11,709]\u001b[0m Trial 3 finished with value: 0.9752380952380952 and parameters: {'max_depth': 57, 'n_estimators': 204, 'max_features': 9}. Best is trial 3 with value: 0.9752380952380952.\u001b[0m\n",
      "\u001b[32m[I 2021-08-01 16:52:02,477]\u001b[0m Trial 4 finished with value: 0.9539285714285715 and parameters: {'max_depth': 17, 'n_estimators': 182, 'max_features': 782}. Best is trial 3 with value: 0.9752380952380952.\u001b[0m\n",
      "\u001b[32m[I 2021-08-01 16:52:41,591]\u001b[0m Trial 5 finished with value: 0.9756904761904762 and parameters: {'max_depth': 39, 'n_estimators': 166, 'max_features': 98}. Best is trial 5 with value: 0.9756904761904762.\u001b[0m\n",
      "\u001b[32m[I 2021-08-01 16:53:09,692]\u001b[0m Trial 6 finished with value: 0.9761190476190477 and parameters: {'max_depth': 87, 'n_estimators': 138, 'max_features': 81}. Best is trial 6 with value: 0.9761190476190477.\u001b[0m\n",
      "\u001b[32m[I 2021-08-01 16:53:44,536]\u001b[0m Trial 7 finished with value: 0.9744999999999999 and parameters: {'max_depth': 73, 'n_estimators': 117, 'max_features': 126}. Best is trial 6 with value: 0.9761190476190477.\u001b[0m\n",
      "\u001b[32m[I 2021-08-01 16:56:37,958]\u001b[0m Trial 8 finished with value: 0.9692619047619048 and parameters: {'max_depth': 73, 'n_estimators': 181, 'max_features': 442}. Best is trial 6 with value: 0.9761190476190477.\u001b[0m\n",
      "\u001b[32m[I 2021-08-01 16:57:40,568]\u001b[0m Trial 9 finished with value: 0.972452380952381 and parameters: {'max_depth': 92, 'n_estimators': 114, 'max_features': 246}. Best is trial 6 with value: 0.9761190476190477.\u001b[0m\n",
      "\u001b[32m[I 2021-08-01 17:00:16,234]\u001b[0m Trial 10 finished with value: 0.9720952380952381 and parameters: {'max_depth': 40, 'n_estimators': 236, 'max_features': 298}. Best is trial 6 with value: 0.9761190476190477.\u001b[0m\n",
      "\u001b[32m[I 2021-08-01 17:00:37,445]\u001b[0m Trial 11 finished with value: 0.9756190476190477 and parameters: {'max_depth': 36, 'n_estimators': 145, 'max_features': 56}. Best is trial 6 with value: 0.9761190476190477.\u001b[0m\n",
      "\u001b[32m[I 2021-08-01 17:01:02,597]\u001b[0m Trial 12 finished with value: 0.8327142857142857 and parameters: {'max_depth': 5, 'n_estimators': 208, 'max_features': 216}. Best is trial 6 with value: 0.9761190476190477.\u001b[0m\n",
      "\u001b[32m[I 2021-08-01 17:03:07,397]\u001b[0m Trial 13 finished with value: 0.9707380952380952 and parameters: {'max_depth': 30, 'n_estimators': 147, 'max_features': 389}. Best is trial 6 with value: 0.9761190476190477.\u001b[0m\n",
      "\u001b[32m[I 2021-08-01 17:03:22,507]\u001b[0m Trial 14 finished with value: 0.9762142857142857 and parameters: {'max_depth': 51, 'n_estimators': 167, 'max_features': 32}. Best is trial 14 with value: 0.9762142857142857.\u001b[0m\n",
      "\u001b[32m[I 2021-08-01 17:03:32,580]\u001b[0m Trial 15 finished with value: 0.9760476190476189 and parameters: {'max_depth': 95, 'n_estimators': 105, 'max_features': 33}. Best is trial 14 with value: 0.9762142857142857.\u001b[0m\n",
      "\u001b[32m[I 2021-08-01 17:05:03,170]\u001b[0m Trial 16 finished with value: 0.9740000000000001 and parameters: {'max_depth': 50, 'n_estimators': 233, 'max_features': 172}. Best is trial 14 with value: 0.9762142857142857.\u001b[0m\n",
      "\u001b[32m[I 2021-08-01 17:06:51,156]\u001b[0m Trial 17 finished with value: 0.9701904761904762 and parameters: {'max_depth': 85, 'n_estimators': 138, 'max_features': 364}. Best is trial 14 with value: 0.9762142857142857.\u001b[0m\n",
      "\u001b[32m[I 2021-08-01 17:09:20,906]\u001b[0m Trial 18 finished with value: 0.9669761904761905 and parameters: {'max_depth': 20, 'n_estimators': 163, 'max_features': 479}. Best is trial 14 with value: 0.9762142857142857.\u001b[0m\n",
      "\u001b[32m[I 2021-08-01 17:09:31,046]\u001b[0m Trial 19 finished with value: 0.9751666666666666 and parameters: {'max_depth': 53, 'n_estimators': 298, 'max_features': 7}. Best is trial 14 with value: 0.9762142857142857.\u001b[0m\n"
     ]
    }
   ],
   "source": [
    "def objective(trial):    \n",
    "    max_depth = trial.suggest_int('max_depth', 2, 100)\n",
    "    n_estimators = trial.suggest_int('n_estimators', 100, 300)\n",
    "    max_features= trial.suggest_int('max_features', 5, 784)\n",
    "        \n",
    "    model = RandomForestClassifier(n_estimators=n_estimators,\n",
    "                                   max_depth = max_depth,\n",
    "                                   max_features = max_features,\n",
    "                                   n_jobs=-1\n",
    "                                  )\n",
    "                           \n",
    "    model.fit(X_train, y_train)\n",
    "    acc = cross_val_score(model, X_train, y_train, scoring='accuracy', cv=3, n_jobs=-1).mean()\n",
    "    return acc\n",
    "\n",
    "study = optuna.create_study(direction='maximize')\n",
    "study.optimize(objective, n_trials=20)"
   ]
  },
  {
   "cell_type": "code",
   "execution_count": 86,
   "id": "ad8c537b",
   "metadata": {},
   "outputs": [
    {
     "name": "stdout",
     "output_type": "stream",
     "text": [
      "training time: 36.67931604385376\n",
      "0.9786666666666667\n",
      "              precision    recall  f1-score   support\n",
      "\n",
      "           0       0.97      0.97      0.97      1763\n",
      "           1       0.99      0.97      0.98      1820\n",
      "           2       0.99      1.00      0.99      1763\n",
      "           3       0.97      0.96      0.97      1871\n",
      "           4       0.98      0.98      0.98      1825\n",
      "           5       0.98      0.98      0.98      1826\n",
      "           6       0.97      0.96      0.97      1847\n",
      "           7       0.96      0.97      0.97      1755\n",
      "           8       0.99      1.00      0.99      1804\n",
      "           9       0.97      0.99      0.98      1726\n",
      "\n",
      "    accuracy                           0.98     18000\n",
      "   macro avg       0.98      0.98      0.98     18000\n",
      "weighted avg       0.98      0.98      0.98     18000\n",
      "\n"
     ]
    },
    {
     "data": {
      "text/plain": [
       "RandomForestClassifier(max_depth=51, max_features=32, n_estimators=167)"
      ]
     },
     "execution_count": 86,
     "metadata": {},
     "output_type": "execute_result"
    }
   ],
   "source": [
    "params = {'max_depth': 51, \n",
    "          'n_estimators': 167, \n",
    "          'max_features': 32}\n",
    "\n",
    "\n",
    "clf_tuned = RandomForestClassifier(**params)\n",
    "validate(clf_tuned)"
   ]
  },
  {
   "cell_type": "code",
   "execution_count": 12,
   "id": "20acd995",
   "metadata": {
    "scrolled": false
   },
   "outputs": [
    {
     "name": "stdout",
     "output_type": "stream",
     "text": [
      "training time: 12.731566190719604\n",
      "0.9788333333333333\n",
      "              precision    recall  f1-score   support\n",
      "\n",
      "           0       0.96      0.98      0.97      1756\n",
      "           1       0.99      0.97      0.98      1824\n",
      "           2       0.99      1.00      0.99      1765\n",
      "           3       0.97      0.96      0.97      1866\n",
      "           4       0.99      0.98      0.98      1833\n",
      "           5       0.99      0.98      0.99      1825\n",
      "           6       0.97      0.96      0.96      1850\n",
      "           7       0.95      0.97      0.96      1746\n",
      "           8       0.99      1.00      0.99      1805\n",
      "           9       0.97      0.99      0.98      1730\n",
      "\n",
      "    accuracy                           0.98     18000\n",
      "   macro avg       0.98      0.98      0.98     18000\n",
      "weighted avg       0.98      0.98      0.98     18000\n",
      "\n"
     ]
    },
    {
     "data": {
      "text/plain": [
       "RandomForestClassifier(n_estimators=500, n_jobs=-1)"
      ]
     },
     "execution_count": 12,
     "metadata": {},
     "output_type": "execute_result"
    }
   ],
   "source": [
    "clf = RandomForestClassifier(n_estimators=500, n_jobs=-1)\n",
    "validate(clf)"
   ]
  },
  {
   "cell_type": "markdown",
   "id": "3d16b049",
   "metadata": {},
   "source": [
    "# PCA"
   ]
  },
  {
   "cell_type": "code",
   "execution_count": 13,
   "id": "8b9778f9",
   "metadata": {},
   "outputs": [
    {
     "name": "stdout",
     "output_type": "stream",
     "text": [
      "training time: 58.52517771720886\n",
      "0.9613888888888888\n",
      "              precision    recall  f1-score   support\n",
      "\n",
      "           0       0.93      0.96      0.94      1741\n",
      "           1       0.99      0.95      0.97      1860\n",
      "           2       0.99      0.99      0.99      1768\n",
      "           3       0.95      0.95      0.95      1850\n",
      "           4       0.97      0.96      0.96      1831\n",
      "           5       0.98      0.97      0.97      1829\n",
      "           6       0.95      0.94      0.94      1850\n",
      "           7       0.92      0.94      0.93      1742\n",
      "           8       0.98      0.98      0.98      1803\n",
      "           9       0.96      0.98      0.97      1726\n",
      "\n",
      "    accuracy                           0.96     18000\n",
      "   macro avg       0.96      0.96      0.96     18000\n",
      "weighted avg       0.96      0.96      0.96     18000\n",
      "\n"
     ]
    },
    {
     "data": {
      "text/plain": [
       "RandomForestClassifier()"
      ]
     },
     "execution_count": 13,
     "metadata": {},
     "output_type": "execute_result"
    }
   ],
   "source": [
    "clf_pca = RandomForestClassifier()\n",
    "validate(clf_pca, X_train_pca, X_val_pca)"
   ]
  },
  {
   "cell_type": "raw",
   "id": "19713494",
   "metadata": {
    "collapsed": true
   },
   "source": [
    "def objective(trial):    \n",
    "    max_depth = trial.suggest_int('max_depth', 2, 100)\n",
    "    n_estimators = trial.suggest_int('n_estimators', 40, 300)\n",
    "    max_features= trial.suggest_int('max_features', 5, 240)\n",
    "        \n",
    "    model = RandomForestClassifier(n_estimators=n_estimators,\n",
    "                                   max_depth = max_depth,\n",
    "                                   max_features = max_features,\n",
    "                                   n_jobs=-1\n",
    "                                  )\n",
    "                           \n",
    "    model.fit(X_train_pca, y_train)\n",
    "    acc = cross_val_score(model, X_val_pca, y_val, scoring='accuracy', cv=3, n_jobs=-1).mean()\n",
    "    return acc\n",
    "\n",
    "study = optuna.create_study(direction='maximize')\n",
    "study.optimize(objective, n_trials=50)"
   ]
  },
  {
   "cell_type": "code",
   "execution_count": 14,
   "id": "72085bc1",
   "metadata": {},
   "outputs": [
    {
     "name": "stdout",
     "output_type": "stream",
     "text": [
      "training time: 2477.470538854599\n",
      "0.9591111111111111\n",
      "              precision    recall  f1-score   support\n",
      "\n",
      "           0       0.92      0.96      0.94      1705\n",
      "           1       0.98      0.94      0.96      1859\n",
      "           2       0.99      0.99      0.99      1768\n",
      "           3       0.96      0.93      0.94      1887\n",
      "           4       0.97      0.97      0.97      1814\n",
      "           5       0.97      0.97      0.97      1826\n",
      "           6       0.96      0.94      0.95      1866\n",
      "           7       0.93      0.95      0.94      1751\n",
      "           8       0.97      0.97      0.97      1810\n",
      "           9       0.95      0.98      0.96      1714\n",
      "\n",
      "    accuracy                           0.96     18000\n",
      "   macro avg       0.96      0.96      0.96     18000\n",
      "weighted avg       0.96      0.96      0.96     18000\n",
      "\n"
     ]
    },
    {
     "data": {
      "text/plain": [
       "RandomForestClassifier(criterion='entropy', max_depth=17, max_features=157,\n",
       "                       min_samples_leaf=2, n_estimators=213)"
      ]
     },
     "execution_count": 14,
     "metadata": {},
     "output_type": "execute_result"
    }
   ],
   "source": [
    "params = {'max_depth': 17, \n",
    "          'n_estimators': 213, \n",
    "          'criterion': 'entropy', \n",
    "          'min_samples_split': 2, \n",
    "          'min_samples_leaf': 2, \n",
    "          'max_features': 157}\n",
    "clf_pca_tuned = RandomForestClassifier(**params)\n",
    "validate(clf_pca_tuned, X_train_pca, X_val_pca)"
   ]
  },
  {
   "cell_type": "markdown",
   "id": "354084b6",
   "metadata": {},
   "source": [
    "# KMeans"
   ]
  },
  {
   "cell_type": "code",
   "execution_count": 17,
   "id": "fe7687f7",
   "metadata": {},
   "outputs": [
    {
     "name": "stdout",
     "output_type": "stream",
     "text": [
      "training time: 10.513549089431763\n",
      "0.10111111111111111\n",
      "              precision    recall  f1-score   support\n",
      "\n",
      "           0       0.00      0.00      0.00       925\n",
      "           1       0.00      0.00      0.00      2169\n",
      "           2       0.00      0.00      0.00      1501\n",
      "           3       0.00      0.00      0.00      1855\n",
      "           4       0.97      0.74      0.84      2380\n",
      "           5       0.01      0.01      0.01      3146\n",
      "           6       0.01      0.01      0.01      1775\n",
      "           7       0.00      0.00      0.00      1655\n",
      "           8       0.00      0.00      0.00       765\n",
      "           9       0.01      0.01      0.01      1829\n",
      "\n",
      "    accuracy                           0.10     18000\n",
      "   macro avg       0.10      0.08      0.09     18000\n",
      "weighted avg       0.13      0.10      0.11     18000\n",
      "\n"
     ]
    },
    {
     "data": {
      "text/plain": [
       "KMeans(n_clusters=10)"
      ]
     },
     "execution_count": 17,
     "metadata": {},
     "output_type": "execute_result"
    }
   ],
   "source": [
    "clf_k=KMeans(10)\n",
    "validate(clf_k)"
   ]
  },
  {
   "cell_type": "code",
   "execution_count": 22,
   "id": "10781b12",
   "metadata": {},
   "outputs": [
    {
     "data": {
      "text/plain": [
       "KMeans(n_clusters=10)"
      ]
     },
     "execution_count": 22,
     "metadata": {},
     "output_type": "execute_result"
    }
   ],
   "source": [
    "clf_k.fit(X_train, y_train)"
   ]
  },
  {
   "cell_type": "code",
   "execution_count": 9,
   "id": "2aecd40e",
   "metadata": {
    "scrolled": true
   },
   "outputs": [],
   "source": [
    "def infer_cluster_labels(kmeans, actual_labels):\n",
    "    \"\"\"\n",
    "    Associates most probable label with each cluster in KMeans model\n",
    "    returns: dictionary of clusters assigned to each label\n",
    "    \"\"\"\n",
    "\n",
    "    inferred_labels = {}\n",
    "\n",
    "    for i in range(kmeans.n_clusters):\n",
    "\n",
    "        # find index of points in cluster\n",
    "        labels = []\n",
    "        index = np.where(kmeans.labels_ == i)\n",
    "\n",
    "        # append actual labels for each point in cluster\n",
    "        labels.append(actual_labels.iloc[index])\n",
    "\n",
    "        # determine most common label\n",
    "        if len(labels[0]) == 1:\n",
    "            counts = np.bincount(labels[0])\n",
    "        else:\n",
    "            counts = np.bincount(np.squeeze(labels))\n",
    "\n",
    "        # assign the cluster to a value in the inferred_labels dictionary\n",
    "        if np.argmax(counts) in inferred_labels:\n",
    "            # append the new number to the existing array at this slot\n",
    "            inferred_labels[np.argmax(counts)].append(i)\n",
    "        else:\n",
    "            # create a new array in this slot\n",
    "            inferred_labels[np.argmax(counts)] = [i]\n",
    "\n",
    "        #print(labels)\n",
    "        #print('Cluster: {}, label: {}'.format(i, np.argmax(counts)))\n",
    "        \n",
    "    return inferred_labels  \n",
    "\n",
    "def infer_data_labels(X_labels, cluster_labels):\n",
    "    \"\"\"\n",
    "    Determines label for each array, depending on the cluster it has been assigned to.\n",
    "    returns: predicted labels for each array\n",
    "    \"\"\"\n",
    "    \n",
    "    # empty array of len(X)\n",
    "    predicted_labels = np.zeros(len(X_labels)).astype(np.uint8)\n",
    "    \n",
    "    for i, cluster in enumerate(X_labels):\n",
    "        for key, value in cluster_labels.items():\n",
    "            if cluster in value:\n",
    "                predicted_labels[i] = key\n",
    "                \n",
    "    return predicted_labels"
   ]
  },
  {
   "cell_type": "code",
   "execution_count": 63,
   "id": "87de70db",
   "metadata": {},
   "outputs": [
    {
     "name": "stdout",
     "output_type": "stream",
     "text": [
      "[3 4 6 1 0 2 3 3 5 8]\n",
      "17724    4\n",
      "40169    9\n",
      "1961     1\n",
      "33074    4\n",
      "40240    0\n",
      "19655    5\n",
      "22655    5\n",
      "50714    4\n",
      "20295    5\n",
      "17690    0\n",
      "Name: label, dtype: int64\n"
     ]
    }
   ],
   "source": [
    "cluster_labels = infer_cluster_labels(clf_k, y_train)\n",
    "X_clusters = clf_k.predict(X_val)\n",
    "predicted_labels = infer_data_labels(X_clusters, cluster_labels)\n",
    "print(predicted_labels[:10])\n",
    "print(y_train[:10])"
   ]
  },
  {
   "cell_type": "code",
   "execution_count": 65,
   "id": "99c86977",
   "metadata": {},
   "outputs": [
    {
     "data": {
      "text/plain": [
       "0.7416666666666667"
      ]
     },
     "execution_count": 65,
     "metadata": {},
     "output_type": "execute_result"
    }
   ],
   "source": [
    "accuracy_score(predicted_labels, y_val)"
   ]
  },
  {
   "cell_type": "code",
   "execution_count": 16,
   "id": "4babe54d",
   "metadata": {},
   "outputs": [
    {
     "data": {
      "text/plain": [
       "0.9200555555555555"
      ]
     },
     "execution_count": 16,
     "metadata": {},
     "output_type": "execute_result"
    }
   ],
   "source": [
    "clf_k=KMeans(81).fit(X_train, y_train)\n",
    "cluster_labels = infer_cluster_labels(clf_k, y_train)\n",
    "X_clusters = clf_k.predict(X_val)\n",
    "predicted_labels = infer_data_labels(X_clusters, cluster_labels)\n",
    "accuracy_score(predicted_labels, y_val)"
   ]
  },
  {
   "cell_type": "code",
   "execution_count": 11,
   "id": "f703648e",
   "metadata": {},
   "outputs": [],
   "source": [
    "scores=pd.DataFrame(columns=['n_clusters', 'accuracy'])\n",
    "for i in range(20, 100):\n",
    "    clf_k=KMeans(i, n_jobs=-1).fit(X_train, y_train)\n",
    "    cluster_labels = infer_cluster_labels(clf_k, y_train)\n",
    "    X_clusters = clf_k.predict(X_val)\n",
    "    predicted_labels = infer_data_labels(X_clusters, cluster_labels)\n",
    "    score = accuracy_score(predicted_labels, y_val)\n",
    "    scores=scores.append({'n_clusters':i, 'accuracy':round(score, 3)}, ignore_index=True)"
   ]
  },
  {
   "cell_type": "code",
   "execution_count": 13,
   "id": "49c9602b",
   "metadata": {},
   "outputs": [
    {
     "data": {
      "image/png": "[encoded data removed]",
      "text/plain": [
       "<Figure size 432x288 with 1 Axes>"
      ]
     },
     "metadata": {
      "needs_background": "light"
     },
     "output_type": "display_data"
    }
   ],
   "source": [
    "sns.lineplot(data=scores, x='n_clusters', y='accuracy');"
   ]
  },
  {
   "cell_type": "code",
   "execution_count": 15,
   "id": "5b647f1b",
   "metadata": {},
   "outputs": [
    {
     "data": {
      "text/html": [
       "<div>\n",
       "<style scoped>\n",
       "    .dataframe tbody tr th:only-of-type {\n",
       "        vertical-align: middle;\n",
       "    }\n",
       "\n",
       "    .dataframe tbody tr th {\n",
       "        vertical-align: top;\n",
       "    }\n",
       "\n",
       "    .dataframe thead th {\n",
       "        text-align: right;\n",
       "    }\n",
       "</style>\n",
       "<table border=\"1\" class=\"dataframe\">\n",
       "  <thead>\n",
       "    <tr style=\"text-align: right;\">\n",
       "      <th></th>\n",
       "      <th>n_clusters</th>\n",
       "      <th>accuracy</th>\n",
       "    </tr>\n",
       "  </thead>\n",
       "  <tbody>\n",
       "    <tr>\n",
       "      <th>61</th>\n",
       "      <td>81.00</td>\n",
       "      <td>0.93</td>\n",
       "    </tr>\n",
       "    <tr>\n",
       "      <th>63</th>\n",
       "      <td>83.00</td>\n",
       "      <td>0.93</td>\n",
       "    </tr>\n",
       "    <tr>\n",
       "      <th>65</th>\n",
       "      <td>85.00</td>\n",
       "      <td>0.93</td>\n",
       "    </tr>\n",
       "    <tr>\n",
       "      <th>66</th>\n",
       "      <td>86.00</td>\n",
       "      <td>0.93</td>\n",
       "    </tr>\n",
       "    <tr>\n",
       "      <th>70</th>\n",
       "      <td>90.00</td>\n",
       "      <td>0.93</td>\n",
       "    </tr>\n",
       "    <tr>\n",
       "      <th>74</th>\n",
       "      <td>94.00</td>\n",
       "      <td>0.93</td>\n",
       "    </tr>\n",
       "    <tr>\n",
       "      <th>78</th>\n",
       "      <td>98.00</td>\n",
       "      <td>0.93</td>\n",
       "    </tr>\n",
       "  </tbody>\n",
       "</table>\n",
       "</div>"
      ],
      "text/plain": [
       "    n_clusters  accuracy\n",
       "61       81.00      0.93\n",
       "63       83.00      0.93\n",
       "65       85.00      0.93\n",
       "66       86.00      0.93\n",
       "70       90.00      0.93\n",
       "74       94.00      0.93\n",
       "78       98.00      0.93"
      ]
     },
     "execution_count": 15,
     "metadata": {},
     "output_type": "execute_result"
    }
   ],
   "source": [
    "scores.loc[scores['accuracy'] > 0.93]"
   ]
  },
  {
   "cell_type": "code",
   "execution_count": 89,
   "id": "ba3c2ff7",
   "metadata": {},
   "outputs": [
    {
     "data": {
      "text/plain": [
       "0.8758888888888889"
      ]
     },
     "execution_count": 89,
     "metadata": {},
     "output_type": "execute_result"
    }
   ],
   "source": [
    "clf_k=KMeans(27).fit(X_train_pca, y_train)\n",
    "cluster_labels = infer_cluster_labels(clf_k, y_train)\n",
    "X_clusters = clf_k.predict(X_val_pca)\n",
    "predicted_labels = infer_data_labels(X_clusters, cluster_labels)\n",
    "accuracy_score(predicted_labels, y_val)"
   ]
  },
  {
   "cell_type": "code",
   "execution_count": null,
   "id": "b67ffdd6",
   "metadata": {},
   "outputs": [],
   "source": []
  }
 ],
 "metadata": {
  "kernelspec": {
   "display_name": "Python 3",
   "language": "python",
   "name": "python3"
  },
  "language_info": {
   "codemirror_mode": {
    "name": "ipython",
    "version": 3
   },
   "file_extension": ".py",
   "mimetype": "text/x-python",
   "name": "python",
   "nbconvert_exporter": "python",
   "pygments_lexer": "ipython3",
   "version": "3.7.10"
  }
 },
 "nbformat": 4,
 "nbformat_minor": 5
}
