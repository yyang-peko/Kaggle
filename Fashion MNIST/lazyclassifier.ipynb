{
 "cells": [
  {
   "cell_type": "code",
   "execution_count": 1,
   "id": "81025b53",
   "metadata": {},
   "outputs": [
    {
     "name": "stderr",
     "output_type": "stream",
     "text": [
      "C:\\Users\\Tau\\AppData\\Roaming\\Python\\Python37\\site-packages\\sklearn\\utils\\deprecation.py:143: FutureWarning: The sklearn.utils.testing module is  deprecated in version 0.22 and will be removed in version 0.24. The corresponding classes / functions should instead be imported from sklearn.utils. Anything that cannot be imported from sklearn.utils is now part of the private API.\n",
      "  warnings.warn(message, FutureWarning)\n"
     ]
    }
   ],
   "source": [
    "import pandas as pd\n",
    "import numpy as np\n",
    "import scipy as sp\n",
    "import seaborn as sns\n",
    "import matplotlib.pyplot as plt\n",
    "\n",
    "from sklearn.model_selection import *\n",
    "from sklearn.metrics import *\n",
    "from sklearn.preprocessing import *\n",
    "from sklearn.pipeline import Pipeline\n",
    "\n",
    "from mlxtend import evaluate, plotting\n",
    "\n",
    "from IPython.core.interactiveshell import InteractiveShell\n",
    "InteractiveShell.ast_node_interactivity = \"all\"\n",
    "\n",
    "from lazypredict.Supervised import LazyClassifier"
   ]
  },
  {
   "cell_type": "code",
   "execution_count": 2,
   "id": "d98a6bcc",
   "metadata": {},
   "outputs": [],
   "source": [
    "train=pd.read_csv('fashion-mnist_train.csv')\n",
    "test=pd.read_csv('fashion-mnist_test.csv')"
   ]
  },
  {
   "cell_type": "code",
   "execution_count": 7,
   "id": "19affec4",
   "metadata": {},
   "outputs": [],
   "source": [
    "y = train['label']\n",
    "X = train.drop(columns='label', axis=1)\n",
    "X = np.array(X / 255.0, dtype=np.float32)\n",
    "\n",
    "y_test = test['label']\n",
    "X_test = test.drop(columns='label', axis=1)\n",
    "X_test = np.array(X_test / 255.0, dtype=np.float32)\n",
    "\n",
    "X_train, X_val, y_train, y_val=train_test_split(X,y,shuffle=True,test_size=0.5)"
   ]
  },
  {
   "cell_type": "code",
   "execution_count": 9,
   "id": "3202171a",
   "metadata": {
    "scrolled": false
   },
   "outputs": [
    {
     "name": "stderr",
     "output_type": "stream",
     "text": [
      "  3%|▎         | 1/29 [00:46<21:41, 46.47s/it]"
     ]
    },
    {
     "name": "stdout",
     "output_type": "stream",
     "text": [
      "{'Model': 'AdaBoostClassifier', 'Accuracy': 0.4359, 'Balanced Accuracy': 0.4353423143548967, 'ROC AUC': None, 'F1 Score': 0.42410654674062803, 'Time taken': 46.47211503982544}\n"
     ]
    },
    {
     "name": "stderr",
     "output_type": "stream",
     "text": [
      "\r",
      "  7%|▋         | 2/29 [02:25<34:44, 77.20s/it]"
     ]
    },
    {
     "name": "stdout",
     "output_type": "stream",
     "text": [
      "{'Model': 'BaggingClassifier', 'Accuracy': 0.8524666666666667, 'Balanced Accuracy': 0.852451772258574, 'ROC AUC': None, 'F1 Score': 0.8508825485651355, 'Time taken': 98.71384239196777}\n"
     ]
    },
    {
     "name": "stderr",
     "output_type": "stream",
     "text": [
      "\r",
      " 10%|█         | 3/29 [02:26<18:29, 42.69s/it]"
     ]
    },
    {
     "name": "stdout",
     "output_type": "stream",
     "text": [
      "{'Model': 'BernoulliNB', 'Accuracy': 0.7025666666666667, 'Balanced Accuracy': 0.7031993378238892, 'ROC AUC': None, 'F1 Score': 0.6957699198921181, 'Time taken': 1.6169710159301758}\n"
     ]
    },
    {
     "name": "stderr",
     "output_type": "stream",
     "text": [
      "\r",
      " 14%|█▍        | 4/29 [15:23<2:18:26, 332.28s/it]"
     ]
    },
    {
     "name": "stdout",
     "output_type": "stream",
     "text": [
      "{'Model': 'CalibratedClassifierCV', 'Accuracy': 0.8377, 'Balanced Accuracy': 0.8376618098083319, 'ROC AUC': None, 'F1 Score': 0.836309732745923, 'Time taken': 776.2183628082275}\n"
     ]
    },
    {
     "name": "stderr",
     "output_type": "stream",
     "text": [
      " 21%|██        | 6/29 [15:40<55:58, 146.03s/it]  "
     ]
    },
    {
     "name": "stdout",
     "output_type": "stream",
     "text": [
      "{'Model': 'DecisionTreeClassifier', 'Accuracy': 0.784, 'Balanced Accuracy': 0.7838771649313795, 'ROC AUC': None, 'F1 Score': 0.7841679250395825, 'Time taken': 16.469475507736206}\n"
     ]
    },
    {
     "name": "stderr",
     "output_type": "stream",
     "text": [
      "\r",
      " 24%|██▍       | 7/29 [15:41<36:10, 98.67s/it] "
     ]
    },
    {
     "name": "stdout",
     "output_type": "stream",
     "text": [
      "{'Model': 'DummyClassifier', 'Accuracy': 0.10236666666666666, 'Balanced Accuracy': 0.10234703640976686, 'ROC AUC': None, 'F1 Score': 0.10240099399285564, 'Time taken': 1.1766178607940674}\n"
     ]
    },
    {
     "name": "stderr",
     "output_type": "stream",
     "text": [
      "\r",
      " 28%|██▊       | 8/29 [15:42<23:42, 67.72s/it]"
     ]
    },
    {
     "name": "stdout",
     "output_type": "stream",
     "text": [
      "{'Model': 'ExtraTreeClassifier', 'Accuracy': 0.7404666666666667, 'Balanced Accuracy': 0.7403872050776925, 'ROC AUC': None, 'F1 Score': 0.740746291002663, 'Time taken': 1.4304051399230957}\n"
     ]
    },
    {
     "name": "stderr",
     "output_type": "stream",
     "text": [
      "\r",
      " 31%|███       | 9/29 [16:02<17:32, 52.65s/it]"
     ]
    },
    {
     "name": "stdout",
     "output_type": "stream",
     "text": [
      "{'Model': 'ExtraTreesClassifier', 'Accuracy': 0.8748666666666667, 'Balanced Accuracy': 0.8749322518071821, 'ROC AUC': None, 'F1 Score': 0.8729171851971175, 'Time taken': 19.5054292678833}\n"
     ]
    },
    {
     "name": "stderr",
     "output_type": "stream",
     "text": [
      "\r",
      " 34%|███▍      | 10/29 [16:06<11:54, 37.62s/it]"
     ]
    },
    {
     "name": "stdout",
     "output_type": "stream",
     "text": [
      "{'Model': 'GaussianNB', 'Accuracy': 0.5451, 'Balanced Accuracy': 0.5456675932524142, 'ROC AUC': None, 'F1 Score': 0.5068481405001753, 'Time taken': 3.9916257858276367}\n"
     ]
    },
    {
     "name": "stderr",
     "output_type": "stream",
     "text": [
      "\r",
      " 38%|███▊      | 11/29 [28:48<1:17:46, 259.23s/it]"
     ]
    },
    {
     "name": "stdout",
     "output_type": "stream",
     "text": [
      "{'Model': 'KNeighborsClassifier', 'Accuracy': 0.8460333333333333, 'Balanced Accuracy': 0.8462224362639972, 'ROC AUC': None, 'F1 Score': 0.8454612504968058, 'Time taken': 761.6978001594543}\n"
     ]
    },
    {
     "name": "stderr",
     "output_type": "stream",
     "text": [
      "\r",
      " 41%|████▏     | 12/29 [31:05<1:02:55, 222.09s/it]"
     ]
    },
    {
     "name": "stdout",
     "output_type": "stream",
     "text": [
      "{'Model': 'LabelPropagation', 'Accuracy': 0.10056666666666667, 'Balanced Accuracy': 0.10133399629096673, 'ROC AUC': None, 'F1 Score': 0.02059881315666317, 'Time taken': 137.1357798576355}\n"
     ]
    },
    {
     "name": "stderr",
     "output_type": "stream",
     "text": [
      "\r",
      " 45%|████▍     | 13/29 [33:29<52:57, 198.62s/it]  "
     ]
    },
    {
     "name": "stdout",
     "output_type": "stream",
     "text": [
      "{'Model': 'LabelSpreading', 'Accuracy': 0.10056666666666667, 'Balanced Accuracy': 0.10133399629096673, 'ROC AUC': None, 'F1 Score': 0.02059881315666317, 'Time taken': 144.62539315223694}\n"
     ]
    },
    {
     "name": "stderr",
     "output_type": "stream",
     "text": [
      "\r",
      " 48%|████▊     | 14/29 [33:36<35:07, 140.50s/it]"
     ]
    },
    {
     "name": "stdout",
     "output_type": "stream",
     "text": [
      "{'Model': 'LinearDiscriminantAnalysis', 'Accuracy': 0.8220666666666666, 'Balanced Accuracy': 0.8221419194265117, 'ROC AUC': None, 'F1 Score': 0.822725467610568, 'Time taken': 6.187806606292725}\n"
     ]
    },
    {
     "name": "stderr",
     "output_type": "stream",
     "text": [
      "\r",
      " 52%|█████▏    | 15/29 [37:21<38:45, 166.14s/it]"
     ]
    },
    {
     "name": "stdout",
     "output_type": "stream",
     "text": [
      "{'Model': 'LinearSVC', 'Accuracy': 0.8247666666666666, 'Balanced Accuracy': 0.8248062468568349, 'ROC AUC': None, 'F1 Score': 0.8217397250507422, 'Time taken': 225.55730414390564}\n"
     ]
    },
    {
     "name": "stderr",
     "output_type": "stream",
     "text": [
      "\r",
      " 55%|█████▌    | 16/29 [37:28<25:36, 118.17s/it]"
     ]
    },
    {
     "name": "stdout",
     "output_type": "stream",
     "text": [
      "{'Model': 'LogisticRegression', 'Accuracy': 0.8424, 'Balanced Accuracy': 0.8423689464688093, 'ROC AUC': None, 'F1 Score': 0.8417690449856952, 'Time taken': 6.773152112960815}\n"
     ]
    },
    {
     "name": "stderr",
     "output_type": "stream",
     "text": [
      "\r",
      " 59%|█████▊    | 17/29 [37:29<16:36, 83.07s/it] "
     ]
    },
    {
     "name": "stdout",
     "output_type": "stream",
     "text": [
      "{'Model': 'NearestCentroid', 'Accuracy': 0.6841333333333334, 'Balanced Accuracy': 0.6844676585960089, 'ROC AUC': None, 'F1 Score': 0.6786586708768174, 'Time taken': 1.4473145008087158}\n"
     ]
    },
    {
     "name": "stderr",
     "output_type": "stream",
     "text": [
      "\r",
      " 62%|██████▏   | 18/29 [1:00:12<1:25:43, 467.63s/it]"
     ]
    },
    {
     "name": "stdout",
     "output_type": "stream",
     "text": [
      "{'Model': 'NuSVC', 'Accuracy': 0.7887, 'Balanced Accuracy': 0.7889734588025649, 'ROC AUC': None, 'F1 Score': 0.7854196520741875, 'Time taken': 1362.8462448120117}\n"
     ]
    },
    {
     "name": "stderr",
     "output_type": "stream",
     "text": [
      "\r",
      " 66%|██████▌   | 19/29 [1:00:20<54:55, 329.51s/it]  "
     ]
    },
    {
     "name": "stdout",
     "output_type": "stream",
     "text": [
      "{'Model': 'PassiveAggressiveClassifier', 'Accuracy': 0.8030666666666667, 'Balanced Accuracy': 0.8032201697652817, 'ROC AUC': None, 'F1 Score': 0.8007654819812424, 'Time taken': 7.769056558609009}\n"
     ]
    },
    {
     "name": "stderr",
     "output_type": "stream",
     "text": [
      "\r",
      " 69%|██████▉   | 20/29 [1:00:25<34:48, 232.08s/it]"
     ]
    },
    {
     "name": "stdout",
     "output_type": "stream",
     "text": [
      "{'Model': 'Perceptron', 'Accuracy': 0.7952333333333333, 'Balanced Accuracy': 0.79475934787762, 'ROC AUC': None, 'F1 Score': 0.7918586256712831, 'Time taken': 5.002543926239014}\n"
     ]
    },
    {
     "name": "stderr",
     "output_type": "stream",
     "text": [
      "\r",
      " 72%|███████▏  | 21/29 [1:00:33<21:58, 164.80s/it]"
     ]
    },
    {
     "name": "stdout",
     "output_type": "stream",
     "text": [
      "{'Model': 'QuadraticDiscriminantAnalysis', 'Accuracy': 0.28146666666666664, 'Balanced Accuracy': 0.28151473662229703, 'ROC AUC': None, 'F1 Score': 0.15756703441591108, 'Time taken': 7.942213773727417}\n"
     ]
    },
    {
     "name": "stderr",
     "output_type": "stream",
     "text": [
      "\r",
      " 76%|███████▌  | 22/29 [1:01:04<14:33, 124.72s/it]"
     ]
    },
    {
     "name": "stdout",
     "output_type": "stream",
     "text": [
      "{'Model': 'RandomForestClassifier', 'Accuracy': 0.8764, 'Balanced Accuracy': 0.8764951683796331, 'ROC AUC': None, 'F1 Score': 0.874276941510433, 'Time taken': 31.235371828079224}\n"
     ]
    },
    {
     "name": "stderr",
     "output_type": "stream",
     "text": [
      "\r",
      " 79%|███████▉  | 23/29 [1:01:06<08:46, 87.70s/it] "
     ]
    },
    {
     "name": "stdout",
     "output_type": "stream",
     "text": [
      "{'Model': 'RidgeClassifier', 'Accuracy': 0.8187, 'Balanced Accuracy': 0.8189683996330059, 'ROC AUC': None, 'F1 Score': 0.8153033002905306, 'Time taken': 1.3602354526519775}\n"
     ]
    },
    {
     "name": "stderr",
     "output_type": "stream",
     "text": [
      "\r",
      " 83%|████████▎ | 24/29 [1:01:10<05:12, 62.59s/it]"
     ]
    },
    {
     "name": "stdout",
     "output_type": "stream",
     "text": [
      "{'Model': 'RidgeClassifierCV', 'Accuracy': 0.8186333333333333, 'Balanced Accuracy': 0.8189026305723077, 'ROC AUC': None, 'F1 Score': 0.8152207823466593, 'Time taken': 3.998631000518799}\n"
     ]
    },
    {
     "name": "stderr",
     "output_type": "stream",
     "text": [
      "\r",
      " 86%|████████▌ | 25/29 [1:02:44<04:48, 72.24s/it]"
     ]
    },
    {
     "name": "stdout",
     "output_type": "stream",
     "text": [
      "{'Model': 'SGDClassifier', 'Accuracy': 0.8340666666666666, 'Balanced Accuracy': 0.8340469831197165, 'ROC AUC': None, 'F1 Score': 0.8340064340942752, 'Time taken': 94.7640733718872}\n"
     ]
    },
    {
     "name": "stderr",
     "output_type": "stream",
     "text": [
      "\r",
      " 90%|████████▉ | 26/29 [1:08:44<07:55, 158.50s/it]"
     ]
    },
    {
     "name": "stdout",
     "output_type": "stream",
     "text": [
      "{'Model': 'SVC', 'Accuracy': 0.8858333333333334, 'Balanced Accuracy': 0.8858757431149717, 'ROC AUC': None, 'F1 Score': 0.8847727749471737, 'Time taken': 359.73374342918396}\n"
     ]
    },
    {
     "name": "stderr",
     "output_type": "stream",
     "text": [
      "\r",
      " 97%|█████████▋| 28/29 [1:11:00<01:56, 116.66s/it]"
     ]
    },
    {
     "name": "stdout",
     "output_type": "stream",
     "text": [
      "{'Model': 'XGBClassifier', 'Accuracy': 0.8971333333333333, 'Balanced Accuracy': 0.8971271525590266, 'ROC AUC': None, 'F1 Score': 0.8965850065778987, 'Time taken': 135.69324922561646}\n"
     ]
    },
    {
     "name": "stderr",
     "output_type": "stream",
     "text": [
      "100%|██████████| 29/29 [1:11:46<00:00, 148.49s/it]"
     ]
    },
    {
     "name": "stdout",
     "output_type": "stream",
     "text": [
      "{'Model': 'LGBMClassifier', 'Accuracy': 0.8932, 'Balanced Accuracy': 0.8931849663340662, 'ROC AUC': None, 'F1 Score': 0.8925782382020445, 'Time taken': 45.94573211669922}\n"
     ]
    },
    {
     "name": "stderr",
     "output_type": "stream",
     "text": [
      "\n"
     ]
    }
   ],
   "source": [
    "clf = LazyClassifier(verbose=1,ignore_warnings=True, custom_metric=None)\n",
    "models,predictions = clf.fit(X_train, X_val, y_train, y_val)"
   ]
  },
  {
   "cell_type": "code",
   "execution_count": 10,
   "id": "2a0b75fd",
   "metadata": {},
   "outputs": [
    {
     "data": {
      "text/html": [
       "<div>\n",
       "<style scoped>\n",
       "    .dataframe tbody tr th:only-of-type {\n",
       "        vertical-align: middle;\n",
       "    }\n",
       "\n",
       "    .dataframe tbody tr th {\n",
       "        vertical-align: top;\n",
       "    }\n",
       "\n",
       "    .dataframe thead th {\n",
       "        text-align: right;\n",
       "    }\n",
       "</style>\n",
       "<table border=\"1\" class=\"dataframe\">\n",
       "  <thead>\n",
       "    <tr style=\"text-align: right;\">\n",
       "      <th></th>\n",
       "      <th>Accuracy</th>\n",
       "      <th>Balanced Accuracy</th>\n",
       "      <th>ROC AUC</th>\n",
       "      <th>F1 Score</th>\n",
       "      <th>Time Taken</th>\n",
       "    </tr>\n",
       "    <tr>\n",
       "      <th>Model</th>\n",
       "      <th></th>\n",
       "      <th></th>\n",
       "      <th></th>\n",
       "      <th></th>\n",
       "      <th></th>\n",
       "    </tr>\n",
       "  </thead>\n",
       "  <tbody>\n",
       "    <tr>\n",
       "      <th>XGBClassifier</th>\n",
       "      <td>0.90</td>\n",
       "      <td>0.90</td>\n",
       "      <td>None</td>\n",
       "      <td>0.90</td>\n",
       "      <td>135.69</td>\n",
       "    </tr>\n",
       "    <tr>\n",
       "      <th>LGBMClassifier</th>\n",
       "      <td>0.89</td>\n",
       "      <td>0.89</td>\n",
       "      <td>None</td>\n",
       "      <td>0.89</td>\n",
       "      <td>45.95</td>\n",
       "    </tr>\n",
       "    <tr>\n",
       "      <th>SVC</th>\n",
       "      <td>0.89</td>\n",
       "      <td>0.89</td>\n",
       "      <td>None</td>\n",
       "      <td>0.88</td>\n",
       "      <td>359.73</td>\n",
       "    </tr>\n",
       "    <tr>\n",
       "      <th>RandomForestClassifier</th>\n",
       "      <td>0.88</td>\n",
       "      <td>0.88</td>\n",
       "      <td>None</td>\n",
       "      <td>0.87</td>\n",
       "      <td>31.24</td>\n",
       "    </tr>\n",
       "    <tr>\n",
       "      <th>ExtraTreesClassifier</th>\n",
       "      <td>0.87</td>\n",
       "      <td>0.87</td>\n",
       "      <td>None</td>\n",
       "      <td>0.87</td>\n",
       "      <td>19.51</td>\n",
       "    </tr>\n",
       "    <tr>\n",
       "      <th>BaggingClassifier</th>\n",
       "      <td>0.85</td>\n",
       "      <td>0.85</td>\n",
       "      <td>None</td>\n",
       "      <td>0.85</td>\n",
       "      <td>98.71</td>\n",
       "    </tr>\n",
       "    <tr>\n",
       "      <th>KNeighborsClassifier</th>\n",
       "      <td>0.85</td>\n",
       "      <td>0.85</td>\n",
       "      <td>None</td>\n",
       "      <td>0.85</td>\n",
       "      <td>761.70</td>\n",
       "    </tr>\n",
       "    <tr>\n",
       "      <th>LogisticRegression</th>\n",
       "      <td>0.84</td>\n",
       "      <td>0.84</td>\n",
       "      <td>None</td>\n",
       "      <td>0.84</td>\n",
       "      <td>6.77</td>\n",
       "    </tr>\n",
       "    <tr>\n",
       "      <th>CalibratedClassifierCV</th>\n",
       "      <td>0.84</td>\n",
       "      <td>0.84</td>\n",
       "      <td>None</td>\n",
       "      <td>0.84</td>\n",
       "      <td>776.22</td>\n",
       "    </tr>\n",
       "    <tr>\n",
       "      <th>SGDClassifier</th>\n",
       "      <td>0.83</td>\n",
       "      <td>0.83</td>\n",
       "      <td>None</td>\n",
       "      <td>0.83</td>\n",
       "      <td>94.76</td>\n",
       "    </tr>\n",
       "    <tr>\n",
       "      <th>LinearSVC</th>\n",
       "      <td>0.82</td>\n",
       "      <td>0.82</td>\n",
       "      <td>None</td>\n",
       "      <td>0.82</td>\n",
       "      <td>225.56</td>\n",
       "    </tr>\n",
       "    <tr>\n",
       "      <th>LinearDiscriminantAnalysis</th>\n",
       "      <td>0.82</td>\n",
       "      <td>0.82</td>\n",
       "      <td>None</td>\n",
       "      <td>0.82</td>\n",
       "      <td>6.19</td>\n",
       "    </tr>\n",
       "    <tr>\n",
       "      <th>RidgeClassifier</th>\n",
       "      <td>0.82</td>\n",
       "      <td>0.82</td>\n",
       "      <td>None</td>\n",
       "      <td>0.82</td>\n",
       "      <td>1.36</td>\n",
       "    </tr>\n",
       "    <tr>\n",
       "      <th>RidgeClassifierCV</th>\n",
       "      <td>0.82</td>\n",
       "      <td>0.82</td>\n",
       "      <td>None</td>\n",
       "      <td>0.82</td>\n",
       "      <td>4.00</td>\n",
       "    </tr>\n",
       "    <tr>\n",
       "      <th>PassiveAggressiveClassifier</th>\n",
       "      <td>0.80</td>\n",
       "      <td>0.80</td>\n",
       "      <td>None</td>\n",
       "      <td>0.80</td>\n",
       "      <td>7.77</td>\n",
       "    </tr>\n",
       "    <tr>\n",
       "      <th>Perceptron</th>\n",
       "      <td>0.80</td>\n",
       "      <td>0.79</td>\n",
       "      <td>None</td>\n",
       "      <td>0.79</td>\n",
       "      <td>5.00</td>\n",
       "    </tr>\n",
       "    <tr>\n",
       "      <th>NuSVC</th>\n",
       "      <td>0.79</td>\n",
       "      <td>0.79</td>\n",
       "      <td>None</td>\n",
       "      <td>0.79</td>\n",
       "      <td>1362.85</td>\n",
       "    </tr>\n",
       "    <tr>\n",
       "      <th>DecisionTreeClassifier</th>\n",
       "      <td>0.78</td>\n",
       "      <td>0.78</td>\n",
       "      <td>None</td>\n",
       "      <td>0.78</td>\n",
       "      <td>16.47</td>\n",
       "    </tr>\n",
       "    <tr>\n",
       "      <th>ExtraTreeClassifier</th>\n",
       "      <td>0.74</td>\n",
       "      <td>0.74</td>\n",
       "      <td>None</td>\n",
       "      <td>0.74</td>\n",
       "      <td>1.43</td>\n",
       "    </tr>\n",
       "    <tr>\n",
       "      <th>BernoulliNB</th>\n",
       "      <td>0.70</td>\n",
       "      <td>0.70</td>\n",
       "      <td>None</td>\n",
       "      <td>0.70</td>\n",
       "      <td>1.62</td>\n",
       "    </tr>\n",
       "    <tr>\n",
       "      <th>NearestCentroid</th>\n",
       "      <td>0.68</td>\n",
       "      <td>0.68</td>\n",
       "      <td>None</td>\n",
       "      <td>0.68</td>\n",
       "      <td>1.45</td>\n",
       "    </tr>\n",
       "    <tr>\n",
       "      <th>GaussianNB</th>\n",
       "      <td>0.55</td>\n",
       "      <td>0.55</td>\n",
       "      <td>None</td>\n",
       "      <td>0.51</td>\n",
       "      <td>3.99</td>\n",
       "    </tr>\n",
       "    <tr>\n",
       "      <th>AdaBoostClassifier</th>\n",
       "      <td>0.44</td>\n",
       "      <td>0.44</td>\n",
       "      <td>None</td>\n",
       "      <td>0.42</td>\n",
       "      <td>46.47</td>\n",
       "    </tr>\n",
       "    <tr>\n",
       "      <th>QuadraticDiscriminantAnalysis</th>\n",
       "      <td>0.28</td>\n",
       "      <td>0.28</td>\n",
       "      <td>None</td>\n",
       "      <td>0.16</td>\n",
       "      <td>7.94</td>\n",
       "    </tr>\n",
       "    <tr>\n",
       "      <th>DummyClassifier</th>\n",
       "      <td>0.10</td>\n",
       "      <td>0.10</td>\n",
       "      <td>None</td>\n",
       "      <td>0.10</td>\n",
       "      <td>1.18</td>\n",
       "    </tr>\n",
       "    <tr>\n",
       "      <th>LabelSpreading</th>\n",
       "      <td>0.10</td>\n",
       "      <td>0.10</td>\n",
       "      <td>None</td>\n",
       "      <td>0.02</td>\n",
       "      <td>144.63</td>\n",
       "    </tr>\n",
       "    <tr>\n",
       "      <th>LabelPropagation</th>\n",
       "      <td>0.10</td>\n",
       "      <td>0.10</td>\n",
       "      <td>None</td>\n",
       "      <td>0.02</td>\n",
       "      <td>137.14</td>\n",
       "    </tr>\n",
       "  </tbody>\n",
       "</table>\n",
       "</div>"
      ],
      "text/plain": [
       "                               Accuracy  Balanced Accuracy ROC AUC  F1 Score  \\\n",
       "Model                                                                          \n",
       "XGBClassifier                      0.90               0.90    None      0.90   \n",
       "LGBMClassifier                     0.89               0.89    None      0.89   \n",
       "SVC                                0.89               0.89    None      0.88   \n",
       "RandomForestClassifier             0.88               0.88    None      0.87   \n",
       "ExtraTreesClassifier               0.87               0.87    None      0.87   \n",
       "BaggingClassifier                  0.85               0.85    None      0.85   \n",
       "KNeighborsClassifier               0.85               0.85    None      0.85   \n",
       "LogisticRegression                 0.84               0.84    None      0.84   \n",
       "CalibratedClassifierCV             0.84               0.84    None      0.84   \n",
       "SGDClassifier                      0.83               0.83    None      0.83   \n",
       "LinearSVC                          0.82               0.82    None      0.82   \n",
       "LinearDiscriminantAnalysis         0.82               0.82    None      0.82   \n",
       "RidgeClassifier                    0.82               0.82    None      0.82   \n",
       "RidgeClassifierCV                  0.82               0.82    None      0.82   \n",
       "PassiveAggressiveClassifier        0.80               0.80    None      0.80   \n",
       "Perceptron                         0.80               0.79    None      0.79   \n",
       "NuSVC                              0.79               0.79    None      0.79   \n",
       "DecisionTreeClassifier             0.78               0.78    None      0.78   \n",
       "ExtraTreeClassifier                0.74               0.74    None      0.74   \n",
       "BernoulliNB                        0.70               0.70    None      0.70   \n",
       "NearestCentroid                    0.68               0.68    None      0.68   \n",
       "GaussianNB                         0.55               0.55    None      0.51   \n",
       "AdaBoostClassifier                 0.44               0.44    None      0.42   \n",
       "QuadraticDiscriminantAnalysis      0.28               0.28    None      0.16   \n",
       "DummyClassifier                    0.10               0.10    None      0.10   \n",
       "LabelSpreading                     0.10               0.10    None      0.02   \n",
       "LabelPropagation                   0.10               0.10    None      0.02   \n",
       "\n",
       "                               Time Taken  \n",
       "Model                                      \n",
       "XGBClassifier                      135.69  \n",
       "LGBMClassifier                      45.95  \n",
       "SVC                                359.73  \n",
       "RandomForestClassifier              31.24  \n",
       "ExtraTreesClassifier                19.51  \n",
       "BaggingClassifier                   98.71  \n",
       "KNeighborsClassifier               761.70  \n",
       "LogisticRegression                   6.77  \n",
       "CalibratedClassifierCV             776.22  \n",
       "SGDClassifier                       94.76  \n",
       "LinearSVC                          225.56  \n",
       "LinearDiscriminantAnalysis           6.19  \n",
       "RidgeClassifier                      1.36  \n",
       "RidgeClassifierCV                    4.00  \n",
       "PassiveAggressiveClassifier          7.77  \n",
       "Perceptron                           5.00  \n",
       "NuSVC                             1362.85  \n",
       "DecisionTreeClassifier              16.47  \n",
       "ExtraTreeClassifier                  1.43  \n",
       "BernoulliNB                          1.62  \n",
       "NearestCentroid                      1.45  \n",
       "GaussianNB                           3.99  \n",
       "AdaBoostClassifier                  46.47  \n",
       "QuadraticDiscriminantAnalysis        7.94  \n",
       "DummyClassifier                      1.18  \n",
       "LabelSpreading                     144.63  \n",
       "LabelPropagation                   137.14  "
      ]
     },
     "execution_count": 10,
     "metadata": {},
     "output_type": "execute_result"
    }
   ],
   "source": [
    "models"
   ]
  },
  {
   "cell_type": "code",
   "execution_count": null,
   "id": "c9595b47",
   "metadata": {},
   "outputs": [],
   "source": []
  }
 ],
 "metadata": {
  "kernelspec": {
   "display_name": "Python 3",
   "language": "python",
   "name": "python3"
  },
  "language_info": {
   "codemirror_mode": {
    "name": "ipython",
    "version": 3
   },
   "file_extension": ".py",
   "mimetype": "text/x-python",
   "name": "python",
   "nbconvert_exporter": "python",
   "pygments_lexer": "ipython3",
   "version": "3.7.11"
  }
 },
 "nbformat": 4,
 "nbformat_minor": 5
}
